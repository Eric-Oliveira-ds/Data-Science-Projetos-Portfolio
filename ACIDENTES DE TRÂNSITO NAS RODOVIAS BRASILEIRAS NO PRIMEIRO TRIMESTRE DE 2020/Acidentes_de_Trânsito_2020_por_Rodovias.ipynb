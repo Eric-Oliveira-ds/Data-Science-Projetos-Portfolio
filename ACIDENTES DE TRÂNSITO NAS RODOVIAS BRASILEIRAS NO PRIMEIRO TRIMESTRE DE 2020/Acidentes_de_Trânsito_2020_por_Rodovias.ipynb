{
 "cells": [
  {
   "cell_type": "markdown",
   "metadata": {},
   "source": [
    "# **ACIDENTES DE TRÂNSITO NAS RODOVIAS BRASILEIRAS NO PRIMEIRO TRIMESTRE DE 2020.**"
   ]
  },
  {
   "cell_type": "markdown",
   "metadata": {},
   "source": [
    "![title](sunlight-flares-in-an-image-of-a-highway.jpg)"
   ]
  },
  {
   "cell_type": "markdown",
   "metadata": {},
   "source": [
    "## **A cada ano, a vida de aproximadamente 1,35 milhão de pessoas é interrompida devido a um acidente de trânsito. Entre 20 e 50 milhões de pessoas sofrem lesões não fatais, muitas delas resultando em incapacidade.**\n",
    "\n",
    "## **As lesões ocorridas no trânsito provocam perdas econômicas consideráveis para os indivíduos, suas famílias e países como um todo. Essas perdas decorrem dos custos com tratamentos (incluindo reabilitação e investigação do acidente), bem como da redução/perda de produtividade. Os acidentes de trânsito custam à maioria dos países 3% do seu produto interno bruto (PIB).**\n",
    "\n",
    "## Fonte : [OPAS/OMS-BRASIL](https://www.paho.org/bra/index.php?option=com_content&view=article&id=5147:acidentes-de-transito-folha-informativa&Itemid=779#:~:text=Cerca%20de%201%2C35%20milh%C3%A3o,decorr%C3%AAncia%20de%20acidentes%20no%20tr%C3%A2nsito%3B&text=As%20les%C3%B5es%20ocorridas%20no%20tr%C3%A2nsito,de%205%20a%2029%20anos.)"
   ]
  },
  {
   "cell_type": "markdown",
   "metadata": {},
   "source": [
    "# *Pensando no problema vivido por muitos brasileiros nestas estradas que cortam todo país, surgiu a vontade de analisar os dados referentes a estes acidentes com o intuito de encontrar informações que possam a vir ajudar a identificar possíveis melhorias para estes indicadores, diminuindo as possibilidades de acidentes.*"
   ]
  },
  {
   "cell_type": "markdown",
   "metadata": {
    "id": "MTYT6Qh9AC__"
   },
   "source": [
    "**Fonte dos dados encontra-se no seguinte link:**\n",
    "[PRF](https://portal.prf.gov.br/dados-abertos)"
   ]
  },
  {
   "cell_type": "markdown",
   "metadata": {},
   "source": [
    "# PERGUNTAS PARA RESPONDER ANALISANDO OS DADOS :\n",
    "\n",
    "### ▪ 1 - Quantas pessoas morreram neste período, nas rodovias ?\n",
    "\n",
    "### ▪ 2 - Quais são os estados com mais mortes ?\n",
    "\n",
    "### ▪ 3 - Quais são as principais causas de acidentes nas rodovias no primeiro trimestre do ano de 2020 ?\n",
    "\n",
    "### ▪ 4 - Quais são as condições climáticas onde mais ocorreram acidentes com vítimas fatais ?\n",
    "\n",
    "### ▪ 5 - Quais são as distribuições de óbitos por horários em relação aos acidentes ?\n",
    "\n",
    "### ▪ 6 - Quais as distribuições de óbitos por rodovias ?\n",
    "\n",
    "### ▪ 7 - Visualizar os dados referentes a Salvador."
   ]
  },
  {
   "cell_type": "markdown",
   "metadata": {},
   "source": [
    "# **PLANEJAMENTO**\n",
    "### **Utilizarei as seguintes ferramentas e conceitos:**\n",
    "\n",
    "▪**Linguagem de programação Python**\n",
    "\n",
    "▪**Pacotes de manipulação, análise e visualização de dados.**\n",
    "\n",
    "▪**O produto final será um relatório e um dashboard em formato HTML**"
   ]
  },
  {
   "cell_type": "markdown",
   "metadata": {
    "hide_input": false,
    "id": "wqjSNZ7k10r7"
   },
   "source": [
    "# **CAIXA DE FERRAMENTAS**"
   ]
  },
  {
   "cell_type": "code",
   "execution_count": 1,
   "metadata": {
    "ExecuteTime": {
     "end_time": "2021-03-28T23:33:42.249652Z",
     "start_time": "2021-03-28T23:33:31.160571Z"
    },
    "hide_input": false,
    "id": "ykaBT7KsrGzx",
    "scrolled": false
   },
   "outputs": [
    {
     "data": {
      "text/html": [
       "        <script type=\"text/javascript\">\n",
       "        window.PlotlyConfig = {MathJaxConfig: 'local'};\n",
       "        if (window.MathJax) {MathJax.Hub.Config({SVG: {font: \"STIX-Web\"}});}\n",
       "        if (typeof require !== 'undefined') {\n",
       "        require.undef(\"plotly\");\n",
       "        requirejs.config({\n",
       "            paths: {\n",
       "                'plotly': ['https://cdn.plot.ly/plotly-latest.min']\n",
       "            }\n",
       "        });\n",
       "        require(['plotly'], function(Plotly) {\n",
       "            window._Plotly = Plotly;\n",
       "        });\n",
       "        }\n",
       "        </script>\n",
       "        "
      ]
     },
     "metadata": {},
     "output_type": "display_data"
    },
    {
     "data": {
      "text/html": [
       "<style>.container { width:100% !important; }</style>"
      ],
      "text/plain": [
       "<IPython.core.display.HTML object>"
      ]
     },
     "metadata": {},
     "output_type": "display_data"
    }
   ],
   "source": [
    "# Manipulação de dados \n",
    "import pandas as pd \n",
    "\n",
    "# Visualização de dados \n",
    "import matplotlib.pyplot as plt\n",
    "%matplotlib inline \n",
    "plt.style.use=\"ggplot\"\n",
    "import seaborn as sns\n",
    "sns.set_style(\"darkgrid\")\n",
    "import plotly.express as px \n",
    "import plotly.offline as py\n",
    "import plotly.graph_objs as go\n",
    "from plotly.subplots import make_subplots\n",
    "py.init_notebook_mode(connected=True)\n",
    "\n",
    "# Renderização\n",
    "pd.options.display.max_columns = None\n",
    "from IPython.core.display import display, HTML\n",
    "display(HTML(\"<style>.container { width:100% !important; }</style>\"))\n",
    "\n",
    "# Ignora avisos \n",
    "import warnings \n",
    "warnings.filterwarnings('ignore')"
   ]
  },
  {
   "cell_type": "markdown",
   "metadata": {
    "id": "L2QGTVG53CPm"
   },
   "source": [
    "# **EXTRAÇÃO**"
   ]
  },
  {
   "cell_type": "code",
   "execution_count": 2,
   "metadata": {
    "ExecuteTime": {
     "end_time": "2021-03-28T23:33:43.549026Z",
     "start_time": "2021-03-28T23:33:42.285145Z"
    },
    "id": "3jn1_WYLADAW"
   },
   "outputs": [],
   "source": [
    "# Lendo o arquivo csv\n",
    "df = pd.read_csv (\"datatran2020.csv\",sep=\";\",encoding=\"ISO-8859-1\")"
   ]
  },
  {
   "cell_type": "code",
   "execution_count": 3,
   "metadata": {
    "ExecuteTime": {
     "end_time": "2021-03-28T23:33:44.060394Z",
     "start_time": "2021-03-28T23:33:43.567706Z"
    },
    "colab": {
     "base_uri": "https://localhost:8080/",
     "height": 609
    },
    "id": "vWfTBpkx9Eit",
    "outputId": "0413624e-975f-4d91-98e4-c44cef3b0cc7"
   },
   "outputs": [
    {
     "data": {
      "text/html": [
       "<div>\n",
       "<style scoped>\n",
       "    .dataframe tbody tr th:only-of-type {\n",
       "        vertical-align: middle;\n",
       "    }\n",
       "\n",
       "    .dataframe tbody tr th {\n",
       "        vertical-align: top;\n",
       "    }\n",
       "\n",
       "    .dataframe thead th {\n",
       "        text-align: right;\n",
       "    }\n",
       "</style>\n",
       "<table border=\"1\" class=\"dataframe\">\n",
       "  <thead>\n",
       "    <tr style=\"text-align: right;\">\n",
       "      <th></th>\n",
       "      <th>id</th>\n",
       "      <th>data_inversa</th>\n",
       "      <th>dia_semana</th>\n",
       "      <th>horario</th>\n",
       "      <th>uf</th>\n",
       "      <th>br</th>\n",
       "      <th>km</th>\n",
       "      <th>municipio</th>\n",
       "      <th>causa_acidente</th>\n",
       "      <th>tipo_acidente</th>\n",
       "      <th>classificacao_acidente</th>\n",
       "      <th>fase_dia</th>\n",
       "      <th>sentido_via</th>\n",
       "      <th>condicao_metereologica</th>\n",
       "      <th>tipo_pista</th>\n",
       "      <th>tracado_via</th>\n",
       "      <th>uso_solo</th>\n",
       "      <th>pessoas</th>\n",
       "      <th>mortos</th>\n",
       "      <th>feridos_leves</th>\n",
       "      <th>feridos_graves</th>\n",
       "      <th>ilesos</th>\n",
       "      <th>ignorados</th>\n",
       "      <th>feridos</th>\n",
       "      <th>veiculos</th>\n",
       "      <th>latitude</th>\n",
       "      <th>longitude</th>\n",
       "      <th>regional</th>\n",
       "      <th>delegacia</th>\n",
       "      <th>uop</th>\n",
       "    </tr>\n",
       "  </thead>\n",
       "  <tbody>\n",
       "    <tr>\n",
       "      <th>0</th>\n",
       "      <td>260031</td>\n",
       "      <td>2020-01-01</td>\n",
       "      <td>quarta-feira</td>\n",
       "      <td>01:00:00</td>\n",
       "      <td>TO</td>\n",
       "      <td>153.0</td>\n",
       "      <td>678,1</td>\n",
       "      <td>GURUPI</td>\n",
       "      <td>Animais na Pista</td>\n",
       "      <td>Atropelamento de Animal</td>\n",
       "      <td>Com Vítimas Feridas</td>\n",
       "      <td>Plena Noite</td>\n",
       "      <td>Crescente</td>\n",
       "      <td>Nublado</td>\n",
       "      <td>Simples</td>\n",
       "      <td>Reta</td>\n",
       "      <td>Não</td>\n",
       "      <td>5</td>\n",
       "      <td>0</td>\n",
       "      <td>0</td>\n",
       "      <td>5</td>\n",
       "      <td>0</td>\n",
       "      <td>0</td>\n",
       "      <td>5</td>\n",
       "      <td>1</td>\n",
       "      <td>-11,77460203</td>\n",
       "      <td>-49,10744996</td>\n",
       "      <td>SR-TO</td>\n",
       "      <td>UOP01/TO</td>\n",
       "      <td>NaN</td>\n",
       "    </tr>\n",
       "    <tr>\n",
       "      <th>1</th>\n",
       "      <td>260036</td>\n",
       "      <td>2020-01-01</td>\n",
       "      <td>quarta-feira</td>\n",
       "      <td>01:00:00</td>\n",
       "      <td>RJ</td>\n",
       "      <td>116.0</td>\n",
       "      <td>178</td>\n",
       "      <td>NOVA IGUACU</td>\n",
       "      <td>Falta de Atenção do Pedestre</td>\n",
       "      <td>Atropelamento de Pedestre</td>\n",
       "      <td>Com Vítimas Fatais</td>\n",
       "      <td>Plena Noite</td>\n",
       "      <td>Decrescente</td>\n",
       "      <td>Céu Claro</td>\n",
       "      <td>Dupla</td>\n",
       "      <td>Reta</td>\n",
       "      <td>Sim</td>\n",
       "      <td>2</td>\n",
       "      <td>1</td>\n",
       "      <td>0</td>\n",
       "      <td>0</td>\n",
       "      <td>1</td>\n",
       "      <td>0</td>\n",
       "      <td>0</td>\n",
       "      <td>1</td>\n",
       "      <td>-22,75223028</td>\n",
       "      <td>-43,4379103</td>\n",
       "      <td>SR-RJ</td>\n",
       "      <td>DEL5/1</td>\n",
       "      <td>UOP02/RJ</td>\n",
       "    </tr>\n",
       "    <tr>\n",
       "      <th>2</th>\n",
       "      <td>260037</td>\n",
       "      <td>2020-01-01</td>\n",
       "      <td>quarta-feira</td>\n",
       "      <td>01:52:00</td>\n",
       "      <td>SC</td>\n",
       "      <td>101.0</td>\n",
       "      <td>206,9</td>\n",
       "      <td>SAO JOSE</td>\n",
       "      <td>Ingestão de Álcool</td>\n",
       "      <td>Colisão lateral</td>\n",
       "      <td>Com Vítimas Feridas</td>\n",
       "      <td>Plena Noite</td>\n",
       "      <td>Crescente</td>\n",
       "      <td>Nublado</td>\n",
       "      <td>Simples</td>\n",
       "      <td>Reta</td>\n",
       "      <td>Sim</td>\n",
       "      <td>2</td>\n",
       "      <td>0</td>\n",
       "      <td>1</td>\n",
       "      <td>0</td>\n",
       "      <td>1</td>\n",
       "      <td>0</td>\n",
       "      <td>1</td>\n",
       "      <td>2</td>\n",
       "      <td>-27,59193546</td>\n",
       "      <td>-48,61824557</td>\n",
       "      <td>SR-SC</td>\n",
       "      <td>DEL8/1</td>\n",
       "      <td>UOP01/SC</td>\n",
       "    </tr>\n",
       "    <tr>\n",
       "      <th>3</th>\n",
       "      <td>260038</td>\n",
       "      <td>2020-01-01</td>\n",
       "      <td>quarta-feira</td>\n",
       "      <td>01:15:00</td>\n",
       "      <td>RO</td>\n",
       "      <td>364.0</td>\n",
       "      <td>236</td>\n",
       "      <td>CACOAL</td>\n",
       "      <td>Velocidade Incompatível</td>\n",
       "      <td>Saída de leito carroçável</td>\n",
       "      <td>Com Vítimas Feridas</td>\n",
       "      <td>Plena Noite</td>\n",
       "      <td>Decrescente</td>\n",
       "      <td>Nublado</td>\n",
       "      <td>Simples</td>\n",
       "      <td>Reta</td>\n",
       "      <td>Sim</td>\n",
       "      <td>1</td>\n",
       "      <td>0</td>\n",
       "      <td>0</td>\n",
       "      <td>1</td>\n",
       "      <td>0</td>\n",
       "      <td>0</td>\n",
       "      <td>1</td>\n",
       "      <td>1</td>\n",
       "      <td>-11,44624577</td>\n",
       "      <td>-61,43761218</td>\n",
       "      <td>SR-RO</td>\n",
       "      <td>DEL21/2</td>\n",
       "      <td>UOP02/RO</td>\n",
       "    </tr>\n",
       "    <tr>\n",
       "      <th>4</th>\n",
       "      <td>260039</td>\n",
       "      <td>2020-01-01</td>\n",
       "      <td>quarta-feira</td>\n",
       "      <td>01:30:00</td>\n",
       "      <td>PR</td>\n",
       "      <td>153.0</td>\n",
       "      <td>360</td>\n",
       "      <td>REBOUCAS</td>\n",
       "      <td>Ingestão de Álcool</td>\n",
       "      <td>Capotamento</td>\n",
       "      <td>Com Vítimas Feridas</td>\n",
       "      <td>Plena Noite</td>\n",
       "      <td>Crescente</td>\n",
       "      <td>Garoa/Chuvisco</td>\n",
       "      <td>Simples</td>\n",
       "      <td>Curva</td>\n",
       "      <td>Não</td>\n",
       "      <td>6</td>\n",
       "      <td>0</td>\n",
       "      <td>2</td>\n",
       "      <td>4</td>\n",
       "      <td>0</td>\n",
       "      <td>0</td>\n",
       "      <td>6</td>\n",
       "      <td>1</td>\n",
       "      <td>-25,67503796</td>\n",
       "      <td>-50,75089805</td>\n",
       "      <td>SR-PR</td>\n",
       "      <td>DEL7/3</td>\n",
       "      <td>UOP04/PR</td>\n",
       "    </tr>\n",
       "    <tr>\n",
       "      <th>...</th>\n",
       "      <td>...</td>\n",
       "      <td>...</td>\n",
       "      <td>...</td>\n",
       "      <td>...</td>\n",
       "      <td>...</td>\n",
       "      <td>...</td>\n",
       "      <td>...</td>\n",
       "      <td>...</td>\n",
       "      <td>...</td>\n",
       "      <td>...</td>\n",
       "      <td>...</td>\n",
       "      <td>...</td>\n",
       "      <td>...</td>\n",
       "      <td>...</td>\n",
       "      <td>...</td>\n",
       "      <td>...</td>\n",
       "      <td>...</td>\n",
       "      <td>...</td>\n",
       "      <td>...</td>\n",
       "      <td>...</td>\n",
       "      <td>...</td>\n",
       "      <td>...</td>\n",
       "      <td>...</td>\n",
       "      <td>...</td>\n",
       "      <td>...</td>\n",
       "      <td>...</td>\n",
       "      <td>...</td>\n",
       "      <td>...</td>\n",
       "      <td>...</td>\n",
       "      <td>...</td>\n",
       "    </tr>\n",
       "    <tr>\n",
       "      <th>15703</th>\n",
       "      <td>281385</td>\n",
       "      <td>2020-03-16</td>\n",
       "      <td>segunda-feira</td>\n",
       "      <td>06:48:00</td>\n",
       "      <td>MT</td>\n",
       "      <td>364.0</td>\n",
       "      <td>198</td>\n",
       "      <td>RONDONOPOLIS</td>\n",
       "      <td>Falta de Atenção à Condução</td>\n",
       "      <td>Colisão lateral</td>\n",
       "      <td>Com Vítimas Feridas</td>\n",
       "      <td>Pleno dia</td>\n",
       "      <td>Decrescente</td>\n",
       "      <td>Ignorado</td>\n",
       "      <td>Dupla</td>\n",
       "      <td>Curva</td>\n",
       "      <td>Sim</td>\n",
       "      <td>1</td>\n",
       "      <td>0</td>\n",
       "      <td>0</td>\n",
       "      <td>1</td>\n",
       "      <td>0</td>\n",
       "      <td>0</td>\n",
       "      <td>1</td>\n",
       "      <td>1</td>\n",
       "      <td>-16,49782</td>\n",
       "      <td>-54,63598</td>\n",
       "      <td>SR-MT</td>\n",
       "      <td>UOP01</td>\n",
       "      <td>DEL02</td>\n",
       "    </tr>\n",
       "    <tr>\n",
       "      <th>15704</th>\n",
       "      <td>281424</td>\n",
       "      <td>2020-02-09</td>\n",
       "      <td>domingo</td>\n",
       "      <td>20:15:00</td>\n",
       "      <td>RJ</td>\n",
       "      <td>116.0</td>\n",
       "      <td>137</td>\n",
       "      <td>DUQUE DE CAXIAS</td>\n",
       "      <td>Falta de Atenção à Condução</td>\n",
       "      <td>Atropelamento de Pedestre</td>\n",
       "      <td>Com Vítimas Feridas</td>\n",
       "      <td>Plena Noite</td>\n",
       "      <td>Crescente</td>\n",
       "      <td>Céu Claro</td>\n",
       "      <td>Dupla</td>\n",
       "      <td>Viaduto</td>\n",
       "      <td>Sim</td>\n",
       "      <td>2</td>\n",
       "      <td>0</td>\n",
       "      <td>0</td>\n",
       "      <td>1</td>\n",
       "      <td>0</td>\n",
       "      <td>1</td>\n",
       "      <td>1</td>\n",
       "      <td>1</td>\n",
       "      <td>-22,64792</td>\n",
       "      <td>-43,18201</td>\n",
       "      <td>SR-RJ</td>\n",
       "      <td>UOP02</td>\n",
       "      <td>DEL04</td>\n",
       "    </tr>\n",
       "    <tr>\n",
       "      <th>15705</th>\n",
       "      <td>281526</td>\n",
       "      <td>2020-03-29</td>\n",
       "      <td>domingo</td>\n",
       "      <td>23:00:00</td>\n",
       "      <td>BA</td>\n",
       "      <td>235.0</td>\n",
       "      <td>26,7</td>\n",
       "      <td>PEDRO ALEXANDRE</td>\n",
       "      <td>Ingestão de Álcool</td>\n",
       "      <td>Colisão frontal</td>\n",
       "      <td>Com Vítimas Fatais</td>\n",
       "      <td>Plena Noite</td>\n",
       "      <td>Crescente</td>\n",
       "      <td>Chuva</td>\n",
       "      <td>Simples</td>\n",
       "      <td>Curva</td>\n",
       "      <td>Não</td>\n",
       "      <td>5</td>\n",
       "      <td>3</td>\n",
       "      <td>1</td>\n",
       "      <td>0</td>\n",
       "      <td>0</td>\n",
       "      <td>1</td>\n",
       "      <td>1</td>\n",
       "      <td>2</td>\n",
       "      <td>-10,16386</td>\n",
       "      <td>-37,91485</td>\n",
       "      <td>SR-SE</td>\n",
       "      <td>UOP02</td>\n",
       "      <td>DEL01</td>\n",
       "    </tr>\n",
       "    <tr>\n",
       "      <th>15706</th>\n",
       "      <td>281548</td>\n",
       "      <td>2020-03-27</td>\n",
       "      <td>sexta-feira</td>\n",
       "      <td>15:20:00</td>\n",
       "      <td>SP</td>\n",
       "      <td>116.0</td>\n",
       "      <td>550,9</td>\n",
       "      <td>BARRA DO TURVO</td>\n",
       "      <td>Velocidade Incompatível</td>\n",
       "      <td>Tombamento</td>\n",
       "      <td>Com Vítimas Fatais</td>\n",
       "      <td>Pleno dia</td>\n",
       "      <td>Crescente</td>\n",
       "      <td>Céu Claro</td>\n",
       "      <td>Dupla</td>\n",
       "      <td>Reta</td>\n",
       "      <td>Não</td>\n",
       "      <td>1</td>\n",
       "      <td>1</td>\n",
       "      <td>0</td>\n",
       "      <td>0</td>\n",
       "      <td>0</td>\n",
       "      <td>0</td>\n",
       "      <td>0</td>\n",
       "      <td>1</td>\n",
       "      <td>-24,9575</td>\n",
       "      <td>-48,46441</td>\n",
       "      <td>SR-SP</td>\n",
       "      <td>UOP02</td>\n",
       "      <td>DEL05</td>\n",
       "    </tr>\n",
       "    <tr>\n",
       "      <th>15707</th>\n",
       "      <td>281571</td>\n",
       "      <td>2020-03-14</td>\n",
       "      <td>sábado</td>\n",
       "      <td>00:30:00</td>\n",
       "      <td>RJ</td>\n",
       "      <td>101.0</td>\n",
       "      <td>508</td>\n",
       "      <td>ANGRA DOS REIS</td>\n",
       "      <td>Falta de Atenção à Condução</td>\n",
       "      <td>Colisão frontal</td>\n",
       "      <td>Com Vítimas Feridas</td>\n",
       "      <td>Plena Noite</td>\n",
       "      <td>Crescente</td>\n",
       "      <td>Céu Claro</td>\n",
       "      <td>Simples</td>\n",
       "      <td>Reta</td>\n",
       "      <td>Não</td>\n",
       "      <td>5</td>\n",
       "      <td>0</td>\n",
       "      <td>5</td>\n",
       "      <td>0</td>\n",
       "      <td>0</td>\n",
       "      <td>0</td>\n",
       "      <td>5</td>\n",
       "      <td>2</td>\n",
       "      <td>-22,94164</td>\n",
       "      <td>-44,42239</td>\n",
       "      <td>SR-RJ</td>\n",
       "      <td>UOP03</td>\n",
       "      <td>DEL03</td>\n",
       "    </tr>\n",
       "  </tbody>\n",
       "</table>\n",
       "<p>15708 rows × 30 columns</p>\n",
       "</div>"
      ],
      "text/plain": [
       "           id data_inversa     dia_semana   horario  uf     br     km  \\\n",
       "0      260031   2020-01-01   quarta-feira  01:00:00  TO  153.0  678,1   \n",
       "1      260036   2020-01-01   quarta-feira  01:00:00  RJ  116.0    178   \n",
       "2      260037   2020-01-01   quarta-feira  01:52:00  SC  101.0  206,9   \n",
       "3      260038   2020-01-01   quarta-feira  01:15:00  RO  364.0    236   \n",
       "4      260039   2020-01-01   quarta-feira  01:30:00  PR  153.0    360   \n",
       "...       ...          ...            ...       ...  ..    ...    ...   \n",
       "15703  281385   2020-03-16  segunda-feira  06:48:00  MT  364.0    198   \n",
       "15704  281424   2020-02-09        domingo  20:15:00  RJ  116.0    137   \n",
       "15705  281526   2020-03-29        domingo  23:00:00  BA  235.0   26,7   \n",
       "15706  281548   2020-03-27    sexta-feira  15:20:00  SP  116.0  550,9   \n",
       "15707  281571   2020-03-14         sábado  00:30:00  RJ  101.0    508   \n",
       "\n",
       "             municipio                causa_acidente  \\\n",
       "0               GURUPI              Animais na Pista   \n",
       "1          NOVA IGUACU  Falta de Atenção do Pedestre   \n",
       "2             SAO JOSE            Ingestão de Álcool   \n",
       "3               CACOAL       Velocidade Incompatível   \n",
       "4             REBOUCAS            Ingestão de Álcool   \n",
       "...                ...                           ...   \n",
       "15703     RONDONOPOLIS   Falta de Atenção à Condução   \n",
       "15704  DUQUE DE CAXIAS   Falta de Atenção à Condução   \n",
       "15705  PEDRO ALEXANDRE            Ingestão de Álcool   \n",
       "15706   BARRA DO TURVO       Velocidade Incompatível   \n",
       "15707   ANGRA DOS REIS   Falta de Atenção à Condução   \n",
       "\n",
       "                   tipo_acidente classificacao_acidente     fase_dia  \\\n",
       "0        Atropelamento de Animal    Com Vítimas Feridas  Plena Noite   \n",
       "1      Atropelamento de Pedestre     Com Vítimas Fatais  Plena Noite   \n",
       "2                Colisão lateral    Com Vítimas Feridas  Plena Noite   \n",
       "3      Saída de leito carroçável    Com Vítimas Feridas  Plena Noite   \n",
       "4                    Capotamento    Com Vítimas Feridas  Plena Noite   \n",
       "...                          ...                    ...          ...   \n",
       "15703            Colisão lateral    Com Vítimas Feridas    Pleno dia   \n",
       "15704  Atropelamento de Pedestre    Com Vítimas Feridas  Plena Noite   \n",
       "15705            Colisão frontal     Com Vítimas Fatais  Plena Noite   \n",
       "15706                 Tombamento     Com Vítimas Fatais    Pleno dia   \n",
       "15707            Colisão frontal    Com Vítimas Feridas  Plena Noite   \n",
       "\n",
       "       sentido_via condicao_metereologica tipo_pista tracado_via uso_solo  \\\n",
       "0        Crescente                Nublado    Simples        Reta      Não   \n",
       "1      Decrescente              Céu Claro      Dupla        Reta      Sim   \n",
       "2        Crescente                Nublado    Simples        Reta      Sim   \n",
       "3      Decrescente                Nublado    Simples        Reta      Sim   \n",
       "4        Crescente         Garoa/Chuvisco    Simples       Curva      Não   \n",
       "...            ...                    ...        ...         ...      ...   \n",
       "15703  Decrescente               Ignorado      Dupla       Curva      Sim   \n",
       "15704    Crescente              Céu Claro      Dupla     Viaduto      Sim   \n",
       "15705    Crescente                  Chuva    Simples       Curva      Não   \n",
       "15706    Crescente              Céu Claro      Dupla        Reta      Não   \n",
       "15707    Crescente              Céu Claro    Simples        Reta      Não   \n",
       "\n",
       "       pessoas  mortos  feridos_leves  feridos_graves  ilesos  ignorados  \\\n",
       "0            5       0              0               5       0          0   \n",
       "1            2       1              0               0       1          0   \n",
       "2            2       0              1               0       1          0   \n",
       "3            1       0              0               1       0          0   \n",
       "4            6       0              2               4       0          0   \n",
       "...        ...     ...            ...             ...     ...        ...   \n",
       "15703        1       0              0               1       0          0   \n",
       "15704        2       0              0               1       0          1   \n",
       "15705        5       3              1               0       0          1   \n",
       "15706        1       1              0               0       0          0   \n",
       "15707        5       0              5               0       0          0   \n",
       "\n",
       "       feridos  veiculos      latitude     longitude regional delegacia  \\\n",
       "0            5         1  -11,77460203  -49,10744996    SR-TO  UOP01/TO   \n",
       "1            0         1  -22,75223028   -43,4379103    SR-RJ    DEL5/1   \n",
       "2            1         2  -27,59193546  -48,61824557    SR-SC    DEL8/1   \n",
       "3            1         1  -11,44624577  -61,43761218    SR-RO   DEL21/2   \n",
       "4            6         1  -25,67503796  -50,75089805    SR-PR    DEL7/3   \n",
       "...        ...       ...           ...           ...      ...       ...   \n",
       "15703        1         1     -16,49782     -54,63598    SR-MT     UOP01   \n",
       "15704        1         1     -22,64792     -43,18201    SR-RJ     UOP02   \n",
       "15705        1         2     -10,16386     -37,91485    SR-SE     UOP02   \n",
       "15706        0         1      -24,9575     -48,46441    SR-SP     UOP02   \n",
       "15707        5         2     -22,94164     -44,42239    SR-RJ     UOP03   \n",
       "\n",
       "            uop  \n",
       "0           NaN  \n",
       "1      UOP02/RJ  \n",
       "2      UOP01/SC  \n",
       "3      UOP02/RO  \n",
       "4      UOP04/PR  \n",
       "...         ...  \n",
       "15703     DEL02  \n",
       "15704     DEL04  \n",
       "15705     DEL01  \n",
       "15706     DEL05  \n",
       "15707     DEL03  \n",
       "\n",
       "[15708 rows x 30 columns]"
      ]
     },
     "metadata": {},
     "output_type": "display_data"
    }
   ],
   "source": [
    "# Visualização das primeiras linhas da tabela \n",
    "display(df)"
   ]
  },
  {
   "cell_type": "markdown",
   "metadata": {
    "id": "Opm67_p24RPl"
   },
   "source": [
    "# **TRANSFORMAÇÃO**"
   ]
  },
  {
   "cell_type": "code",
   "execution_count": 4,
   "metadata": {
    "ExecuteTime": {
     "end_time": "2021-03-28T23:33:44.296119Z",
     "start_time": "2021-03-28T23:33:44.080472Z"
    }
   },
   "outputs": [
    {
     "data": {
      "text/plain": [
       "id                          0\n",
       "data_inversa                0\n",
       "dia_semana                  0\n",
       "horario                     0\n",
       "uf                          0\n",
       "br                         26\n",
       "km                         26\n",
       "municipio                   0\n",
       "causa_acidente              0\n",
       "tipo_acidente               0\n",
       "classificacao_acidente      0\n",
       "fase_dia                    0\n",
       "sentido_via                 0\n",
       "condicao_metereologica      0\n",
       "tipo_pista                  0\n",
       "tracado_via                 0\n",
       "uso_solo                    0\n",
       "pessoas                     0\n",
       "mortos                      0\n",
       "feridos_leves               0\n",
       "feridos_graves              0\n",
       "ilesos                      0\n",
       "ignorados                   0\n",
       "feridos                     0\n",
       "veiculos                    0\n",
       "latitude                    0\n",
       "longitude                   0\n",
       "regional                    0\n",
       "delegacia                   0\n",
       "uop                       396\n",
       "dtype: int64"
      ]
     },
     "execution_count": 4,
     "metadata": {},
     "output_type": "execute_result"
    }
   ],
   "source": [
    "# Verificando dados nulos \n",
    "df.isnull().sum()"
   ]
  },
  {
   "cell_type": "raw",
   "metadata": {},
   "source": [
    "br - 26 dados nulos \n",
    "km - 26 dados nulos \n",
    "uop - 396 dados nulos\n",
    "\n",
    "Por enquanto irei preservalos, sem manipulação e exclusões."
   ]
  },
  {
   "cell_type": "code",
   "execution_count": 5,
   "metadata": {
    "ExecuteTime": {
     "end_time": "2021-03-28T23:33:44.762237Z",
     "start_time": "2021-03-28T23:33:44.309776Z"
    }
   },
   "outputs": [
    {
     "data": {
      "text/plain": [
       "0"
      ]
     },
     "execution_count": 5,
     "metadata": {},
     "output_type": "execute_result"
    }
   ],
   "source": [
    "# Verificando se há dado duplicado \n",
    "df.duplicated().sum()"
   ]
  },
  {
   "cell_type": "code",
   "execution_count": 6,
   "metadata": {
    "ExecuteTime": {
     "end_time": "2021-03-28T23:33:45.275720Z",
     "start_time": "2021-03-28T23:33:44.780722Z"
    },
    "colab": {
     "base_uri": "https://localhost:8080/",
     "height": 427
    },
    "id": "5Kevl-HZ4NVu",
    "outputId": "2bc0f1cf-8e27-4184-c3f9-32fdfb56707b"
   },
   "outputs": [
    {
     "data": {
      "text/html": [
       "<div>\n",
       "<style scoped>\n",
       "    .dataframe tbody tr th:only-of-type {\n",
       "        vertical-align: middle;\n",
       "    }\n",
       "\n",
       "    .dataframe tbody tr th {\n",
       "        vertical-align: top;\n",
       "    }\n",
       "\n",
       "    .dataframe thead th {\n",
       "        text-align: right;\n",
       "    }\n",
       "</style>\n",
       "<table border=\"1\" class=\"dataframe\">\n",
       "  <thead>\n",
       "    <tr style=\"text-align: right;\">\n",
       "      <th></th>\n",
       "      <th>id</th>\n",
       "      <th>br</th>\n",
       "      <th>pessoas</th>\n",
       "      <th>mortos</th>\n",
       "      <th>feridos_leves</th>\n",
       "      <th>feridos_graves</th>\n",
       "      <th>ilesos</th>\n",
       "      <th>ignorados</th>\n",
       "      <th>feridos</th>\n",
       "      <th>veiculos</th>\n",
       "    </tr>\n",
       "  </thead>\n",
       "  <tbody>\n",
       "    <tr>\n",
       "      <th>count</th>\n",
       "      <td>15708.00000</td>\n",
       "      <td>15682.000000</td>\n",
       "      <td>15708.000000</td>\n",
       "      <td>15708.000000</td>\n",
       "      <td>15708.000000</td>\n",
       "      <td>15708.000000</td>\n",
       "      <td>15708.000000</td>\n",
       "      <td>15708.000000</td>\n",
       "      <td>15708.000000</td>\n",
       "      <td>15708.000000</td>\n",
       "    </tr>\n",
       "    <tr>\n",
       "      <th>mean</th>\n",
       "      <td>269136.58728</td>\n",
       "      <td>213.320750</td>\n",
       "      <td>2.414693</td>\n",
       "      <td>0.075121</td>\n",
       "      <td>0.929654</td>\n",
       "      <td>0.264515</td>\n",
       "      <td>0.998599</td>\n",
       "      <td>0.146804</td>\n",
       "      <td>1.194169</td>\n",
       "      <td>1.630889</td>\n",
       "    </tr>\n",
       "    <tr>\n",
       "      <th>std</th>\n",
       "      <td>5211.91467</td>\n",
       "      <td>132.104677</td>\n",
       "      <td>2.067319</td>\n",
       "      <td>0.324834</td>\n",
       "      <td>1.138839</td>\n",
       "      <td>0.627866</td>\n",
       "      <td>1.599245</td>\n",
       "      <td>0.429796</td>\n",
       "      <td>1.274853</td>\n",
       "      <td>0.730333</td>\n",
       "    </tr>\n",
       "    <tr>\n",
       "      <th>min</th>\n",
       "      <td>260031.00000</td>\n",
       "      <td>10.000000</td>\n",
       "      <td>1.000000</td>\n",
       "      <td>0.000000</td>\n",
       "      <td>0.000000</td>\n",
       "      <td>0.000000</td>\n",
       "      <td>0.000000</td>\n",
       "      <td>0.000000</td>\n",
       "      <td>0.000000</td>\n",
       "      <td>1.000000</td>\n",
       "    </tr>\n",
       "    <tr>\n",
       "      <th>25%</th>\n",
       "      <td>264623.75000</td>\n",
       "      <td>101.000000</td>\n",
       "      <td>1.000000</td>\n",
       "      <td>0.000000</td>\n",
       "      <td>0.000000</td>\n",
       "      <td>0.000000</td>\n",
       "      <td>0.000000</td>\n",
       "      <td>0.000000</td>\n",
       "      <td>1.000000</td>\n",
       "      <td>1.000000</td>\n",
       "    </tr>\n",
       "    <tr>\n",
       "      <th>50%</th>\n",
       "      <td>269219.50000</td>\n",
       "      <td>158.000000</td>\n",
       "      <td>2.000000</td>\n",
       "      <td>0.000000</td>\n",
       "      <td>1.000000</td>\n",
       "      <td>0.000000</td>\n",
       "      <td>1.000000</td>\n",
       "      <td>0.000000</td>\n",
       "      <td>1.000000</td>\n",
       "      <td>2.000000</td>\n",
       "    </tr>\n",
       "    <tr>\n",
       "      <th>75%</th>\n",
       "      <td>273622.25000</td>\n",
       "      <td>343.000000</td>\n",
       "      <td>3.000000</td>\n",
       "      <td>0.000000</td>\n",
       "      <td>1.000000</td>\n",
       "      <td>0.000000</td>\n",
       "      <td>1.000000</td>\n",
       "      <td>0.000000</td>\n",
       "      <td>1.000000</td>\n",
       "      <td>2.000000</td>\n",
       "    </tr>\n",
       "    <tr>\n",
       "      <th>max</th>\n",
       "      <td>281571.00000</td>\n",
       "      <td>495.000000</td>\n",
       "      <td>73.000000</td>\n",
       "      <td>11.000000</td>\n",
       "      <td>38.000000</td>\n",
       "      <td>17.000000</td>\n",
       "      <td>73.000000</td>\n",
       "      <td>11.000000</td>\n",
       "      <td>39.000000</td>\n",
       "      <td>12.000000</td>\n",
       "    </tr>\n",
       "  </tbody>\n",
       "</table>\n",
       "</div>"
      ],
      "text/plain": [
       "                 id            br       pessoas        mortos  feridos_leves  \\\n",
       "count   15708.00000  15682.000000  15708.000000  15708.000000   15708.000000   \n",
       "mean   269136.58728    213.320750      2.414693      0.075121       0.929654   \n",
       "std      5211.91467    132.104677      2.067319      0.324834       1.138839   \n",
       "min    260031.00000     10.000000      1.000000      0.000000       0.000000   \n",
       "25%    264623.75000    101.000000      1.000000      0.000000       0.000000   \n",
       "50%    269219.50000    158.000000      2.000000      0.000000       1.000000   \n",
       "75%    273622.25000    343.000000      3.000000      0.000000       1.000000   \n",
       "max    281571.00000    495.000000     73.000000     11.000000      38.000000   \n",
       "\n",
       "       feridos_graves        ilesos     ignorados       feridos      veiculos  \n",
       "count    15708.000000  15708.000000  15708.000000  15708.000000  15708.000000  \n",
       "mean         0.264515      0.998599      0.146804      1.194169      1.630889  \n",
       "std          0.627866      1.599245      0.429796      1.274853      0.730333  \n",
       "min          0.000000      0.000000      0.000000      0.000000      1.000000  \n",
       "25%          0.000000      0.000000      0.000000      1.000000      1.000000  \n",
       "50%          0.000000      1.000000      0.000000      1.000000      2.000000  \n",
       "75%          0.000000      1.000000      0.000000      1.000000      2.000000  \n",
       "max         17.000000     73.000000     11.000000     39.000000     12.000000  "
      ]
     },
     "execution_count": 6,
     "metadata": {},
     "output_type": "execute_result"
    }
   ],
   "source": [
    "# Estatísticas descritivas de cada atributo\n",
    "df.describe()"
   ]
  },
  {
   "cell_type": "code",
   "execution_count": 7,
   "metadata": {
    "ExecuteTime": {
     "end_time": "2021-03-28T23:33:45.364069Z",
     "start_time": "2021-03-28T23:33:45.292664Z"
    },
    "colab": {
     "base_uri": "https://localhost:8080/",
     "height": 51
    },
    "hide_input": true,
    "id": "fzg5ekdWV6zY",
    "outputId": "266a8010-d1c5-4948-d4cd-29a18796d628"
   },
   "outputs": [
    {
     "name": "stdout",
     "output_type": "stream",
     "text": [
      "Data inicial dos registros: 2020-01-01\n",
      "Data final dos registros: 2020-03-31\n"
     ]
    }
   ],
   "source": [
    "print(f'Data inicial dos registros: {df.data_inversa.min ()}')\n",
    "print(f'Data final dos registros: {df.data_inversa.max ()}')"
   ]
  },
  {
   "cell_type": "markdown",
   "metadata": {
    "id": "LnIiS5dH9Ze4"
   },
   "source": [
    "# **ANÁLISE EXPLORATÓRIA**"
   ]
  },
  {
   "cell_type": "markdown",
   "metadata": {},
   "source": [
    "# *1 - Quantas pessoas morreram neste período, nas rodovias ?*"
   ]
  },
  {
   "cell_type": "code",
   "execution_count": 8,
   "metadata": {
    "ExecuteTime": {
     "end_time": "2021-03-28T23:33:45.413998Z",
     "start_time": "2021-03-28T23:33:45.390154Z"
    },
    "hide_input": false
   },
   "outputs": [
    {
     "name": "stdout",
     "output_type": "stream",
     "text": [
      "Número de mortos nos três primeiros meses de 2020 nas rodovias federais: 1180\n"
     ]
    }
   ],
   "source": [
    "# Numéro de mortos neste período\n",
    "print(f'Número de mortos nos três primeiros meses de 2020 nas rodovias federais: {df.mortos.sum()}')"
   ]
  },
  {
   "cell_type": "markdown",
   "metadata": {
    "id": "FSnB66SN9uya"
   },
   "source": [
    "# 2 - *Quais são os estados com mais mortes ?*"
   ]
  },
  {
   "cell_type": "code",
   "execution_count": 9,
   "metadata": {
    "ExecuteTime": {
     "end_time": "2021-03-28T23:33:45.599159Z",
     "start_time": "2021-03-28T23:33:45.438354Z"
    },
    "hide_input": false,
    "id": "C4ljHlJEkZNh"
   },
   "outputs": [
    {
     "data": {
      "text/html": [
       "<div>\n",
       "<style scoped>\n",
       "    .dataframe tbody tr th:only-of-type {\n",
       "        vertical-align: middle;\n",
       "    }\n",
       "\n",
       "    .dataframe tbody tr th {\n",
       "        vertical-align: top;\n",
       "    }\n",
       "\n",
       "    .dataframe thead th {\n",
       "        text-align: right;\n",
       "    }\n",
       "</style>\n",
       "<table border=\"1\" class=\"dataframe\">\n",
       "  <thead>\n",
       "    <tr style=\"text-align: right;\">\n",
       "      <th></th>\n",
       "      <th>uf</th>\n",
       "      <th>mortos</th>\n",
       "    </tr>\n",
       "  </thead>\n",
       "  <tbody>\n",
       "    <tr>\n",
       "      <th>3</th>\n",
       "      <td>AP</td>\n",
       "      <td>1</td>\n",
       "    </tr>\n",
       "    <tr>\n",
       "      <th>2</th>\n",
       "      <td>AM</td>\n",
       "      <td>2</td>\n",
       "    </tr>\n",
       "    <tr>\n",
       "      <th>0</th>\n",
       "      <td>AC</td>\n",
       "      <td>4</td>\n",
       "    </tr>\n",
       "    <tr>\n",
       "      <th>6</th>\n",
       "      <td>DF</td>\n",
       "      <td>7</td>\n",
       "    </tr>\n",
       "    <tr>\n",
       "      <th>24</th>\n",
       "      <td>SE</td>\n",
       "      <td>9</td>\n",
       "    </tr>\n",
       "    <tr>\n",
       "      <th>21</th>\n",
       "      <td>RR</td>\n",
       "      <td>13</td>\n",
       "    </tr>\n",
       "    <tr>\n",
       "      <th>1</th>\n",
       "      <td>AL</td>\n",
       "      <td>14</td>\n",
       "    </tr>\n",
       "    <tr>\n",
       "      <th>20</th>\n",
       "      <td>RO</td>\n",
       "      <td>15</td>\n",
       "    </tr>\n",
       "    <tr>\n",
       "      <th>14</th>\n",
       "      <td>PB</td>\n",
       "      <td>17</td>\n",
       "    </tr>\n",
       "    <tr>\n",
       "      <th>19</th>\n",
       "      <td>RN</td>\n",
       "      <td>21</td>\n",
       "    </tr>\n",
       "    <tr>\n",
       "      <th>26</th>\n",
       "      <td>TO</td>\n",
       "      <td>22</td>\n",
       "    </tr>\n",
       "    <tr>\n",
       "      <th>7</th>\n",
       "      <td>ES</td>\n",
       "      <td>24</td>\n",
       "    </tr>\n",
       "    <tr>\n",
       "      <th>11</th>\n",
       "      <td>MS</td>\n",
       "      <td>26</td>\n",
       "    </tr>\n",
       "    <tr>\n",
       "      <th>16</th>\n",
       "      <td>PI</td>\n",
       "      <td>33</td>\n",
       "    </tr>\n",
       "    <tr>\n",
       "      <th>5</th>\n",
       "      <td>CE</td>\n",
       "      <td>35</td>\n",
       "    </tr>\n",
       "    <tr>\n",
       "      <th>13</th>\n",
       "      <td>PA</td>\n",
       "      <td>38</td>\n",
       "    </tr>\n",
       "    <tr>\n",
       "      <th>9</th>\n",
       "      <td>MA</td>\n",
       "      <td>40</td>\n",
       "    </tr>\n",
       "    <tr>\n",
       "      <th>12</th>\n",
       "      <td>MT</td>\n",
       "      <td>43</td>\n",
       "    </tr>\n",
       "    <tr>\n",
       "      <th>22</th>\n",
       "      <td>RS</td>\n",
       "      <td>47</td>\n",
       "    </tr>\n",
       "    <tr>\n",
       "      <th>8</th>\n",
       "      <td>GO</td>\n",
       "      <td>54</td>\n",
       "    </tr>\n",
       "    <tr>\n",
       "      <th>18</th>\n",
       "      <td>RJ</td>\n",
       "      <td>61</td>\n",
       "    </tr>\n",
       "    <tr>\n",
       "      <th>25</th>\n",
       "      <td>SP</td>\n",
       "      <td>67</td>\n",
       "    </tr>\n",
       "    <tr>\n",
       "      <th>15</th>\n",
       "      <td>PE</td>\n",
       "      <td>75</td>\n",
       "    </tr>\n",
       "    <tr>\n",
       "      <th>23</th>\n",
       "      <td>SC</td>\n",
       "      <td>90</td>\n",
       "    </tr>\n",
       "    <tr>\n",
       "      <th>17</th>\n",
       "      <td>PR</td>\n",
       "      <td>117</td>\n",
       "    </tr>\n",
       "    <tr>\n",
       "      <th>4</th>\n",
       "      <td>BA</td>\n",
       "      <td>132</td>\n",
       "    </tr>\n",
       "    <tr>\n",
       "      <th>10</th>\n",
       "      <td>MG</td>\n",
       "      <td>173</td>\n",
       "    </tr>\n",
       "  </tbody>\n",
       "</table>\n",
       "</div>"
      ],
      "text/plain": [
       "    uf  mortos\n",
       "3   AP       1\n",
       "2   AM       2\n",
       "0   AC       4\n",
       "6   DF       7\n",
       "24  SE       9\n",
       "21  RR      13\n",
       "1   AL      14\n",
       "20  RO      15\n",
       "14  PB      17\n",
       "19  RN      21\n",
       "26  TO      22\n",
       "7   ES      24\n",
       "11  MS      26\n",
       "16  PI      33\n",
       "5   CE      35\n",
       "13  PA      38\n",
       "9   MA      40\n",
       "12  MT      43\n",
       "22  RS      47\n",
       "8   GO      54\n",
       "18  RJ      61\n",
       "25  SP      67\n",
       "15  PE      75\n",
       "23  SC      90\n",
       "17  PR     117\n",
       "4   BA     132\n",
       "10  MG     173"
      ]
     },
     "execution_count": 9,
     "metadata": {},
     "output_type": "execute_result"
    }
   ],
   "source": [
    "# Agrupando estados por número de mortos\n",
    "mortos_uf = df.groupby(\n",
    "    by=\"uf\")[\"mortos\"].sum().to_frame().reset_index().sort_values(\n",
    "        by='mortos', ascending=True)\n",
    "mortos_uf"
   ]
  },
  {
   "cell_type": "code",
   "execution_count": 10,
   "metadata": {
    "ExecuteTime": {
     "end_time": "2021-03-28T23:33:50.574948Z",
     "start_time": "2021-03-28T23:33:45.617383Z"
    },
    "colab": {
     "base_uri": "https://localhost:8080/",
     "height": 152
    },
    "hide_input": false,
    "id": "udKI9cyWaYaT",
    "outputId": "6ce6de0f-34f1-4d2b-cfcb-cd2fc95f1ed5",
    "scrolled": false
   },
   "outputs": [
    {
     "data": {
      "image/png": "[encoded data removed]",
      "text/plain": [
       "<Figure size 1080x504 with 1 Axes>"
      ]
     },
     "metadata": {},
     "output_type": "display_data"
    }
   ],
   "source": [
    "# figura do tipo gráfico de barras\n",
    "plt.figure(figsize=(15, 7))\n",
    "sns.barplot(data=mortos_uf, x='uf', y='mortos', color='Black')\n",
    "plt.title(\n",
    "    \"Números de Mortos nas Rodovias do Brasil por Estado no primeiro trimestre de 2020\",\n",
    "    fontsize=20);"
   ]
  },
  {
   "cell_type": "markdown",
   "metadata": {
    "id": "QpDePZYIDatg"
   },
   "source": [
    "# 3 - *Quais são as principais causas de acidentes nas rodovias no primeiro trimestre do ano de 2020 ?*"
   ]
  },
  {
   "cell_type": "code",
   "execution_count": 11,
   "metadata": {
    "ExecuteTime": {
     "end_time": "2021-03-28T23:33:50.660418Z",
     "start_time": "2021-03-28T23:33:50.592667Z"
    },
    "id": "iBkmueGJU_L1"
   },
   "outputs": [],
   "source": [
    "# Causas de acidentes agrupadas por contagens de frequências\n",
    "causa_acidente = df.causa_acidente.value_counts().to_frame().reset_index()"
   ]
  },
  {
   "cell_type": "code",
   "execution_count": 12,
   "metadata": {
    "ExecuteTime": {
     "end_time": "2021-03-28T23:33:50.698607Z",
     "start_time": "2021-03-28T23:33:50.675354Z"
    },
    "colab": {
     "base_uri": "https://localhost:8080/",
     "height": 1000
    },
    "hide_input": false,
    "id": "7Q6uLOHtd5Y-",
    "outputId": "083fff54-f13a-4d65-bc09-eadb12ac4866",
    "scrolled": true
   },
   "outputs": [],
   "source": [
    "# Ordenando do maior para o menor a tabela \n",
    "causa_acidente.sort_values(by='causa_acidente',ascending = False,inplace=True)"
   ]
  },
  {
   "cell_type": "code",
   "execution_count": 13,
   "metadata": {
    "ExecuteTime": {
     "end_time": "2021-03-28T23:33:50.822519Z",
     "start_time": "2021-03-28T23:33:50.714125Z"
    }
   },
   "outputs": [
    {
     "data": {
      "text/html": [
       "<div>\n",
       "<style scoped>\n",
       "    .dataframe tbody tr th:only-of-type {\n",
       "        vertical-align: middle;\n",
       "    }\n",
       "\n",
       "    .dataframe tbody tr th {\n",
       "        vertical-align: top;\n",
       "    }\n",
       "\n",
       "    .dataframe thead th {\n",
       "        text-align: right;\n",
       "    }\n",
       "</style>\n",
       "<table border=\"1\" class=\"dataframe\">\n",
       "  <thead>\n",
       "    <tr style=\"text-align: right;\">\n",
       "      <th></th>\n",
       "      <th>index</th>\n",
       "      <th>causa_acidente</th>\n",
       "    </tr>\n",
       "  </thead>\n",
       "  <tbody>\n",
       "    <tr>\n",
       "      <th>0</th>\n",
       "      <td>Falta de Atenção à Condução</td>\n",
       "      <td>5277</td>\n",
       "    </tr>\n",
       "    <tr>\n",
       "      <th>1</th>\n",
       "      <td>Desobediência às normas de trânsito pelo condutor</td>\n",
       "      <td>1976</td>\n",
       "    </tr>\n",
       "    <tr>\n",
       "      <th>2</th>\n",
       "      <td>Velocidade Incompatível</td>\n",
       "      <td>1528</td>\n",
       "    </tr>\n",
       "    <tr>\n",
       "      <th>3</th>\n",
       "      <td>Ingestão de Álcool</td>\n",
       "      <td>1220</td>\n",
       "    </tr>\n",
       "    <tr>\n",
       "      <th>4</th>\n",
       "      <td>Defeito Mecânico no Veículo</td>\n",
       "      <td>942</td>\n",
       "    </tr>\n",
       "    <tr>\n",
       "      <th>5</th>\n",
       "      <td>Não guardar distância de segurança</td>\n",
       "      <td>934</td>\n",
       "    </tr>\n",
       "    <tr>\n",
       "      <th>6</th>\n",
       "      <td>Pista Escorregadia</td>\n",
       "      <td>702</td>\n",
       "    </tr>\n",
       "    <tr>\n",
       "      <th>7</th>\n",
       "      <td>Condutor Dormindo</td>\n",
       "      <td>618</td>\n",
       "    </tr>\n",
       "    <tr>\n",
       "      <th>8</th>\n",
       "      <td>Falta de Atenção do Pedestre</td>\n",
       "      <td>438</td>\n",
       "    </tr>\n",
       "    <tr>\n",
       "      <th>9</th>\n",
       "      <td>Animais na Pista</td>\n",
       "      <td>388</td>\n",
       "    </tr>\n",
       "    <tr>\n",
       "      <th>10</th>\n",
       "      <td>Defeito na Via</td>\n",
       "      <td>305</td>\n",
       "    </tr>\n",
       "    <tr>\n",
       "      <th>11</th>\n",
       "      <td>Avarias e/ou desgaste excessivo no pneu</td>\n",
       "      <td>261</td>\n",
       "    </tr>\n",
       "    <tr>\n",
       "      <th>12</th>\n",
       "      <td>Ultrapassagem Indevida</td>\n",
       "      <td>252</td>\n",
       "    </tr>\n",
       "    <tr>\n",
       "      <th>13</th>\n",
       "      <td>Mal Súbito</td>\n",
       "      <td>156</td>\n",
       "    </tr>\n",
       "    <tr>\n",
       "      <th>14</th>\n",
       "      <td>Restrição de Visibilidade</td>\n",
       "      <td>111</td>\n",
       "    </tr>\n",
       "    <tr>\n",
       "      <th>15</th>\n",
       "      <td>Objeto estático sobre o leito carroçável</td>\n",
       "      <td>106</td>\n",
       "    </tr>\n",
       "    <tr>\n",
       "      <th>16</th>\n",
       "      <td>Agressão Externa</td>\n",
       "      <td>96</td>\n",
       "    </tr>\n",
       "    <tr>\n",
       "      <th>17</th>\n",
       "      <td>Desobediência às normas de trânsito pelo pedestre</td>\n",
       "      <td>92</td>\n",
       "    </tr>\n",
       "    <tr>\n",
       "      <th>18</th>\n",
       "      <td>Ingestão de álcool e/ou substâncias psicoativa...</td>\n",
       "      <td>84</td>\n",
       "    </tr>\n",
       "    <tr>\n",
       "      <th>19</th>\n",
       "      <td>Carga excessiva e/ou mal acondicionada</td>\n",
       "      <td>77</td>\n",
       "    </tr>\n",
       "    <tr>\n",
       "      <th>20</th>\n",
       "      <td>Fenômenos da Natureza</td>\n",
       "      <td>57</td>\n",
       "    </tr>\n",
       "    <tr>\n",
       "      <th>21</th>\n",
       "      <td>Sinalização da via insuficiente ou inadequada</td>\n",
       "      <td>39</td>\n",
       "    </tr>\n",
       "    <tr>\n",
       "      <th>22</th>\n",
       "      <td>Deficiência ou não Acionamento do Sistema de I...</td>\n",
       "      <td>30</td>\n",
       "    </tr>\n",
       "    <tr>\n",
       "      <th>23</th>\n",
       "      <td>Ingestão de Substâncias Psicoativas</td>\n",
       "      <td>19</td>\n",
       "    </tr>\n",
       "  </tbody>\n",
       "</table>\n",
       "</div>"
      ],
      "text/plain": [
       "                                                index  causa_acidente\n",
       "0                         Falta de Atenção à Condução            5277\n",
       "1   Desobediência às normas de trânsito pelo condutor            1976\n",
       "2                             Velocidade Incompatível            1528\n",
       "3                                  Ingestão de Álcool            1220\n",
       "4                         Defeito Mecânico no Veículo             942\n",
       "5                  Não guardar distância de segurança             934\n",
       "6                                  Pista Escorregadia             702\n",
       "7                                   Condutor Dormindo             618\n",
       "8                        Falta de Atenção do Pedestre             438\n",
       "9                                    Animais na Pista             388\n",
       "10                                     Defeito na Via             305\n",
       "11            Avarias e/ou desgaste excessivo no pneu             261\n",
       "12                             Ultrapassagem Indevida             252\n",
       "13                                         Mal Súbito             156\n",
       "14                          Restrição de Visibilidade             111\n",
       "15           Objeto estático sobre o leito carroçável             106\n",
       "16                                   Agressão Externa              96\n",
       "17  Desobediência às normas de trânsito pelo pedestre              92\n",
       "18  Ingestão de álcool e/ou substâncias psicoativa...              84\n",
       "19             Carga excessiva e/ou mal acondicionada              77\n",
       "20                              Fenômenos da Natureza              57\n",
       "21      Sinalização da via insuficiente ou inadequada              39\n",
       "22  Deficiência ou não Acionamento do Sistema de I...              30\n",
       "23                Ingestão de Substâncias Psicoativas              19"
      ]
     },
     "execution_count": 13,
     "metadata": {},
     "output_type": "execute_result"
    }
   ],
   "source": [
    "causa_acidente "
   ]
  },
  {
   "cell_type": "code",
   "execution_count": 14,
   "metadata": {
    "ExecuteTime": {
     "end_time": "2021-03-28T23:33:54.552343Z",
     "start_time": "2021-03-28T23:33:50.839438Z"
    },
    "colab": {
     "base_uri": "https://localhost:8080/",
     "height": 107
    },
    "hide_input": false,
    "id": "Rw7ymTIPVAJq",
    "outputId": "0c5e81e3-305e-4912-ae92-de377ca2a269"
   },
   "outputs": [
    {
     "data": {
      "image/png": "[encoded data removed]",
      "text/plain": [
       "<Figure size 1152x720 with 1 Axes>"
      ]
     },
     "metadata": {},
     "output_type": "display_data"
    }
   ],
   "source": [
    "# Gráfico de barras invertido \n",
    "plt.figure(figsize=(16, 10))\n",
    "sns.barplot(y=causa_acidente[\"index\"], x=causa_acidente[\"causa_acidente\"],color='Black')\n",
    "plt.ylabel(\"CAUSAS DO ACIDENTE\")\n",
    "plt.xlabel(\"NÚMEROS DE ACIDENTES\")\n",
    "plt.title(\n",
    "    \"Principais Causas de Acidentes Em Rodovias Do BR no Primeiro Trimestre de 2020\",\n",
    "    fontsize=18)\n",
    "plt.show()"
   ]
  },
  {
   "cell_type": "markdown",
   "metadata": {
    "hide_input": true,
    "id": "uHSHkaD0MS6c"
   },
   "source": [
    "# 4 - *Quais são as condições climáticas onde mais ocorreram acidentes com vítimas fatais ?*"
   ]
  },
  {
   "cell_type": "code",
   "execution_count": 15,
   "metadata": {
    "ExecuteTime": {
     "end_time": "2021-03-28T23:33:54.709200Z",
     "start_time": "2021-03-28T23:33:54.581241Z"
    }
   },
   "outputs": [
    {
     "data": {
      "text/html": [
       "<div>\n",
       "<style scoped>\n",
       "    .dataframe tbody tr th:only-of-type {\n",
       "        vertical-align: middle;\n",
       "    }\n",
       "\n",
       "    .dataframe tbody tr th {\n",
       "        vertical-align: top;\n",
       "    }\n",
       "\n",
       "    .dataframe thead th {\n",
       "        text-align: right;\n",
       "    }\n",
       "</style>\n",
       "<table border=\"1\" class=\"dataframe\">\n",
       "  <thead>\n",
       "    <tr style=\"text-align: right;\">\n",
       "      <th></th>\n",
       "      <th>condicao_metereologica</th>\n",
       "      <th>mortos</th>\n",
       "    </tr>\n",
       "  </thead>\n",
       "  <tbody>\n",
       "    <tr>\n",
       "      <th>1</th>\n",
       "      <td>Céu Claro</td>\n",
       "      <td>605</td>\n",
       "    </tr>\n",
       "    <tr>\n",
       "      <th>0</th>\n",
       "      <td>Chuva</td>\n",
       "      <td>242</td>\n",
       "    </tr>\n",
       "    <tr>\n",
       "      <th>5</th>\n",
       "      <td>Nublado</td>\n",
       "      <td>212</td>\n",
       "    </tr>\n",
       "    <tr>\n",
       "      <th>6</th>\n",
       "      <td>Sol</td>\n",
       "      <td>52</td>\n",
       "    </tr>\n",
       "    <tr>\n",
       "      <th>2</th>\n",
       "      <td>Garoa/Chuvisco</td>\n",
       "      <td>46</td>\n",
       "    </tr>\n",
       "    <tr>\n",
       "      <th>3</th>\n",
       "      <td>Ignorado</td>\n",
       "      <td>16</td>\n",
       "    </tr>\n",
       "    <tr>\n",
       "      <th>4</th>\n",
       "      <td>Nevoeiro/Neblina</td>\n",
       "      <td>7</td>\n",
       "    </tr>\n",
       "    <tr>\n",
       "      <th>7</th>\n",
       "      <td>Vento</td>\n",
       "      <td>0</td>\n",
       "    </tr>\n",
       "  </tbody>\n",
       "</table>\n",
       "</div>"
      ],
      "text/plain": [
       "  condicao_metereologica  mortos\n",
       "1              Céu Claro     605\n",
       "0                  Chuva     242\n",
       "5                Nublado     212\n",
       "6                    Sol      52\n",
       "2         Garoa/Chuvisco      46\n",
       "3               Ignorado      16\n",
       "4       Nevoeiro/Neblina       7\n",
       "7                  Vento       0"
      ]
     },
     "execution_count": 15,
     "metadata": {},
     "output_type": "execute_result"
    }
   ],
   "source": [
    "clima_mortos = df.groupby(by=\"condicao_metereologica\")[\"mortos\"].sum().to_frame().reset_index().sort_values(by='mortos',ascending=False)\n",
    "clima_mortos"
   ]
  },
  {
   "cell_type": "code",
   "execution_count": 16,
   "metadata": {
    "ExecuteTime": {
     "end_time": "2021-03-28T23:33:56.730601Z",
     "start_time": "2021-03-28T23:33:54.721576Z"
    },
    "colab": {
     "base_uri": "https://localhost:8080/",
     "height": 202
    },
    "hide_input": false,
    "id": "k7dJkzGvDGJl",
    "outputId": "55bb154d-d964-4258-fead-c369ca964fba",
    "scrolled": false
   },
   "outputs": [
    {
     "data": {
      "image/png": "[encoded data removed]",
      "text/plain": [
       "<Figure size 432x288 with 1 Axes>"
      ]
     },
     "metadata": {},
     "output_type": "display_data"
    }
   ],
   "source": [
    "# Agrupando condições meteorológicas por mortos\n",
    "sns.barplot(x = clima_mortos['condicao_metereologica'], y=clima_mortos['mortos'],color='Black')\n",
    "plt.xticks(rotation=45, ha=\"right\")\n",
    "plt.title(\"Condições Meteorológicas em Relação aos Números de Mortos\",fontsize=12);"
   ]
  },
  {
   "cell_type": "markdown",
   "metadata": {
    "ExecuteTime": {
     "end_time": "2021-03-28T23:33:56.759891Z",
     "start_time": "2021-03-28T23:33:56.742761Z"
    },
    "id": "eWU6bsFv9rn5"
   },
   "source": [
    "# *Quais foram as distribuições diárias por mortes em relação aos acidentes?*"
   ]
  },
  {
   "cell_type": "code",
   "execution_count": 18,
   "metadata": {
    "ExecuteTime": {
     "end_time": "2021-03-28T23:33:56.854297Z",
     "start_time": "2021-03-28T23:33:56.774986Z"
    },
    "colab": {
     "base_uri": "https://localhost:8080/",
     "height": 153
    },
    "hide_input": true,
    "id": "mAMMVyar9njY",
    "outputId": "5426da51-1565-4ca3-80e1-4cab2d73eb74",
    "scrolled": false
   },
   "outputs": [
    {
     "name": "stdout",
     "output_type": "stream",
     "text": [
      "      dia_semana  mortos\n",
      "6    terça-feira     126\n",
      "1   quarta-feira     136\n",
      "2   quinta-feira     138\n",
      "3  segunda-feira     146\n",
      "4    sexta-feira     174\n",
      "5         sábado     191\n",
      "0        domingo     269\n"
     ]
    }
   ],
   "source": [
    "# Agrupando dias da semana por número de mortos \n",
    "mortos_dia = df.groupby(by=\"dia_semana\")[\"mortos\"].sum().to_frame().reset_index().sort_values(by=\"mortos\",ascending=True)\n",
    "print(mortos_dia)"
   ]
  },
  {
   "cell_type": "code",
   "execution_count": 19,
   "metadata": {
    "ExecuteTime": {
     "end_time": "2021-03-28T23:33:58.719250Z",
     "start_time": "2021-03-28T23:33:56.866926Z"
    },
    "colab": {
     "base_uri": "https://localhost:8080/",
     "height": 218
    },
    "hide_input": true,
    "id": "kP5g1A_r_Arq",
    "outputId": "5a5fd9a3-3ec4-40c9-f947-a4eb5f8e7142"
   },
   "outputs": [
    {
     "data": {
      "image/png": "[encoded data removed]",
      "text/plain": [
       "<Figure size 432x288 with 1 Axes>"
      ]
     },
     "metadata": {},
     "output_type": "display_data"
    }
   ],
   "source": [
    "# Gráfico de barras dias da semana por quantidade de mortos\n",
    "sns.barplot(data=mortos_dia,x=\"dia_semana\",y=\"mortos\",color='Black')\n",
    "plt.title(\"Números de mortos por dia da semana\")\n",
    "plt.xticks(rotation=45,ha=\"right\");"
   ]
  },
  {
   "cell_type": "markdown",
   "metadata": {
    "id": "gKsSvGxlcwwZ"
   },
   "source": [
    "#  5 - *Quais são as  distribuições de óbitos por horários em relação aos acidentes ?*"
   ]
  },
  {
   "cell_type": "code",
   "execution_count": 20,
   "metadata": {
    "ExecuteTime": {
     "end_time": "2021-03-28T23:33:58.797142Z",
     "start_time": "2021-03-28T23:33:58.730789Z"
    },
    "hide_input": false,
    "id": "wLlCs-1_SBOn"
   },
   "outputs": [],
   "source": [
    "# Agrupando horário do acidente pelos números de mortos\n",
    "hor_mort = df.groupby(\n",
    "    by=\"horario\")[\"mortos\"].sum().to_frame().reset_index().sort_values(\n",
    "        by=\"mortos\")"
   ]
  },
  {
   "cell_type": "code",
   "execution_count": 21,
   "metadata": {
    "ExecuteTime": {
     "end_time": "2021-03-28T23:34:31.601098Z",
     "start_time": "2021-03-28T23:33:58.811484Z"
    },
    "colab": {
     "base_uri": "https://localhost:8080/",
     "height": 133
    },
    "hide_input": false,
    "id": "Vg1QK8UcV45b",
    "outputId": "85039b9f-8c45-46c7-8026-af279bec54a9",
    "scrolled": false
   },
   "outputs": [
    {
     "data": {
      "image/png": "[encoded data removed]",
      "text/plain": [
       "<Figure size 2160x720 with 1 Axes>"
      ]
     },
     "metadata": {},
     "output_type": "display_data"
    }
   ],
   "source": [
    "# distribuições de mortes por horario do acidente\n",
    "plt.figure(figsize=(30, 10))\n",
    "plt.hist(hor_mort['horario'], hor_mort['mortos'], color=\"k\")\n",
    "plt.xticks(rotation=45, ha=\"right\")\n",
    "plt.title(\"Distribuição de óbitos por horário\", fontsize=25);"
   ]
  },
  {
   "cell_type": "raw",
   "metadata": {
    "id": "w4Lm_vhcbRIr"
   },
   "source": [
    "É perceptível os registros de óbitos nas barras mais elevados do histograma chegando a apresentar cerca de 50% das mortes entre os horários 13:57:00, 13:59:00, 22:35:00, 14:01:00, 14:03:00s"
   ]
  },
  {
   "cell_type": "markdown",
   "metadata": {
    "id": "bmhJJOQHuEUN"
   },
   "source": [
    "# 6 - *Quais as distribuições de óbitos por rodovias ?*"
   ]
  },
  {
   "cell_type": "code",
   "execution_count": 22,
   "metadata": {
    "ExecuteTime": {
     "end_time": "2021-03-28T23:34:31.701136Z",
     "start_time": "2021-03-28T23:34:31.613829Z"
    },
    "hide_input": false,
    "id": "g6ZvK82cXUZh"
   },
   "outputs": [],
   "source": [
    "# Agrupando rodovias por número de mortos\n",
    "br_mortos = df.groupby(\n",
    "    by=\"br\")[\"mortos\"].sum().to_frame().reset_index().sort_values(\n",
    "        by=\"mortos\", ascending=False)\n",
    "# Seleção apenas das rodovias contendo acidentes com óbitos\n",
    "br_mortos = br_mortos[br_mortos[\"mortos\"] > 0]"
   ]
  },
  {
   "cell_type": "code",
   "execution_count": 23,
   "metadata": {
    "ExecuteTime": {
     "end_time": "2021-03-28T23:34:54.290341Z",
     "start_time": "2021-03-28T23:34:31.747426Z"
    },
    "colab": {
     "base_uri": "https://localhost:8080/",
     "height": 133
    },
    "hide_input": false,
    "id": "nDd4ExY5r0Qb",
    "outputId": "8c0f65c5-3b51-4f80-cf15-31373b2f8e6c",
    "scrolled": false
   },
   "outputs": [
    {
     "data": {
      "image/png": "[encoded data removed]",
      "text/plain": [
       "<Figure size 1440x576 with 1 Axes>"
      ]
     },
     "metadata": {},
     "output_type": "display_data"
    }
   ],
   "source": [
    "# Gráfico de barras mortos por rodovias\n",
    "plt.figure(figsize=(20, 8))\n",
    "sns.barplot(data=br_mortos, x=\"br\", y=\"mortos\", color='Black')\n",
    "plt.xticks(rotation=90, alpha=0.7)\n",
    "plt.title(\"Distribuições de óbitos por rodovias\", fontsize=25);"
   ]
  },
  {
   "cell_type": "raw",
   "metadata": {
    "id": "Mv0FIy4GfOqb"
   },
   "source": [
    "Observação para as BRS 101 e 116 contendo números elevados de mortos em acidentes no primeiro trimestre do ano de 2020"
   ]
  },
  {
   "cell_type": "markdown",
   "metadata": {
    "hide_input": false,
    "id": "Ynw8C0VjKoJz"
   },
   "source": [
    "# 7 - *Visualizar os dados referentes a capital da Bahia, Salvador*"
   ]
  },
  {
   "cell_type": "code",
   "execution_count": 24,
   "metadata": {
    "ExecuteTime": {
     "end_time": "2021-03-28T23:34:54.596618Z",
     "start_time": "2021-03-28T23:34:54.318339Z"
    },
    "id": "0NpqVUakGEOn"
   },
   "outputs": [
    {
     "data": {
      "text/html": [
       "<div>\n",
       "<style scoped>\n",
       "    .dataframe tbody tr th:only-of-type {\n",
       "        vertical-align: middle;\n",
       "    }\n",
       "\n",
       "    .dataframe tbody tr th {\n",
       "        vertical-align: top;\n",
       "    }\n",
       "\n",
       "    .dataframe thead th {\n",
       "        text-align: right;\n",
       "    }\n",
       "</style>\n",
       "<table border=\"1\" class=\"dataframe\">\n",
       "  <thead>\n",
       "    <tr style=\"text-align: right;\">\n",
       "      <th></th>\n",
       "      <th>id</th>\n",
       "      <th>data_inversa</th>\n",
       "      <th>dia_semana</th>\n",
       "      <th>horario</th>\n",
       "      <th>uf</th>\n",
       "      <th>br</th>\n",
       "      <th>km</th>\n",
       "      <th>municipio</th>\n",
       "      <th>causa_acidente</th>\n",
       "      <th>tipo_acidente</th>\n",
       "      <th>classificacao_acidente</th>\n",
       "      <th>fase_dia</th>\n",
       "      <th>sentido_via</th>\n",
       "      <th>condicao_metereologica</th>\n",
       "      <th>tipo_pista</th>\n",
       "      <th>tracado_via</th>\n",
       "      <th>uso_solo</th>\n",
       "      <th>pessoas</th>\n",
       "      <th>mortos</th>\n",
       "      <th>feridos_leves</th>\n",
       "      <th>feridos_graves</th>\n",
       "      <th>ilesos</th>\n",
       "      <th>ignorados</th>\n",
       "      <th>feridos</th>\n",
       "      <th>veiculos</th>\n",
       "      <th>latitude</th>\n",
       "      <th>longitude</th>\n",
       "      <th>regional</th>\n",
       "      <th>delegacia</th>\n",
       "      <th>uop</th>\n",
       "    </tr>\n",
       "  </thead>\n",
       "  <tbody>\n",
       "    <tr>\n",
       "      <th>20</th>\n",
       "      <td>260061</td>\n",
       "      <td>2020-01-01</td>\n",
       "      <td>quarta-feira</td>\n",
       "      <td>03:00:00</td>\n",
       "      <td>BA</td>\n",
       "      <td>324.0</td>\n",
       "      <td>616</td>\n",
       "      <td>SALVADOR</td>\n",
       "      <td>Falta de Atenção à Condução</td>\n",
       "      <td>Queda de ocupante de veículo</td>\n",
       "      <td>Com Vítimas Feridas</td>\n",
       "      <td>Plena Noite</td>\n",
       "      <td>Decrescente</td>\n",
       "      <td>Nublado</td>\n",
       "      <td>Dupla</td>\n",
       "      <td>Reta</td>\n",
       "      <td>Sim</td>\n",
       "      <td>2</td>\n",
       "      <td>0</td>\n",
       "      <td>2</td>\n",
       "      <td>0</td>\n",
       "      <td>0</td>\n",
       "      <td>0</td>\n",
       "      <td>2</td>\n",
       "      <td>1</td>\n",
       "      <td>-12,87957905</td>\n",
       "      <td>-38,43213893</td>\n",
       "      <td>SR-BA</td>\n",
       "      <td>DEL10/1</td>\n",
       "      <td>UOP01/BA</td>\n",
       "    </tr>\n",
       "    <tr>\n",
       "      <th>392</th>\n",
       "      <td>260492</td>\n",
       "      <td>2020-01-03</td>\n",
       "      <td>sexta-feira</td>\n",
       "      <td>01:45:00</td>\n",
       "      <td>BA</td>\n",
       "      <td>324.0</td>\n",
       "      <td>625</td>\n",
       "      <td>SALVADOR</td>\n",
       "      <td>Agressão Externa</td>\n",
       "      <td>Colisão transversal</td>\n",
       "      <td>Com Vítimas Feridas</td>\n",
       "      <td>Plena Noite</td>\n",
       "      <td>Crescente</td>\n",
       "      <td>Nublado</td>\n",
       "      <td>Múltipla</td>\n",
       "      <td>Reta</td>\n",
       "      <td>Sim</td>\n",
       "      <td>2</td>\n",
       "      <td>0</td>\n",
       "      <td>1</td>\n",
       "      <td>0</td>\n",
       "      <td>1</td>\n",
       "      <td>0</td>\n",
       "      <td>1</td>\n",
       "      <td>2</td>\n",
       "      <td>-12,94194706</td>\n",
       "      <td>-38,47081224</td>\n",
       "      <td>SR-BA</td>\n",
       "      <td>DEL10/1</td>\n",
       "      <td>UOP01/BA</td>\n",
       "    </tr>\n",
       "    <tr>\n",
       "      <th>1130</th>\n",
       "      <td>261352</td>\n",
       "      <td>2020-01-07</td>\n",
       "      <td>terça-feira</td>\n",
       "      <td>13:00:00</td>\n",
       "      <td>BA</td>\n",
       "      <td>324.0</td>\n",
       "      <td>623</td>\n",
       "      <td>SALVADOR</td>\n",
       "      <td>Falta de Atenção à Condução</td>\n",
       "      <td>Colisão lateral</td>\n",
       "      <td>Com Vítimas Feridas</td>\n",
       "      <td>Pleno dia</td>\n",
       "      <td>Crescente</td>\n",
       "      <td>Céu Claro</td>\n",
       "      <td>Dupla</td>\n",
       "      <td>Reta</td>\n",
       "      <td>Sim</td>\n",
       "      <td>2</td>\n",
       "      <td>0</td>\n",
       "      <td>1</td>\n",
       "      <td>0</td>\n",
       "      <td>1</td>\n",
       "      <td>0</td>\n",
       "      <td>1</td>\n",
       "      <td>2</td>\n",
       "      <td>-12,92629</td>\n",
       "      <td>-38,46839</td>\n",
       "      <td>SR-BA</td>\n",
       "      <td>DEL10/1</td>\n",
       "      <td>UOP01/BA</td>\n",
       "    </tr>\n",
       "    <tr>\n",
       "      <th>1578</th>\n",
       "      <td>261881</td>\n",
       "      <td>2020-01-10</td>\n",
       "      <td>sexta-feira</td>\n",
       "      <td>11:00:00</td>\n",
       "      <td>BA</td>\n",
       "      <td>NaN</td>\n",
       "      <td>NaN</td>\n",
       "      <td>SALVADOR</td>\n",
       "      <td>Falta de Atenção à Condução</td>\n",
       "      <td>Colisão traseira</td>\n",
       "      <td>Sem Vítimas</td>\n",
       "      <td>Pleno dia</td>\n",
       "      <td>Não Informado</td>\n",
       "      <td>Céu Claro</td>\n",
       "      <td>Simples</td>\n",
       "      <td>Reta</td>\n",
       "      <td>Sim</td>\n",
       "      <td>2</td>\n",
       "      <td>0</td>\n",
       "      <td>0</td>\n",
       "      <td>0</td>\n",
       "      <td>2</td>\n",
       "      <td>0</td>\n",
       "      <td>0</td>\n",
       "      <td>2</td>\n",
       "      <td>-12,92276</td>\n",
       "      <td>-38,46212</td>\n",
       "      <td>SR-BA</td>\n",
       "      <td>DEL10/1</td>\n",
       "      <td>UOP01/BA</td>\n",
       "    </tr>\n",
       "    <tr>\n",
       "      <th>2104</th>\n",
       "      <td>262479</td>\n",
       "      <td>2020-01-13</td>\n",
       "      <td>segunda-feira</td>\n",
       "      <td>02:20:00</td>\n",
       "      <td>BA</td>\n",
       "      <td>324.0</td>\n",
       "      <td>621</td>\n",
       "      <td>SALVADOR</td>\n",
       "      <td>Desobediência às normas de trânsito pelo condutor</td>\n",
       "      <td>Colisão traseira</td>\n",
       "      <td>Com Vítimas Feridas</td>\n",
       "      <td>Plena Noite</td>\n",
       "      <td>Crescente</td>\n",
       "      <td>Céu Claro</td>\n",
       "      <td>Dupla</td>\n",
       "      <td>Reta</td>\n",
       "      <td>Sim</td>\n",
       "      <td>2</td>\n",
       "      <td>0</td>\n",
       "      <td>1</td>\n",
       "      <td>0</td>\n",
       "      <td>1</td>\n",
       "      <td>0</td>\n",
       "      <td>1</td>\n",
       "      <td>2</td>\n",
       "      <td>-12,91234</td>\n",
       "      <td>-38,45957</td>\n",
       "      <td>SR-BA</td>\n",
       "      <td>DEL10/1</td>\n",
       "      <td>UOP01/BA</td>\n",
       "    </tr>\n",
       "  </tbody>\n",
       "</table>\n",
       "</div>"
      ],
      "text/plain": [
       "          id data_inversa     dia_semana   horario  uf     br   km municipio  \\\n",
       "20    260061   2020-01-01   quarta-feira  03:00:00  BA  324.0  616  SALVADOR   \n",
       "392   260492   2020-01-03    sexta-feira  01:45:00  BA  324.0  625  SALVADOR   \n",
       "1130  261352   2020-01-07    terça-feira  13:00:00  BA  324.0  623  SALVADOR   \n",
       "1578  261881   2020-01-10    sexta-feira  11:00:00  BA    NaN  NaN  SALVADOR   \n",
       "2104  262479   2020-01-13  segunda-feira  02:20:00  BA  324.0  621  SALVADOR   \n",
       "\n",
       "                                         causa_acidente  \\\n",
       "20                          Falta de Atenção à Condução   \n",
       "392                                    Agressão Externa   \n",
       "1130                        Falta de Atenção à Condução   \n",
       "1578                        Falta de Atenção à Condução   \n",
       "2104  Desobediência às normas de trânsito pelo condutor   \n",
       "\n",
       "                     tipo_acidente classificacao_acidente     fase_dia  \\\n",
       "20    Queda de ocupante de veículo    Com Vítimas Feridas  Plena Noite   \n",
       "392            Colisão transversal    Com Vítimas Feridas  Plena Noite   \n",
       "1130               Colisão lateral    Com Vítimas Feridas    Pleno dia   \n",
       "1578              Colisão traseira            Sem Vítimas    Pleno dia   \n",
       "2104              Colisão traseira    Com Vítimas Feridas  Plena Noite   \n",
       "\n",
       "        sentido_via condicao_metereologica tipo_pista tracado_via uso_solo  \\\n",
       "20      Decrescente                Nublado      Dupla        Reta      Sim   \n",
       "392       Crescente                Nublado   Múltipla        Reta      Sim   \n",
       "1130      Crescente              Céu Claro      Dupla        Reta      Sim   \n",
       "1578  Não Informado              Céu Claro    Simples        Reta      Sim   \n",
       "2104      Crescente              Céu Claro      Dupla        Reta      Sim   \n",
       "\n",
       "      pessoas  mortos  feridos_leves  feridos_graves  ilesos  ignorados  \\\n",
       "20          2       0              2               0       0          0   \n",
       "392         2       0              1               0       1          0   \n",
       "1130        2       0              1               0       1          0   \n",
       "1578        2       0              0               0       2          0   \n",
       "2104        2       0              1               0       1          0   \n",
       "\n",
       "      feridos  veiculos      latitude     longitude regional delegacia  \\\n",
       "20          2         1  -12,87957905  -38,43213893    SR-BA   DEL10/1   \n",
       "392         1         2  -12,94194706  -38,47081224    SR-BA   DEL10/1   \n",
       "1130        1         2     -12,92629     -38,46839    SR-BA   DEL10/1   \n",
       "1578        0         2     -12,92276     -38,46212    SR-BA   DEL10/1   \n",
       "2104        1         2     -12,91234     -38,45957    SR-BA   DEL10/1   \n",
       "\n",
       "           uop  \n",
       "20    UOP01/BA  \n",
       "392   UOP01/BA  \n",
       "1130  UOP01/BA  \n",
       "1578  UOP01/BA  \n",
       "2104  UOP01/BA  "
      ]
     },
     "execution_count": 24,
     "metadata": {},
     "output_type": "execute_result"
    }
   ],
   "source": [
    "# Filtrando dados da cidade de Salvador \n",
    "salvador_ba = df.loc[df.municipio==\"SALVADOR\"]\n",
    "salvador_ba.head()"
   ]
  },
  {
   "cell_type": "code",
   "execution_count": 25,
   "metadata": {
    "ExecuteTime": {
     "end_time": "2021-03-28T23:35:31.868622Z",
     "start_time": "2021-03-28T23:34:54.609571Z"
    },
    "colab": {
     "base_uri": "https://localhost:8080/",
     "height": 172
    },
    "id": "cbh67QpiQkbc",
    "outputId": "35b3f570-8914-4b88-c9e4-8a13804af273",
    "scrolled": false
   },
   "outputs": [
    {
     "data": {
      "image/png": "[encoded data removed]",
      "text/plain": [
       "<Figure size 1008x1008 with 12 Axes>"
      ]
     },
     "metadata": {},
     "output_type": "display_data"
    }
   ],
   "source": [
    "# Histograma dados numéricos de Salvador em relação aos acidentes ocorridos \n",
    "salvador_ba.hist(figsize=(14,14),xrot=45,color='k')\n",
    "plt.tight_layout();"
   ]
  },
  {
   "cell_type": "markdown",
   "metadata": {},
   "source": [
    "# **PLOTLY DASHBOARD**"
   ]
  },
  {
   "cell_type": "code",
   "execution_count": 26,
   "metadata": {
    "ExecuteTime": {
     "end_time": "2021-03-28T23:35:33.970447Z",
     "start_time": "2021-03-28T23:35:31.880942Z"
    },
    "scrolled": false
   },
   "outputs": [
    {
     "data": {
      "application/vnd.plotly.v1+json": {
       "config": {
        "plotlyServerURL": "https://plot.ly"
       },
       "data": [
        {
         "marker": {
          "color": "Black"
         },
         "type": "bar",
         "x": [
          "AP",
          "AM",
          "AC",
          "DF",
          "SE",
          "RR",
          "AL",
          "RO",
          "PB",
          "RN",
          "TO",
          "ES",
          "MS",
          "PI",
          "CE",
          "PA",
          "MA",
          "MT",
          "RS",
          "GO",
          "RJ",
          "SP",
          "PE",
          "SC",
          "PR",
          "BA",
          "MG"
         ],
         "xaxis": "x",
         "y": [
          1,
          2,
          4,
          7,
          9,
          13,
          14,
          15,
          17,
          21,
          22,
          24,
          26,
          33,
          35,
          38,
          40,
          43,
          47,
          54,
          61,
          67,
          75,
          90,
          117,
          132,
          173
         ],
         "yaxis": "y"
        },
        {
         "marker": {
          "color": "Black"
         },
         "type": "bar",
         "x": [
          5277,
          1976,
          1528,
          1220,
          942,
          934,
          702,
          618,
          438,
          388,
          305,
          261,
          252,
          156,
          111,
          106,
          96,
          92,
          84,
          77,
          57,
          39,
          30,
          19
         ],
         "xaxis": "x2",
         "y": [
          "Falta de Atenção à Condução",
          "Desobediência às normas de trânsito pelo condutor",
          "Velocidade Incompatível",
          "Ingestão de Álcool",
          "Defeito Mecânico no Veículo",
          "Não guardar distância de segurança",
          "Pista Escorregadia",
          "Condutor Dormindo",
          "Falta de Atenção do Pedestre",
          "Animais na Pista",
          "Defeito na Via",
          "Avarias e/ou desgaste excessivo no pneu",
          "Ultrapassagem Indevida",
          "Mal Súbito",
          "Restrição de Visibilidade",
          "Objeto estático sobre o leito carroçável",
          "Agressão Externa",
          "Desobediência às normas de trânsito pelo pedestre",
          "Ingestão de álcool e/ou substâncias psicoativas pelo pedestre",
          "Carga excessiva e/ou mal acondicionada",
          "Fenômenos da Natureza",
          "Sinalização da via insuficiente ou inadequada",
          "Deficiência ou não Acionamento do Sistema de Iluminação/Sinalização do Veículo",
          "Ingestão de Substâncias Psicoativas"
         ],
         "yaxis": "y2"
        },
        {
         "marker": {
          "color": "Black"
         },
         "type": "bar",
         "x": [
          "Céu Claro",
          "Chuva",
          "Nublado",
          "Sol",
          "Garoa/Chuvisco",
          "Ignorado",
          "Nevoeiro/Neblina",
          "Vento"
         ],
         "xaxis": "x3",
         "y": [
          605,
          242,
          212,
          52,
          46,
          16,
          7,
          0
         ],
         "yaxis": "y3"
        },
        {
         "marker": {
          "color": "Black"
         },
         "mode": "markers",
         "type": "scatter",
         "x": [
          "23:58:00",
          "14:29:00",
          "14:32:00",
          "14:34:00",
          "14:35:00",
          "14:37:00",
          "14:38:00",
          "14:27:00",
          "14:39:00",
          "14:42:00",
          "14:44:00",
          "14:47:00",
          "14:48:00",
          "14:49:00",
          "22:22:00",
          "14:41:00",
          "14:25:00",
          "14:23:00",
          "22:26:00",
          "13:51:00",
          "13:52:00",
          "13:53:00",
          "13:54:00",
          "13:57:00",
          "13:59:00",
          "22:35:00",
          "14:01:00",
          "14:03:00",
          "14:07:00",
          "14:08:00",
          "22:27:00",
          "14:12:00",
          "14:16:00",
          "14:17:00",
          "14:51:00",
          "14:53:00",
          "14:58:00",
          "14:59:00",
          "15:34:00",
          "15:38:00",
          "15:42:00",
          "22:14:00",
          "15:48:00",
          "15:57:00",
          "15:59:00",
          "22:12:00",
          "16:01:00",
          "16:02:00",
          "16:03:00",
          "16:05:00",
          "16:07:00",
          "16:08:00",
          "16:09:00",
          "15:32:00",
          "22:36:00",
          "22:16:00",
          "15:27:00",
          "15:03:00",
          "15:04:00",
          "15:06:00",
          "15:09:00",
          "22:19:00",
          "15:11:00",
          "15:16:00",
          "15:17:00",
          "15:18:00",
          "15:19:00",
          "22:18:00",
          "15:21:00",
          "15:22:00",
          "15:23:00",
          "15:25:00",
          "15:29:00",
          "16:11:00",
          "13:48:00",
          "13:39:00",
          "11:38:00",
          "11:39:00",
          "11:42:00",
          "11:43:00",
          "11:48:00",
          "11:49:00",
          "11:37:00",
          "11:52:00",
          "11:55:00",
          "11:56:00",
          "22:53:00",
          "12:01:00",
          "12:08:00",
          "12:09:00",
          "11:54:00",
          "11:32:00",
          "11:29:00",
          "11:28:00",
          "10:58:00",
          "22:55:00",
          "11:03:00",
          "11:04:00",
          "11:07:00",
          "11:08:00",
          "11:09:00",
          "11:13:00",
          "11:15:00",
          "11:16:00",
          "11:18:00",
          "11:20:00",
          "11:22:00",
          "11:26:00",
          "11:27:00",
          "12:11:00",
          "12:12:00",
          "21:07:00",
          "12:14:00",
          "13:08:00",
          "13:09:00",
          "13:11:00",
          "13:12:00",
          "13:13:00",
          "13:14:00",
          "13:16:00",
          "13:17:00",
          "13:23:00",
          "13:26:00",
          "13:27:00",
          "13:29:00",
          "23:57:00",
          "13:36:00",
          "13:38:00",
          "13:05:00",
          "13:42:00",
          "13:03:00",
          "13:01:00",
          "12:23:00",
          "12:26:00",
          "12:31:00",
          "12:32:00",
          "12:35:00",
          "12:36:00",
          "12:39:00",
          "12:42:00",
          "12:43:00",
          "12:47:00",
          "12:54:00",
          "12:55:00",
          "12:56:00",
          "12:57:00",
          "12:58:00",
          "13:02:00",
          "16:12:00",
          "16:13:00",
          "16:16:00",
          "21:44:00",
          "19:12:00",
          "19:14:00",
          "21:43:00",
          "19:16:00",
          "19:17:00",
          "19:09:00",
          "19:18:00",
          "21:41:00",
          "19:22:00",
          "19:23:00",
          "19:28:00",
          "21:36:00",
          "19:31:00",
          "19:19:00",
          "19:07:00",
          "19:04:00",
          "18:58:00",
          "18:29:00",
          "18:33:00",
          "18:35:00",
          "18:36:00",
          "18:37:00",
          "18:38:00",
          "18:39:00",
          "18:42:00",
          "18:43:00",
          "18:47:00",
          "18:48:00",
          "18:49:00",
          "21:47:00",
          "18:54:00",
          "18:57:00",
          "19:32:00",
          "19:36:00",
          "19:37:00",
          "19:38:00",
          "20:15:00",
          "21:21:00",
          "20:22:00",
          "20:24:00",
          "20:28:00",
          "20:32:00",
          "20:37:00",
          "21:12:00",
          "20:42:00",
          "20:47:00",
          "20:48:00",
          "20:49:00",
          "20:57:00",
          "20:58:00",
          "21:03:00",
          "20:13:00",
          "18:28:00",
          "20:12:00",
          "21:23:00",
          "19:39:00",
          "19:41:00",
          "19:42:00",
          "19:43:00",
          "19:44:00",
          "21:28:00",
          "19:46:00",
          "21:26:00",
          "19:54:00",
          "19:55:00",
          "19:57:00",
          "20:01:00",
          "20:02:00",
          "20:04:00",
          "20:07:00",
          "20:11:00",
          "18:27:00",
          "18:25:00",
          "18:24:00",
          "16:47:00",
          "16:48:00",
          "16:53:00",
          "16:54:00",
          "16:58:00",
          "16:59:00",
          "22:08:00",
          "17:02:00",
          "17:05:00",
          "17:08:00",
          "17:12:00",
          "17:14:00",
          "17:17:00",
          "17:18:00",
          "22:07:00",
          "16:46:00",
          "17:21:00",
          "16:44:00",
          "16:42:00",
          "16:17:00",
          "16:19:00",
          "16:21:00",
          "16:22:00",
          "16:23:00",
          "16:25:00",
          "16:26:00",
          "16:27:00",
          "16:28:00",
          "16:29:00",
          "22:09:00",
          "16:31:00",
          "16:32:00",
          "16:34:00",
          "16:37:00",
          "16:43:00",
          "10:57:00",
          "17:22:00",
          "17:24:00",
          "17:54:00",
          "17:56:00",
          "17:58:00",
          "17:59:00",
          "21:59:00",
          "18:02:00",
          "18:03:00",
          "18:07:00",
          "18:08:00",
          "18:09:00",
          "21:56:00",
          "18:17:00",
          "18:18:00",
          "18:21:00",
          "18:23:00",
          "17:52:00",
          "17:23:00",
          "17:51:00",
          "17:48:00",
          "17:25:00",
          "17:26:00",
          "17:27:00",
          "17:29:00",
          "22:05:00",
          "17:31:00",
          "17:33:00",
          "17:34:00",
          "17:35:00",
          "17:36:00",
          "17:38:00",
          "17:39:00",
          "17:41:00",
          "17:42:00",
          "17:46:00",
          "22:02:00",
          "10:56:00",
          "12:13:00",
          "10:52:00",
          "06:24:00",
          "23:18:00",
          "06:19:00",
          "06:18:00",
          "06:17:00",
          "06:14:00",
          "06:06:00",
          "06:02:00",
          "23:22:00",
          "05:59:00",
          "05:54:00",
          "05:49:00",
          "05:42:00",
          "23:23:00",
          "05:39:00",
          "05:28:00",
          "05:27:00",
          "05:19:00",
          "05:18:00",
          "05:17:00",
          "05:07:00",
          "05:02:00",
          "04:54:00",
          "23:28:00",
          "04:35:00",
          "04:34:00",
          "23:29:00",
          "04:27:00",
          "04:15:00",
          "06:25:00",
          "04:13:00",
          "06:26:00",
          "06:29:00",
          "07:47:00",
          "07:46:00",
          "07:39:00",
          "07:35:00",
          "07:34:00",
          "07:32:00",
          "07:31:00",
          "07:29:00",
          "07:27:00",
          "07:22:00",
          "07:21:00",
          "07:16:00",
          "07:15:00",
          "07:14:00",
          "07:09:00",
          "07:05:00",
          "07:03:00",
          "06:58:00",
          "06:56:00",
          "06:55:00",
          "06:49:00",
          "06:48:00",
          "06:47:00",
          "06:46:00",
          "06:43:00",
          "06:42:00",
          "06:38:00",
          "06:36:00",
          "23:16:00",
          "06:27:00",
          "04:12:00",
          "23:31:00",
          "04:08:00",
          "01:52:00",
          "23:48:00",
          "01:49:00",
          "01:45:00",
          "01:44:00",
          "01:42:00",
          "01:40:00",
          "01:25:00",
          "01:24:00",
          "01:13:00",
          "01:09:00",
          "23:52:00",
          "00:59:00",
          "00:58:00",
          "00:55:00",
          "00:52:00",
          "00:49:00",
          "00:47:00",
          "00:37:00",
          "00:31:00",
          "00:29:00",
          "23:55:00",
          "00:23:00",
          "00:19:00",
          "00:18:00",
          "00:13:00",
          "00:12:00",
          "00:02:00",
          "00:01:00",
          "01:55:00",
          "01:58:00",
          "23:47:00",
          "02:03:00",
          "04:05:00",
          "04:01:00",
          "23:32:00",
          "03:51:00",
          "23:34:00",
          "03:48:00",
          "03:46:00",
          "03:44:00",
          "03:35:00",
          "03:34:00",
          "03:33:00",
          "03:32:00",
          "03:26:00",
          "23:36:00",
          "07:48:00",
          "03:19:00",
          "23:38:00",
          "03:05:00",
          "02:58:00",
          "02:56:00",
          "02:48:00",
          "02:40:00",
          "02:35:00",
          "02:28:00",
          "02:18:00",
          "02:14:00",
          "02:13:00",
          "02:08:00",
          "02:07:00",
          "02:04:00",
          "03:11:00",
          "07:52:00",
          "06:23:00",
          "07:55:00",
          "09:55:00",
          "09:54:00",
          "09:53:00",
          "09:47:00",
          "09:44:00",
          "09:42:00",
          "23:08:00",
          "09:39:00",
          "07:53:00",
          "09:37:00",
          "09:32:00",
          "09:29:00",
          "09:28:00",
          "09:25:00",
          "09:18:00",
          "09:17:00",
          "09:11:00",
          "08:55:00",
          "08:53:00",
          "08:51:00",
          "08:49:00",
          "08:48:00",
          "08:45:00",
          "08:44:00",
          "08:37:00",
          "09:57:00",
          "08:35:00",
          "09:58:00",
          "10:01:00",
          "22:57:00",
          "10:49:00",
          "10:48:00",
          "10:44:00",
          "10:41:00",
          "10:37:00",
          "10:35:00",
          "10:32:00",
          "10:31:00",
          "22:59:00",
          "10:28:00",
          "10:26:00",
          "10:25:00",
          "10:24:00",
          "10:22:00",
          "10:21:00",
          "10:18:00",
          "10:17:00",
          "10:13:00",
          "10:12:00",
          "23:01:00",
          "10:09:00",
          "10:08:00",
          "10:07:00",
          "10:04:00",
          "23:05:00",
          "08:34:00",
          "21:09:00",
          "08:18:00",
          "08:07:00",
          "08:13:00",
          "08:17:00",
          "07:58:00",
          "08:15:00",
          "08:16:00",
          "08:32:00",
          "08:01:00",
          "08:26:00",
          "08:04:00",
          "08:27:00",
          "07:57:00",
          "08:31:00",
          "08:25:00",
          "08:02:00",
          "08:08:00",
          "01:35:00",
          "19:35:00",
          "23:49:00",
          "14:18:00",
          "17:43:00",
          "11:34:00",
          "23:14:00",
          "17:45:00",
          "15:28:00",
          "08:20:00",
          "09:35:00",
          "22:03:00",
          "12:45:00",
          "01:15:00",
          "14:55:00",
          "04:25:00",
          "22:54:00",
          "03:40:00",
          "11:35:00",
          "12:25:00",
          "18:55:00",
          "10:05:00",
          "18:52:00",
          "19:08:00",
          "02:25:00",
          "07:17:00",
          "23:44:00",
          "21:48:00",
          "15:12:00",
          "12:02:00",
          "21:54:00",
          "02:44:00",
          "02:05:00",
          "02:50:00",
          "02:55:00",
          "21:55:00",
          "03:15:00",
          "08:05:00",
          "03:25:00",
          "12:15:00",
          "23:35:00",
          "09:50:00",
          "18:05:00",
          "14:05:00",
          "02:10:00",
          "15:35:00",
          "14:22:00",
          "05:41:00",
          "20:17:00",
          "16:38:00",
          "01:05:00",
          "20:21:00",
          "15:44:00",
          "05:55:00",
          "21:17:00",
          "06:05:00",
          "13:25:00",
          "15:41:00",
          "23:20:00",
          "06:15:00",
          "20:35:00",
          "11:05:00",
          "20:39:00",
          "16:15:00",
          "22:25:00",
          "08:38:00",
          "00:07:00",
          "00:05:00",
          "13:45:00",
          "08:28:00",
          "08:57:00",
          "20:19:00",
          "20:06:00",
          "23:12:00",
          "19:53:00",
          "05:20:00",
          "09:15:00",
          "15:37:00",
          "05:25:00",
          "20:14:00",
          "13:10:00",
          "17:10:00",
          "04:45:00",
          "00:35:00",
          "23:24:00",
          "16:50:00",
          "11:12:00",
          "04:50:00",
          "09:05:00",
          "01:20:00",
          "11:25:00",
          "21:35:00",
          "20:45:00",
          "21:10:00",
          "20:44:00",
          "08:00:00",
          "00:30:00",
          "00:50:00",
          "20:05:00",
          "15:05:00",
          "20:27:00",
          "11:45:00",
          "20:25:00",
          "07:25:00",
          "11:40:00",
          "11:10:00",
          "10:20:00",
          "07:45:00",
          "11:50:00",
          "21:45:00",
          "06:35:00",
          "22:15:00",
          "12:40:00",
          "04:20:00",
          "13:55:00",
          "05:05:00",
          "05:10:00",
          "09:10:00",
          "16:55:00",
          "09:00:00",
          "05:45:00",
          "16:35:00",
          "06:45:00",
          "22:10:00",
          "15:55:00",
          "13:35:00",
          "10:55:00",
          "17:55:00",
          "22:45:00",
          "12:10:00",
          "08:10:00",
          "15:15:00",
          "23:45:00",
          "05:35:00",
          "17:03:00",
          "00:40:00",
          "12:05:00",
          "13:15:00",
          "08:50:00",
          "14:30:00",
          "15:50:00",
          "00:15:00",
          "10:45:00",
          "02:15:00",
          "19:05:00",
          "20:50:00",
          "20:55:00",
          "08:30:00",
          "13:40:00",
          "14:45:00",
          "07:20:00",
          "14:15:00",
          "21:25:00",
          "18:19:00",
          "05:15:00",
          "23:10:00",
          "22:40:00",
          "09:20:00",
          "18:15:00",
          "04:55:00",
          "22:20:00",
          "23:25:00",
          "03:55:00",
          "23:15:00",
          "21:40:00",
          "10:15:00",
          "01:10:00",
          "00:10:00",
          "06:50:00",
          "08:40:00",
          "06:40:00",
          "09:45:00",
          "07:50:00",
          "21:05:00",
          "16:10:00",
          "02:45:00",
          "00:20:00",
          "13:20:00",
          "05:50:00",
          "10:40:00",
          "13:00:00",
          "16:40:00",
          "16:45:00",
          "05:33:00",
          "18:20:00",
          "17:15:00",
          "00:45:00",
          "07:10:00",
          "15:08:00",
          "03:45:00",
          "22:50:00",
          "23:40:00",
          "13:30:00",
          "20:40:00",
          "10:10:00",
          "13:50:00",
          "19:25:00",
          "07:30:00",
          "18:10:00",
          "10:30:00",
          "06:10:00",
          "20:10:00",
          "04:10:00",
          "01:50:00",
          "01:30:00",
          "15:10:00",
          "14:20:00",
          "11:30:00",
          "14:10:00",
          "14:40:00",
          "12:50:00",
          "12:20:00",
          "09:40:00",
          "15:20:00",
          "07:40:00",
          "06:20:00",
          "05:40:00",
          "04:40:00",
          "04:30:00",
          "00:25:00",
          "10:00:00",
          "16:20:00",
          "00:00:00",
          "19:50:00",
          "18:45:00",
          "19:15:00",
          "19:10:00",
          "17:50:00",
          "18:50:00",
          "03:50:00",
          "10:50:00",
          "19:40:00",
          "03:20:00",
          "03:00:00",
          "03:10:00",
          "21:20:00",
          "16:00:00",
          "09:30:00",
          "19:45:00",
          "18:40:00",
          "02:00:00",
          "20:20:00",
          "14:50:00",
          "21:15:00",
          "15:40:00",
          "15:45:00",
          "06:00:00",
          "07:00:00",
          "06:30:00",
          "11:00:00",
          "01:00:00",
          "23:30:00",
          "23:50:00",
          "21:30:00",
          "02:30:00",
          "12:00:00",
          "17:40:00",
          "03:30:00",
          "17:20:00",
          "02:20:00",
          "21:50:00",
          "20:30:00",
          "05:30:00",
          "22:00:00",
          "05:00:00",
          "12:30:00",
          "04:00:00",
          "22:30:00",
          "15:00:00",
          "17:30:00",
          "16:30:00",
          "17:00:00",
          "21:00:00",
          "19:20:00",
          "23:00:00",
          "15:30:00",
          "19:30:00",
          "18:00:00",
          "19:00:00",
          "18:30:00",
          "14:00:00",
          "20:00:00"
         ],
         "xaxis": "x4",
         "y": [
          0,
          0,
          0,
          0,
          0,
          0,
          0,
          0,
          0,
          0,
          0,
          0,
          0,
          0,
          0,
          0,
          0,
          0,
          0,
          0,
          0,
          0,
          0,
          0,
          0,
          0,
          0,
          0,
          0,
          0,
          0,
          0,
          0,
          0,
          0,
          0,
          0,
          0,
          0,
          0,
          0,
          0,
          0,
          0,
          0,
          0,
          0,
          0,
          0,
          0,
          0,
          0,
          0,
          0,
          0,
          0,
          0,
          0,
          0,
          0,
          0,
          0,
          0,
          0,
          0,
          0,
          0,
          0,
          0,
          0,
          0,
          0,
          0,
          0,
          0,
          0,
          0,
          0,
          0,
          0,
          0,
          0,
          0,
          0,
          0,
          0,
          0,
          0,
          0,
          0,
          0,
          0,
          0,
          0,
          0,
          0,
          0,
          0,
          0,
          0,
          0,
          0,
          0,
          0,
          0,
          0,
          0,
          0,
          0,
          0,
          0,
          0,
          0,
          0,
          0,
          0,
          0,
          0,
          0,
          0,
          0,
          0,
          0,
          0,
          0,
          0,
          0,
          0,
          0,
          0,
          0,
          0,
          0,
          0,
          0,
          0,
          0,
          0,
          0,
          0,
          0,
          0,
          0,
          0,
          0,
          0,
          0,
          0,
          0,
          0,
          0,
          0,
          0,
          0,
          0,
          0,
          0,
          0,
          0,
          0,
          0,
          0,
          0,
          0,
          0,
          0,
          0,
          0,
          0,
          0,
          0,
          0,
          0,
          0,
          0,
          0,
          0,
          0,
          0,
          0,
          0,
          0,
          0,
          0,
          0,
          0,
          0,
          0,
          0,
          0,
          0,
          0,
          0,
          0,
          0,
          0,
          0,
          0,
          0,
          0,
          0,
          0,
          0,
          0,
          0,
          0,
          0,
          0,
          0,
          0,
          0,
          0,
          0,
          0,
          0,
          0,
          0,
          0,
          0,
          0,
          0,
          0,
          0,
          0,
          0,
          0,
          0,
          0,
          0,
          0,
          0,
          0,
          0,
          0,
          0,
          0,
          0,
          0,
          0,
          0,
          0,
          0,
          0,
          0,
          0,
          0,
          0,
          0,
          0,
          0,
          0,
          0,
          0,
          0,
          0,
          0,
          0,
          0,
          0,
          0,
          0,
          0,
          0,
          0,
          0,
          0,
          0,
          0,
          0,
          0,
          0,
          0,
          0,
          0,
          0,
          0,
          0,
          0,
          0,
          0,
          0,
          0,
          0,
          0,
          0,
          0,
          0,
          0,
          0,
          0,
          0,
          0,
          0,
          0,
          0,
          0,
          0,
          0,
          0,
          0,
          0,
          0,
          0,
          0,
          0,
          0,
          0,
          0,
          0,
          0,
          0,
          0,
          0,
          0,
          0,
          0,
          0,
          0,
          0,
          0,
          0,
          0,
          0,
          0,
          0,
          0,
          0,
          0,
          0,
          0,
          0,
          0,
          0,
          0,
          0,
          0,
          0,
          0,
          0,
          0,
          0,
          0,
          0,
          0,
          0,
          0,
          0,
          0,
          0,
          0,
          0,
          0,
          0,
          0,
          0,
          0,
          0,
          0,
          0,
          0,
          0,
          0,
          0,
          0,
          0,
          0,
          0,
          0,
          0,
          0,
          0,
          0,
          0,
          0,
          0,
          0,
          0,
          0,
          0,
          0,
          0,
          0,
          0,
          0,
          0,
          0,
          0,
          0,
          0,
          0,
          0,
          0,
          0,
          0,
          0,
          0,
          0,
          0,
          0,
          0,
          0,
          0,
          0,
          0,
          0,
          0,
          0,
          0,
          0,
          0,
          0,
          0,
          0,
          0,
          0,
          0,
          0,
          0,
          0,
          0,
          0,
          0,
          0,
          0,
          0,
          0,
          0,
          0,
          0,
          0,
          0,
          0,
          0,
          0,
          0,
          0,
          0,
          0,
          0,
          0,
          0,
          0,
          0,
          0,
          0,
          0,
          0,
          0,
          0,
          0,
          0,
          0,
          0,
          0,
          0,
          0,
          0,
          0,
          0,
          0,
          0,
          0,
          0,
          0,
          0,
          0,
          0,
          0,
          0,
          0,
          0,
          0,
          0,
          0,
          0,
          0,
          0,
          0,
          0,
          0,
          0,
          0,
          0,
          0,
          0,
          0,
          0,
          0,
          0,
          0,
          0,
          0,
          0,
          0,
          0,
          0,
          0,
          0,
          0,
          0,
          0,
          0,
          0,
          0,
          0,
          0,
          0,
          0,
          0,
          1,
          1,
          1,
          1,
          1,
          1,
          1,
          1,
          1,
          1,
          1,
          1,
          1,
          1,
          1,
          1,
          1,
          1,
          1,
          1,
          1,
          1,
          1,
          1,
          1,
          1,
          1,
          1,
          1,
          1,
          1,
          1,
          1,
          1,
          1,
          1,
          1,
          1,
          1,
          1,
          1,
          1,
          1,
          1,
          1,
          1,
          1,
          1,
          1,
          1,
          1,
          1,
          1,
          1,
          1,
          1,
          1,
          1,
          1,
          1,
          1,
          1,
          1,
          1,
          1,
          1,
          1,
          1,
          1,
          1,
          1,
          1,
          1,
          1,
          1,
          1,
          1,
          1,
          1,
          1,
          1,
          1,
          1,
          1,
          1,
          1,
          1,
          1,
          1,
          2,
          2,
          2,
          2,
          2,
          2,
          2,
          2,
          2,
          2,
          2,
          2,
          2,
          2,
          2,
          2,
          2,
          2,
          2,
          2,
          2,
          2,
          2,
          2,
          2,
          2,
          2,
          2,
          2,
          2,
          2,
          2,
          2,
          2,
          2,
          2,
          2,
          2,
          2,
          2,
          2,
          2,
          2,
          2,
          3,
          3,
          3,
          3,
          3,
          3,
          3,
          3,
          3,
          3,
          3,
          3,
          3,
          3,
          3,
          3,
          3,
          3,
          3,
          3,
          3,
          3,
          3,
          3,
          3,
          3,
          3,
          3,
          3,
          3,
          3,
          3,
          3,
          3,
          4,
          4,
          4,
          4,
          4,
          4,
          4,
          4,
          4,
          4,
          4,
          4,
          4,
          4,
          4,
          4,
          4,
          4,
          4,
          4,
          4,
          4,
          4,
          5,
          5,
          5,
          5,
          5,
          5,
          5,
          5,
          5,
          5,
          5,
          5,
          5,
          5,
          5,
          5,
          5,
          5,
          6,
          6,
          6,
          6,
          6,
          6,
          6,
          6,
          6,
          6,
          6,
          6,
          6,
          6,
          6,
          6,
          6,
          6,
          6,
          6,
          6,
          7,
          7,
          7,
          7,
          7,
          7,
          7,
          7,
          7,
          7,
          7,
          8,
          8,
          8,
          8,
          8,
          8,
          8,
          9,
          9,
          9,
          9,
          9,
          9,
          10,
          10,
          10,
          10,
          11,
          11,
          11,
          11,
          12,
          12,
          12,
          12,
          13,
          13,
          13,
          13,
          13,
          13,
          14,
          14,
          15,
          15,
          15,
          17,
          17,
          20,
          21,
          22,
          26
         ],
         "yaxis": "y4"
        },
        {
         "marker": {
          "color": "Black"
         },
         "type": "bar",
         "x": [
          116,
          101,
          153,
          40,
          381,
          316,
          364,
          262,
          163,
          470,
          376,
          277,
          230,
          282,
          365,
          222,
          70,
          174,
          10,
          476,
          232,
          242,
          135,
          104,
          20,
          290,
          226,
          235,
          343,
          60,
          386,
          267,
          423,
          493,
          369,
          110,
          251,
          407,
          324,
          373,
          50,
          280,
          428,
          452,
          392,
          393,
          405,
          424,
          432,
          158,
          402,
          285,
          408,
          465,
          467,
          414,
          459,
          349,
          418,
          412,
          146,
          354,
          471,
          155,
          304,
          308,
          319,
          272,
          425,
          468,
          361,
          356,
          472,
          420,
          30,
          415,
          330,
          367,
          287,
          406,
          482,
          156
         ],
         "xaxis": "x5",
         "y": [
          182,
          147,
          62,
          45,
          44,
          39,
          36,
          33,
          30,
          28,
          27,
          26,
          25,
          25,
          24,
          20,
          19,
          18,
          17,
          16,
          16,
          16,
          15,
          14,
          14,
          11,
          11,
          11,
          11,
          10,
          10,
          9,
          9,
          9,
          9,
          8,
          7,
          7,
          6,
          6,
          6,
          6,
          6,
          6,
          5,
          4,
          4,
          4,
          4,
          4,
          4,
          4,
          3,
          3,
          3,
          3,
          3,
          2,
          2,
          2,
          2,
          2,
          2,
          2,
          2,
          2,
          2,
          1,
          1,
          1,
          1,
          1,
          1,
          1,
          1,
          1,
          1,
          1,
          1,
          1,
          1,
          1
         ],
         "yaxis": "y5"
        },
        {
         "marker": {
          "color": "Black"
         },
         "type": "bar",
         "x": [
          "Falta de Atenção à Condução",
          "Agressão Externa",
          "Falta de Atenção à Condução",
          "Falta de Atenção à Condução",
          "Desobediência às normas de trânsito pelo condutor",
          "Não guardar distância de segurança",
          "Falta de Atenção à Condução",
          "Falta de Atenção à Condução",
          "Animais na Pista",
          "Não guardar distância de segurança",
          "Falta de Atenção à Condução",
          "Desobediência às normas de trânsito pelo condutor",
          "Desobediência às normas de trânsito pelo condutor",
          "Falta de Atenção à Condução",
          "Não guardar distância de segurança",
          "Não guardar distância de segurança",
          "Falta de Atenção à Condução",
          "Pista Escorregadia",
          "Carga excessiva e/ou mal acondicionada",
          "Objeto estático sobre o leito carroçável",
          "Não guardar distância de segurança",
          "Falta de Atenção à Condução",
          "Falta de Atenção à Condução",
          "Falta de Atenção à Condução",
          "Falta de Atenção à Condução",
          "Falta de Atenção à Condução",
          "Desobediência às normas de trânsito pelo condutor",
          "Falta de Atenção do Pedestre",
          "Falta de Atenção à Condução",
          "Defeito Mecânico no Veículo",
          "Falta de Atenção à Condução",
          "Não guardar distância de segurança",
          "Falta de Atenção à Condução",
          "Não guardar distância de segurança",
          "Falta de Atenção à Condução",
          "Não guardar distância de segurança",
          "Ingestão de Álcool",
          "Desobediência às normas de trânsito pelo condutor",
          "Defeito Mecânico no Veículo",
          "Não guardar distância de segurança",
          "Defeito na Via",
          "Avarias e/ou desgaste excessivo no pneu"
         ],
         "xaxis": "x6",
         "y": [
          2,
          1,
          1,
          0,
          1,
          0,
          1,
          0,
          1,
          0,
          0,
          1,
          2,
          1,
          0,
          1,
          1,
          1,
          1,
          1,
          0,
          2,
          0,
          1,
          0,
          2,
          0,
          1,
          1,
          0,
          1,
          1,
          2,
          0,
          1,
          0,
          1,
          1,
          2,
          0,
          1,
          1
         ],
         "yaxis": "y6"
        }
       ],
       "layout": {
        "annotations": [
         {
          "font": {
           "size": 16
          },
          "showarrow": false,
          "text": "Numéro de mortos por estado",
          "x": 0.225,
          "xanchor": "center",
          "xref": "paper",
          "y": 1,
          "yanchor": "bottom",
          "yref": "paper"
         },
         {
          "font": {
           "size": 16
          },
          "showarrow": false,
          "text": "Principais causas dos acidentes",
          "x": 0.775,
          "xanchor": "center",
          "xref": "paper",
          "y": 1,
          "yanchor": "bottom",
          "yref": "paper"
         },
         {
          "font": {
           "size": 16
          },
          "showarrow": false,
          "text": "Condição meteorológica por número de mortos",
          "x": 0.225,
          "xanchor": "center",
          "xref": "paper",
          "y": 0.6111111111111112,
          "yanchor": "bottom",
          "yref": "paper"
         },
         {
          "font": {
           "size": 16
          },
          "showarrow": false,
          "text": "Horário do acidente por número de mortos",
          "x": 0.775,
          "xanchor": "center",
          "xref": "paper",
          "y": 0.6111111111111112,
          "yanchor": "bottom",
          "yref": "paper"
         },
         {
          "font": {
           "size": 16
          },
          "showarrow": false,
          "text": "Rodovias por número de mortos",
          "x": 0.225,
          "xanchor": "center",
          "xref": "paper",
          "y": 0.22222222222222224,
          "yanchor": "bottom",
          "yref": "paper"
         },
         {
          "font": {
           "size": 16
          },
          "showarrow": false,
          "text": "Causas de acidentes por feridos em Salvador",
          "x": 0.775,
          "xanchor": "center",
          "xref": "paper",
          "y": 0.22222222222222224,
          "yanchor": "bottom",
          "yref": "paper"
         }
        ],
        "height": 1000,
        "template": {
         "data": {
          "bar": [
           {
            "error_x": {
             "color": "#2a3f5f"
            },
            "error_y": {
             "color": "#2a3f5f"
            },
            "marker": {
             "line": {
              "color": "#E5ECF6",
              "width": 0.5
             }
            },
            "type": "bar"
           }
          ],
          "barpolar": [
           {
            "marker": {
             "line": {
              "color": "#E5ECF6",
              "width": 0.5
             }
            },
            "type": "barpolar"
           }
          ],
          "carpet": [
           {
            "aaxis": {
             "endlinecolor": "#2a3f5f",
             "gridcolor": "white",
             "linecolor": "white",
             "minorgridcolor": "white",
             "startlinecolor": "#2a3f5f"
            },
            "baxis": {
             "endlinecolor": "#2a3f5f",
             "gridcolor": "white",
             "linecolor": "white",
             "minorgridcolor": "white",
             "startlinecolor": "#2a3f5f"
            },
            "type": "carpet"
           }
          ],
          "choropleth": [
           {
            "colorbar": {
             "outlinewidth": 0,
             "ticks": ""
            },
            "type": "choropleth"
           }
          ],
          "contour": [
           {
            "colorbar": {
             "outlinewidth": 0,
             "ticks": ""
            },
            "colorscale": [
             [
              0,
              "#0d0887"
             ],
             [
              0.1111111111111111,
              "#46039f"
             ],
             [
              0.2222222222222222,
              "#7201a8"
             ],
             [
              0.3333333333333333,
              "#9c179e"
             ],
             [
              0.4444444444444444,
              "#bd3786"
             ],
             [
              0.5555555555555556,
              "#d8576b"
             ],
             [
              0.6666666666666666,
              "#ed7953"
             ],
             [
              0.7777777777777778,
              "#fb9f3a"
             ],
             [
              0.8888888888888888,
              "#fdca26"
             ],
             [
              1,
              "#f0f921"
             ]
            ],
            "type": "contour"
           }
          ],
          "contourcarpet": [
           {
            "colorbar": {
             "outlinewidth": 0,
             "ticks": ""
            },
            "type": "contourcarpet"
           }
          ],
          "heatmap": [
           {
            "colorbar": {
             "outlinewidth": 0,
             "ticks": ""
            },
            "colorscale": [
             [
              0,
              "#0d0887"
             ],
             [
              0.1111111111111111,
              "#46039f"
             ],
             [
              0.2222222222222222,
              "#7201a8"
             ],
             [
              0.3333333333333333,
              "#9c179e"
             ],
             [
              0.4444444444444444,
              "#bd3786"
             ],
             [
              0.5555555555555556,
              "#d8576b"
             ],
             [
              0.6666666666666666,
              "#ed7953"
             ],
             [
              0.7777777777777778,
              "#fb9f3a"
             ],
             [
              0.8888888888888888,
              "#fdca26"
             ],
             [
              1,
              "#f0f921"
             ]
            ],
            "type": "heatmap"
           }
          ],
          "heatmapgl": [
           {
            "colorbar": {
             "outlinewidth": 0,
             "ticks": ""
            },
            "colorscale": [
             [
              0,
              "#0d0887"
             ],
             [
              0.1111111111111111,
              "#46039f"
             ],
             [
              0.2222222222222222,
              "#7201a8"
             ],
             [
              0.3333333333333333,
              "#9c179e"
             ],
             [
              0.4444444444444444,
              "#bd3786"
             ],
             [
              0.5555555555555556,
              "#d8576b"
             ],
             [
              0.6666666666666666,
              "#ed7953"
             ],
             [
              0.7777777777777778,
              "#fb9f3a"
             ],
             [
              0.8888888888888888,
              "#fdca26"
             ],
             [
              1,
              "#f0f921"
             ]
            ],
            "type": "heatmapgl"
           }
          ],
          "histogram": [
           {
            "marker": {
             "colorbar": {
              "outlinewidth": 0,
              "ticks": ""
             }
            },
            "type": "histogram"
           }
          ],
          "histogram2d": [
           {
            "colorbar": {
             "outlinewidth": 0,
             "ticks": ""
            },
            "colorscale": [
             [
              0,
              "#0d0887"
             ],
             [
              0.1111111111111111,
              "#46039f"
             ],
             [
              0.2222222222222222,
              "#7201a8"
             ],
             [
              0.3333333333333333,
              "#9c179e"
             ],
             [
              0.4444444444444444,
              "#bd3786"
             ],
             [
              0.5555555555555556,
              "#d8576b"
             ],
             [
              0.6666666666666666,
              "#ed7953"
             ],
             [
              0.7777777777777778,
              "#fb9f3a"
             ],
             [
              0.8888888888888888,
              "#fdca26"
             ],
             [
              1,
              "#f0f921"
             ]
            ],
            "type": "histogram2d"
           }
          ],
          "histogram2dcontour": [
           {
            "colorbar": {
             "outlinewidth": 0,
             "ticks": ""
            },
            "colorscale": [
             [
              0,
              "#0d0887"
             ],
             [
              0.1111111111111111,
              "#46039f"
             ],
             [
              0.2222222222222222,
              "#7201a8"
             ],
             [
              0.3333333333333333,
              "#9c179e"
             ],
             [
              0.4444444444444444,
              "#bd3786"
             ],
             [
              0.5555555555555556,
              "#d8576b"
             ],
             [
              0.6666666666666666,
              "#ed7953"
             ],
             [
              0.7777777777777778,
              "#fb9f3a"
             ],
             [
              0.8888888888888888,
              "#fdca26"
             ],
             [
              1,
              "#f0f921"
             ]
            ],
            "type": "histogram2dcontour"
           }
          ],
          "mesh3d": [
           {
            "colorbar": {
             "outlinewidth": 0,
             "ticks": ""
            },
            "type": "mesh3d"
           }
          ],
          "parcoords": [
           {
            "line": {
             "colorbar": {
              "outlinewidth": 0,
              "ticks": ""
             }
            },
            "type": "parcoords"
           }
          ],
          "pie": [
           {
            "automargin": true,
            "type": "pie"
           }
          ],
          "scatter": [
           {
            "marker": {
             "colorbar": {
              "outlinewidth": 0,
              "ticks": ""
             }
            },
            "type": "scatter"
           }
          ],
          "scatter3d": [
           {
            "line": {
             "colorbar": {
              "outlinewidth": 0,
              "ticks": ""
             }
            },
            "marker": {
             "colorbar": {
              "outlinewidth": 0,
              "ticks": ""
             }
            },
            "type": "scatter3d"
           }
          ],
          "scattercarpet": [
           {
            "marker": {
             "colorbar": {
              "outlinewidth": 0,
              "ticks": ""
             }
            },
            "type": "scattercarpet"
           }
          ],
          "scattergeo": [
           {
            "marker": {
             "colorbar": {
              "outlinewidth": 0,
              "ticks": ""
             }
            },
            "type": "scattergeo"
           }
          ],
          "scattergl": [
           {
            "marker": {
             "colorbar": {
              "outlinewidth": 0,
              "ticks": ""
             }
            },
            "type": "scattergl"
           }
          ],
          "scattermapbox": [
           {
            "marker": {
             "colorbar": {
              "outlinewidth": 0,
              "ticks": ""
             }
            },
            "type": "scattermapbox"
           }
          ],
          "scatterpolar": [
           {
            "marker": {
             "colorbar": {
              "outlinewidth": 0,
              "ticks": ""
             }
            },
            "type": "scatterpolar"
           }
          ],
          "scatterpolargl": [
           {
            "marker": {
             "colorbar": {
              "outlinewidth": 0,
              "ticks": ""
             }
            },
            "type": "scatterpolargl"
           }
          ],
          "scatterternary": [
           {
            "marker": {
             "colorbar": {
              "outlinewidth": 0,
              "ticks": ""
             }
            },
            "type": "scatterternary"
           }
          ],
          "surface": [
           {
            "colorbar": {
             "outlinewidth": 0,
             "ticks": ""
            },
            "colorscale": [
             [
              0,
              "#0d0887"
             ],
             [
              0.1111111111111111,
              "#46039f"
             ],
             [
              0.2222222222222222,
              "#7201a8"
             ],
             [
              0.3333333333333333,
              "#9c179e"
             ],
             [
              0.4444444444444444,
              "#bd3786"
             ],
             [
              0.5555555555555556,
              "#d8576b"
             ],
             [
              0.6666666666666666,
              "#ed7953"
             ],
             [
              0.7777777777777778,
              "#fb9f3a"
             ],
             [
              0.8888888888888888,
              "#fdca26"
             ],
             [
              1,
              "#f0f921"
             ]
            ],
            "type": "surface"
           }
          ],
          "table": [
           {
            "cells": {
             "fill": {
              "color": "#EBF0F8"
             },
             "line": {
              "color": "white"
             }
            },
            "header": {
             "fill": {
              "color": "#C8D4E3"
             },
             "line": {
              "color": "white"
             }
            },
            "type": "table"
           }
          ]
         },
         "layout": {
          "annotationdefaults": {
           "arrowcolor": "#2a3f5f",
           "arrowhead": 0,
           "arrowwidth": 1
          },
          "autotypenumbers": "strict",
          "coloraxis": {
           "colorbar": {
            "outlinewidth": 0,
            "ticks": ""
           }
          },
          "colorscale": {
           "diverging": [
            [
             0,
             "#8e0152"
            ],
            [
             0.1,
             "#c51b7d"
            ],
            [
             0.2,
             "#de77ae"
            ],
            [
             0.3,
             "#f1b6da"
            ],
            [
             0.4,
             "#fde0ef"
            ],
            [
             0.5,
             "#f7f7f7"
            ],
            [
             0.6,
             "#e6f5d0"
            ],
            [
             0.7,
             "#b8e186"
            ],
            [
             0.8,
             "#7fbc41"
            ],
            [
             0.9,
             "#4d9221"
            ],
            [
             1,
             "#276419"
            ]
           ],
           "sequential": [
            [
             0,
             "#0d0887"
            ],
            [
             0.1111111111111111,
             "#46039f"
            ],
            [
             0.2222222222222222,
             "#7201a8"
            ],
            [
             0.3333333333333333,
             "#9c179e"
            ],
            [
             0.4444444444444444,
             "#bd3786"
            ],
            [
             0.5555555555555556,
             "#d8576b"
            ],
            [
             0.6666666666666666,
             "#ed7953"
            ],
            [
             0.7777777777777778,
             "#fb9f3a"
            ],
            [
             0.8888888888888888,
             "#fdca26"
            ],
            [
             1,
             "#f0f921"
            ]
           ],
           "sequentialminus": [
            [
             0,
             "#0d0887"
            ],
            [
             0.1111111111111111,
             "#46039f"
            ],
            [
             0.2222222222222222,
             "#7201a8"
            ],
            [
             0.3333333333333333,
             "#9c179e"
            ],
            [
             0.4444444444444444,
             "#bd3786"
            ],
            [
             0.5555555555555556,
             "#d8576b"
            ],
            [
             0.6666666666666666,
             "#ed7953"
            ],
            [
             0.7777777777777778,
             "#fb9f3a"
            ],
            [
             0.8888888888888888,
             "#fdca26"
            ],
            [
             1,
             "#f0f921"
            ]
           ]
          },
          "colorway": [
           "#636efa",
           "#EF553B",
           "#00cc96",
           "#ab63fa",
           "#FFA15A",
           "#19d3f3",
           "#FF6692",
           "#B6E880",
           "#FF97FF",
           "#FECB52"
          ],
          "font": {
           "color": "#2a3f5f"
          },
          "geo": {
           "bgcolor": "white",
           "lakecolor": "white",
           "landcolor": "#E5ECF6",
           "showlakes": true,
           "showland": true,
           "subunitcolor": "white"
          },
          "hoverlabel": {
           "align": "left"
          },
          "hovermode": "closest",
          "mapbox": {
           "style": "light"
          },
          "paper_bgcolor": "white",
          "plot_bgcolor": "#E5ECF6",
          "polar": {
           "angularaxis": {
            "gridcolor": "white",
            "linecolor": "white",
            "ticks": ""
           },
           "bgcolor": "#E5ECF6",
           "radialaxis": {
            "gridcolor": "white",
            "linecolor": "white",
            "ticks": ""
           }
          },
          "scene": {
           "xaxis": {
            "backgroundcolor": "#E5ECF6",
            "gridcolor": "white",
            "gridwidth": 2,
            "linecolor": "white",
            "showbackground": true,
            "ticks": "",
            "zerolinecolor": "white"
           },
           "yaxis": {
            "backgroundcolor": "#E5ECF6",
            "gridcolor": "white",
            "gridwidth": 2,
            "linecolor": "white",
            "showbackground": true,
            "ticks": "",
            "zerolinecolor": "white"
           },
           "zaxis": {
            "backgroundcolor": "#E5ECF6",
            "gridcolor": "white",
            "gridwidth": 2,
            "linecolor": "white",
            "showbackground": true,
            "ticks": "",
            "zerolinecolor": "white"
           }
          },
          "shapedefaults": {
           "line": {
            "color": "#2a3f5f"
           }
          },
          "ternary": {
           "aaxis": {
            "gridcolor": "white",
            "linecolor": "white",
            "ticks": ""
           },
           "baxis": {
            "gridcolor": "white",
            "linecolor": "white",
            "ticks": ""
           },
           "bgcolor": "#E5ECF6",
           "caxis": {
            "gridcolor": "white",
            "linecolor": "white",
            "ticks": ""
           }
          },
          "title": {
           "x": 0.05
          },
          "xaxis": {
           "automargin": true,
           "gridcolor": "white",
           "linecolor": "white",
           "ticks": "",
           "title": {
            "standoff": 15
           },
           "zerolinecolor": "white",
           "zerolinewidth": 2
          },
          "yaxis": {
           "automargin": true,
           "gridcolor": "white",
           "linecolor": "white",
           "ticks": "",
           "title": {
            "standoff": 15
           },
           "zerolinecolor": "white",
           "zerolinewidth": 2
          }
         }
        },
        "title": {
         "text": "Relatório - Acidentes de trânsito por rodovias federais do Brasil primeiro trimestre de 2020"
        },
        "width": 800,
        "xaxis": {
         "anchor": "y",
         "domain": [
          0,
          0.45
         ]
        },
        "xaxis2": {
         "anchor": "y2",
         "domain": [
          0.55,
          1
         ]
        },
        "xaxis3": {
         "anchor": "y3",
         "domain": [
          0,
          0.45
         ]
        },
        "xaxis4": {
         "anchor": "y4",
         "domain": [
          0.55,
          1
         ]
        },
        "xaxis5": {
         "anchor": "y5",
         "domain": [
          0,
          0.45
         ]
        },
        "xaxis6": {
         "anchor": "y6",
         "domain": [
          0.55,
          1
         ]
        },
        "yaxis": {
         "anchor": "x",
         "domain": [
          0.7777777777777778,
          1
         ]
        },
        "yaxis2": {
         "anchor": "x2",
         "domain": [
          0.7777777777777778,
          1
         ],
         "matches": "y",
         "showticklabels": false
        },
        "yaxis3": {
         "anchor": "x3",
         "domain": [
          0.3888888888888889,
          0.6111111111111112
         ]
        },
        "yaxis4": {
         "anchor": "x4",
         "domain": [
          0.3888888888888889,
          0.6111111111111112
         ],
         "matches": "y3",
         "showticklabels": false
        },
        "yaxis5": {
         "anchor": "x5",
         "domain": [
          0,
          0.22222222222222224
         ]
        },
        "yaxis6": {
         "anchor": "x6",
         "domain": [
          0,
          0.22222222222222224
         ],
         "matches": "y5",
         "showticklabels": false
        }
       }
      },
      "text/html": [
       "<div>                            <div id=\"9c7dda57-cd2a-4bf9-b10e-ebf17e1d1aa8\" class=\"plotly-graph-div\" style=\"height:1000px; width:800px;\"></div>            <script type=\"text/javascript\">                require([\"plotly\"], function(Plotly) {                    window.PLOTLYENV=window.PLOTLYENV || {};                                    if (document.getElementById(\"9c7dda57-cd2a-4bf9-b10e-ebf17e1d1aa8\")) {                    Plotly.newPlot(                        \"9c7dda57-cd2a-4bf9-b10e-ebf17e1d1aa8\",                        [{\"marker\": {\"color\": \"Black\"}, \"type\": \"bar\", \"x\": [\"AP\", \"AM\", \"AC\", \"DF\", \"SE\", \"RR\", \"AL\", \"RO\", \"PB\", \"RN\", \"TO\", \"ES\", \"MS\", \"PI\", \"CE\", \"PA\", \"MA\", \"MT\", \"RS\", \"GO\", \"RJ\", \"SP\", \"PE\", \"SC\", \"PR\", \"BA\", \"MG\"], \"xaxis\": \"x\", \"y\": [1, 2, 4, 7, 9, 13, 14, 15, 17, 21, 22, 24, 26, 33, 35, 38, 40, 43, 47, 54, 61, 67, 75, 90, 117, 132, 173], \"yaxis\": \"y\"}, {\"marker\": {\"color\": \"Black\"}, \"type\": \"bar\", \"x\": [5277, 1976, 1528, 1220, 942, 934, 702, 618, 438, 388, 305, 261, 252, 156, 111, 106, 96, 92, 84, 77, 57, 39, 30, 19], \"xaxis\": \"x2\", \"y\": [\"Falta de Aten\\u00e7\\u00e3o \\u00e0 Condu\\u00e7\\u00e3o\", \"Desobedi\\u00eancia \\u00e0s normas de tr\\u00e2nsito pelo condutor\", \"Velocidade Incompat\\u00edvel\", \"Ingest\\u00e3o de \\u00c1lcool\", \"Defeito Mec\\u00e2nico no Ve\\u00edculo\", \"N\\u00e3o guardar dist\\u00e2ncia de seguran\\u00e7a\", \"Pista Escorregadia\", \"Condutor Dormindo\", \"Falta de Aten\\u00e7\\u00e3o do Pedestre\", \"Animais na Pista\", \"Defeito na Via\", \"Avarias e/ou desgaste excessivo no pneu\", \"Ultrapassagem Indevida\", \"Mal S\\u00fabito\", \"Restri\\u00e7\\u00e3o de Visibilidade\", \"Objeto est\\u00e1tico sobre o leito carro\\u00e7\\u00e1vel\", \"Agress\\u00e3o Externa\", \"Desobedi\\u00eancia \\u00e0s normas de tr\\u00e2nsito pelo pedestre\", \"Ingest\\u00e3o de \\u00e1lcool e/ou subst\\u00e2ncias psicoativas pelo pedestre\", \"Carga excessiva e/ou mal acondicionada\", \"Fen\\u00f4menos da Natureza\", \"Sinaliza\\u00e7\\u00e3o da via insuficiente ou inadequada\", \"Defici\\u00eancia ou n\\u00e3o Acionamento do Sistema de Ilumina\\u00e7\\u00e3o/Sinaliza\\u00e7\\u00e3o do Ve\\u00edculo\", \"Ingest\\u00e3o de Subst\\u00e2ncias Psicoativas\"], \"yaxis\": \"y2\"}, {\"marker\": {\"color\": \"Black\"}, \"type\": \"bar\", \"x\": [\"C\\u00e9u Claro\", \"Chuva\", \"Nublado\", \"Sol\", \"Garoa/Chuvisco\", \"Ignorado\", \"Nevoeiro/Neblina\", \"Vento\"], \"xaxis\": \"x3\", \"y\": [605, 242, 212, 52, 46, 16, 7, 0], \"yaxis\": \"y3\"}, {\"marker\": {\"color\": \"Black\"}, \"mode\": \"markers\", \"type\": \"scatter\", \"x\": [\"23:58:00\", \"14:29:00\", \"14:32:00\", \"14:34:00\", \"14:35:00\", \"14:37:00\", \"14:38:00\", \"14:27:00\", \"14:39:00\", \"14:42:00\", \"14:44:00\", \"14:47:00\", \"14:48:00\", \"14:49:00\", \"22:22:00\", \"14:41:00\", \"14:25:00\", \"14:23:00\", \"22:26:00\", \"13:51:00\", \"13:52:00\", \"13:53:00\", \"13:54:00\", \"13:57:00\", \"13:59:00\", \"22:35:00\", \"14:01:00\", \"14:03:00\", \"14:07:00\", \"14:08:00\", \"22:27:00\", \"14:12:00\", \"14:16:00\", \"14:17:00\", \"14:51:00\", \"14:53:00\", \"14:58:00\", \"14:59:00\", \"15:34:00\", \"15:38:00\", \"15:42:00\", \"22:14:00\", \"15:48:00\", \"15:57:00\", \"15:59:00\", \"22:12:00\", \"16:01:00\", \"16:02:00\", \"16:03:00\", \"16:05:00\", \"16:07:00\", \"16:08:00\", \"16:09:00\", \"15:32:00\", \"22:36:00\", \"22:16:00\", \"15:27:00\", \"15:03:00\", \"15:04:00\", \"15:06:00\", \"15:09:00\", \"22:19:00\", \"15:11:00\", \"15:16:00\", \"15:17:00\", \"15:18:00\", \"15:19:00\", \"22:18:00\", \"15:21:00\", \"15:22:00\", \"15:23:00\", \"15:25:00\", \"15:29:00\", \"16:11:00\", \"13:48:00\", \"13:39:00\", \"11:38:00\", \"11:39:00\", \"11:42:00\", \"11:43:00\", \"11:48:00\", \"11:49:00\", \"11:37:00\", \"11:52:00\", \"11:55:00\", \"11:56:00\", \"22:53:00\", \"12:01:00\", \"12:08:00\", \"12:09:00\", \"11:54:00\", \"11:32:00\", \"11:29:00\", \"11:28:00\", \"10:58:00\", \"22:55:00\", \"11:03:00\", \"11:04:00\", \"11:07:00\", \"11:08:00\", \"11:09:00\", \"11:13:00\", \"11:15:00\", \"11:16:00\", \"11:18:00\", \"11:20:00\", \"11:22:00\", \"11:26:00\", \"11:27:00\", \"12:11:00\", \"12:12:00\", \"21:07:00\", \"12:14:00\", \"13:08:00\", \"13:09:00\", \"13:11:00\", \"13:12:00\", \"13:13:00\", \"13:14:00\", \"13:16:00\", \"13:17:00\", \"13:23:00\", \"13:26:00\", \"13:27:00\", \"13:29:00\", \"23:57:00\", \"13:36:00\", \"13:38:00\", \"13:05:00\", \"13:42:00\", \"13:03:00\", \"13:01:00\", \"12:23:00\", \"12:26:00\", \"12:31:00\", \"12:32:00\", \"12:35:00\", \"12:36:00\", \"12:39:00\", \"12:42:00\", \"12:43:00\", \"12:47:00\", \"12:54:00\", \"12:55:00\", \"12:56:00\", \"12:57:00\", \"12:58:00\", \"13:02:00\", \"16:12:00\", \"16:13:00\", \"16:16:00\", \"21:44:00\", \"19:12:00\", \"19:14:00\", \"21:43:00\", \"19:16:00\", \"19:17:00\", \"19:09:00\", \"19:18:00\", \"21:41:00\", \"19:22:00\", \"19:23:00\", \"19:28:00\", \"21:36:00\", \"19:31:00\", \"19:19:00\", \"19:07:00\", \"19:04:00\", \"18:58:00\", \"18:29:00\", \"18:33:00\", \"18:35:00\", \"18:36:00\", \"18:37:00\", \"18:38:00\", \"18:39:00\", \"18:42:00\", \"18:43:00\", \"18:47:00\", \"18:48:00\", \"18:49:00\", \"21:47:00\", \"18:54:00\", \"18:57:00\", \"19:32:00\", \"19:36:00\", \"19:37:00\", \"19:38:00\", \"20:15:00\", \"21:21:00\", \"20:22:00\", \"20:24:00\", \"20:28:00\", \"20:32:00\", \"20:37:00\", \"21:12:00\", \"20:42:00\", \"20:47:00\", \"20:48:00\", \"20:49:00\", \"20:57:00\", \"20:58:00\", \"21:03:00\", \"20:13:00\", \"18:28:00\", \"20:12:00\", \"21:23:00\", \"19:39:00\", \"19:41:00\", \"19:42:00\", \"19:43:00\", \"19:44:00\", \"21:28:00\", \"19:46:00\", \"21:26:00\", \"19:54:00\", \"19:55:00\", \"19:57:00\", \"20:01:00\", \"20:02:00\", \"20:04:00\", \"20:07:00\", \"20:11:00\", \"18:27:00\", \"18:25:00\", \"18:24:00\", \"16:47:00\", \"16:48:00\", \"16:53:00\", \"16:54:00\", \"16:58:00\", \"16:59:00\", \"22:08:00\", \"17:02:00\", \"17:05:00\", \"17:08:00\", \"17:12:00\", \"17:14:00\", \"17:17:00\", \"17:18:00\", \"22:07:00\", \"16:46:00\", \"17:21:00\", \"16:44:00\", \"16:42:00\", \"16:17:00\", \"16:19:00\", \"16:21:00\", \"16:22:00\", \"16:23:00\", \"16:25:00\", \"16:26:00\", \"16:27:00\", \"16:28:00\", \"16:29:00\", \"22:09:00\", \"16:31:00\", \"16:32:00\", \"16:34:00\", \"16:37:00\", \"16:43:00\", \"10:57:00\", \"17:22:00\", \"17:24:00\", \"17:54:00\", \"17:56:00\", \"17:58:00\", \"17:59:00\", \"21:59:00\", \"18:02:00\", \"18:03:00\", \"18:07:00\", \"18:08:00\", \"18:09:00\", \"21:56:00\", \"18:17:00\", \"18:18:00\", \"18:21:00\", \"18:23:00\", \"17:52:00\", \"17:23:00\", \"17:51:00\", \"17:48:00\", \"17:25:00\", \"17:26:00\", \"17:27:00\", \"17:29:00\", \"22:05:00\", \"17:31:00\", \"17:33:00\", \"17:34:00\", \"17:35:00\", \"17:36:00\", \"17:38:00\", \"17:39:00\", \"17:41:00\", \"17:42:00\", \"17:46:00\", \"22:02:00\", \"10:56:00\", \"12:13:00\", \"10:52:00\", \"06:24:00\", \"23:18:00\", \"06:19:00\", \"06:18:00\", \"06:17:00\", \"06:14:00\", \"06:06:00\", \"06:02:00\", \"23:22:00\", \"05:59:00\", \"05:54:00\", \"05:49:00\", \"05:42:00\", \"23:23:00\", \"05:39:00\", \"05:28:00\", \"05:27:00\", \"05:19:00\", \"05:18:00\", \"05:17:00\", \"05:07:00\", \"05:02:00\", \"04:54:00\", \"23:28:00\", \"04:35:00\", \"04:34:00\", \"23:29:00\", \"04:27:00\", \"04:15:00\", \"06:25:00\", \"04:13:00\", \"06:26:00\", \"06:29:00\", \"07:47:00\", \"07:46:00\", \"07:39:00\", \"07:35:00\", \"07:34:00\", \"07:32:00\", \"07:31:00\", \"07:29:00\", \"07:27:00\", \"07:22:00\", \"07:21:00\", \"07:16:00\", \"07:15:00\", \"07:14:00\", \"07:09:00\", \"07:05:00\", \"07:03:00\", \"06:58:00\", \"06:56:00\", \"06:55:00\", \"06:49:00\", \"06:48:00\", \"06:47:00\", \"06:46:00\", \"06:43:00\", \"06:42:00\", \"06:38:00\", \"06:36:00\", \"23:16:00\", \"06:27:00\", \"04:12:00\", \"23:31:00\", \"04:08:00\", \"01:52:00\", \"23:48:00\", \"01:49:00\", \"01:45:00\", \"01:44:00\", \"01:42:00\", \"01:40:00\", \"01:25:00\", \"01:24:00\", \"01:13:00\", \"01:09:00\", \"23:52:00\", \"00:59:00\", \"00:58:00\", \"00:55:00\", \"00:52:00\", \"00:49:00\", \"00:47:00\", \"00:37:00\", \"00:31:00\", \"00:29:00\", \"23:55:00\", \"00:23:00\", \"00:19:00\", \"00:18:00\", \"00:13:00\", \"00:12:00\", \"00:02:00\", \"00:01:00\", \"01:55:00\", \"01:58:00\", \"23:47:00\", \"02:03:00\", \"04:05:00\", \"04:01:00\", \"23:32:00\", \"03:51:00\", \"23:34:00\", \"03:48:00\", \"03:46:00\", \"03:44:00\", \"03:35:00\", \"03:34:00\", \"03:33:00\", \"03:32:00\", \"03:26:00\", \"23:36:00\", \"07:48:00\", \"03:19:00\", \"23:38:00\", \"03:05:00\", \"02:58:00\", \"02:56:00\", \"02:48:00\", \"02:40:00\", \"02:35:00\", \"02:28:00\", \"02:18:00\", \"02:14:00\", \"02:13:00\", \"02:08:00\", \"02:07:00\", \"02:04:00\", \"03:11:00\", \"07:52:00\", \"06:23:00\", \"07:55:00\", \"09:55:00\", \"09:54:00\", \"09:53:00\", \"09:47:00\", \"09:44:00\", \"09:42:00\", \"23:08:00\", \"09:39:00\", \"07:53:00\", \"09:37:00\", \"09:32:00\", \"09:29:00\", \"09:28:00\", \"09:25:00\", \"09:18:00\", \"09:17:00\", \"09:11:00\", \"08:55:00\", \"08:53:00\", \"08:51:00\", \"08:49:00\", \"08:48:00\", \"08:45:00\", \"08:44:00\", \"08:37:00\", \"09:57:00\", \"08:35:00\", \"09:58:00\", \"10:01:00\", \"22:57:00\", \"10:49:00\", \"10:48:00\", \"10:44:00\", \"10:41:00\", \"10:37:00\", \"10:35:00\", \"10:32:00\", \"10:31:00\", \"22:59:00\", \"10:28:00\", \"10:26:00\", \"10:25:00\", \"10:24:00\", \"10:22:00\", \"10:21:00\", \"10:18:00\", \"10:17:00\", \"10:13:00\", \"10:12:00\", \"23:01:00\", \"10:09:00\", \"10:08:00\", \"10:07:00\", \"10:04:00\", \"23:05:00\", \"08:34:00\", \"21:09:00\", \"08:18:00\", \"08:07:00\", \"08:13:00\", \"08:17:00\", \"07:58:00\", \"08:15:00\", \"08:16:00\", \"08:32:00\", \"08:01:00\", \"08:26:00\", \"08:04:00\", \"08:27:00\", \"07:57:00\", \"08:31:00\", \"08:25:00\", \"08:02:00\", \"08:08:00\", \"01:35:00\", \"19:35:00\", \"23:49:00\", \"14:18:00\", \"17:43:00\", \"11:34:00\", \"23:14:00\", \"17:45:00\", \"15:28:00\", \"08:20:00\", \"09:35:00\", \"22:03:00\", \"12:45:00\", \"01:15:00\", \"14:55:00\", \"04:25:00\", \"22:54:00\", \"03:40:00\", \"11:35:00\", \"12:25:00\", \"18:55:00\", \"10:05:00\", \"18:52:00\", \"19:08:00\", \"02:25:00\", \"07:17:00\", \"23:44:00\", \"21:48:00\", \"15:12:00\", \"12:02:00\", \"21:54:00\", \"02:44:00\", \"02:05:00\", \"02:50:00\", \"02:55:00\", \"21:55:00\", \"03:15:00\", \"08:05:00\", \"03:25:00\", \"12:15:00\", \"23:35:00\", \"09:50:00\", \"18:05:00\", \"14:05:00\", \"02:10:00\", \"15:35:00\", \"14:22:00\", \"05:41:00\", \"20:17:00\", \"16:38:00\", \"01:05:00\", \"20:21:00\", \"15:44:00\", \"05:55:00\", \"21:17:00\", \"06:05:00\", \"13:25:00\", \"15:41:00\", \"23:20:00\", \"06:15:00\", \"20:35:00\", \"11:05:00\", \"20:39:00\", \"16:15:00\", \"22:25:00\", \"08:38:00\", \"00:07:00\", \"00:05:00\", \"13:45:00\", \"08:28:00\", \"08:57:00\", \"20:19:00\", \"20:06:00\", \"23:12:00\", \"19:53:00\", \"05:20:00\", \"09:15:00\", \"15:37:00\", \"05:25:00\", \"20:14:00\", \"13:10:00\", \"17:10:00\", \"04:45:00\", \"00:35:00\", \"23:24:00\", \"16:50:00\", \"11:12:00\", \"04:50:00\", \"09:05:00\", \"01:20:00\", \"11:25:00\", \"21:35:00\", \"20:45:00\", \"21:10:00\", \"20:44:00\", \"08:00:00\", \"00:30:00\", \"00:50:00\", \"20:05:00\", \"15:05:00\", \"20:27:00\", \"11:45:00\", \"20:25:00\", \"07:25:00\", \"11:40:00\", \"11:10:00\", \"10:20:00\", \"07:45:00\", \"11:50:00\", \"21:45:00\", \"06:35:00\", \"22:15:00\", \"12:40:00\", \"04:20:00\", \"13:55:00\", \"05:05:00\", \"05:10:00\", \"09:10:00\", \"16:55:00\", \"09:00:00\", \"05:45:00\", \"16:35:00\", \"06:45:00\", \"22:10:00\", \"15:55:00\", \"13:35:00\", \"10:55:00\", \"17:55:00\", \"22:45:00\", \"12:10:00\", \"08:10:00\", \"15:15:00\", \"23:45:00\", \"05:35:00\", \"17:03:00\", \"00:40:00\", \"12:05:00\", \"13:15:00\", \"08:50:00\", \"14:30:00\", \"15:50:00\", \"00:15:00\", \"10:45:00\", \"02:15:00\", \"19:05:00\", \"20:50:00\", \"20:55:00\", \"08:30:00\", \"13:40:00\", \"14:45:00\", \"07:20:00\", \"14:15:00\", \"21:25:00\", \"18:19:00\", \"05:15:00\", \"23:10:00\", \"22:40:00\", \"09:20:00\", \"18:15:00\", \"04:55:00\", \"22:20:00\", \"23:25:00\", \"03:55:00\", \"23:15:00\", \"21:40:00\", \"10:15:00\", \"01:10:00\", \"00:10:00\", \"06:50:00\", \"08:40:00\", \"06:40:00\", \"09:45:00\", \"07:50:00\", \"21:05:00\", \"16:10:00\", \"02:45:00\", \"00:20:00\", \"13:20:00\", \"05:50:00\", \"10:40:00\", \"13:00:00\", \"16:40:00\", \"16:45:00\", \"05:33:00\", \"18:20:00\", \"17:15:00\", \"00:45:00\", \"07:10:00\", \"15:08:00\", \"03:45:00\", \"22:50:00\", \"23:40:00\", \"13:30:00\", \"20:40:00\", \"10:10:00\", \"13:50:00\", \"19:25:00\", \"07:30:00\", \"18:10:00\", \"10:30:00\", \"06:10:00\", \"20:10:00\", \"04:10:00\", \"01:50:00\", \"01:30:00\", \"15:10:00\", \"14:20:00\", \"11:30:00\", \"14:10:00\", \"14:40:00\", \"12:50:00\", \"12:20:00\", \"09:40:00\", \"15:20:00\", \"07:40:00\", \"06:20:00\", \"05:40:00\", \"04:40:00\", \"04:30:00\", \"00:25:00\", \"10:00:00\", \"16:20:00\", \"00:00:00\", \"19:50:00\", \"18:45:00\", \"19:15:00\", \"19:10:00\", \"17:50:00\", \"18:50:00\", \"03:50:00\", \"10:50:00\", \"19:40:00\", \"03:20:00\", \"03:00:00\", \"03:10:00\", \"21:20:00\", \"16:00:00\", \"09:30:00\", \"19:45:00\", \"18:40:00\", \"02:00:00\", \"20:20:00\", \"14:50:00\", \"21:15:00\", \"15:40:00\", \"15:45:00\", \"06:00:00\", \"07:00:00\", \"06:30:00\", \"11:00:00\", \"01:00:00\", \"23:30:00\", \"23:50:00\", \"21:30:00\", \"02:30:00\", \"12:00:00\", \"17:40:00\", \"03:30:00\", \"17:20:00\", \"02:20:00\", \"21:50:00\", \"20:30:00\", \"05:30:00\", \"22:00:00\", \"05:00:00\", \"12:30:00\", \"04:00:00\", \"22:30:00\", \"15:00:00\", \"17:30:00\", \"16:30:00\", \"17:00:00\", \"21:00:00\", \"19:20:00\", \"23:00:00\", \"15:30:00\", \"19:30:00\", \"18:00:00\", \"19:00:00\", \"18:30:00\", \"14:00:00\", \"20:00:00\"], \"xaxis\": \"x4\", \"y\": [0, 0, 0, 0, 0, 0, 0, 0, 0, 0, 0, 0, 0, 0, 0, 0, 0, 0, 0, 0, 0, 0, 0, 0, 0, 0, 0, 0, 0, 0, 0, 0, 0, 0, 0, 0, 0, 0, 0, 0, 0, 0, 0, 0, 0, 0, 0, 0, 0, 0, 0, 0, 0, 0, 0, 0, 0, 0, 0, 0, 0, 0, 0, 0, 0, 0, 0, 0, 0, 0, 0, 0, 0, 0, 0, 0, 0, 0, 0, 0, 0, 0, 0, 0, 0, 0, 0, 0, 0, 0, 0, 0, 0, 0, 0, 0, 0, 0, 0, 0, 0, 0, 0, 0, 0, 0, 0, 0, 0, 0, 0, 0, 0, 0, 0, 0, 0, 0, 0, 0, 0, 0, 0, 0, 0, 0, 0, 0, 0, 0, 0, 0, 0, 0, 0, 0, 0, 0, 0, 0, 0, 0, 0, 0, 0, 0, 0, 0, 0, 0, 0, 0, 0, 0, 0, 0, 0, 0, 0, 0, 0, 0, 0, 0, 0, 0, 0, 0, 0, 0, 0, 0, 0, 0, 0, 0, 0, 0, 0, 0, 0, 0, 0, 0, 0, 0, 0, 0, 0, 0, 0, 0, 0, 0, 0, 0, 0, 0, 0, 0, 0, 0, 0, 0, 0, 0, 0, 0, 0, 0, 0, 0, 0, 0, 0, 0, 0, 0, 0, 0, 0, 0, 0, 0, 0, 0, 0, 0, 0, 0, 0, 0, 0, 0, 0, 0, 0, 0, 0, 0, 0, 0, 0, 0, 0, 0, 0, 0, 0, 0, 0, 0, 0, 0, 0, 0, 0, 0, 0, 0, 0, 0, 0, 0, 0, 0, 0, 0, 0, 0, 0, 0, 0, 0, 0, 0, 0, 0, 0, 0, 0, 0, 0, 0, 0, 0, 0, 0, 0, 0, 0, 0, 0, 0, 0, 0, 0, 0, 0, 0, 0, 0, 0, 0, 0, 0, 0, 0, 0, 0, 0, 0, 0, 0, 0, 0, 0, 0, 0, 0, 0, 0, 0, 0, 0, 0, 0, 0, 0, 0, 0, 0, 0, 0, 0, 0, 0, 0, 0, 0, 0, 0, 0, 0, 0, 0, 0, 0, 0, 0, 0, 0, 0, 0, 0, 0, 0, 0, 0, 0, 0, 0, 0, 0, 0, 0, 0, 0, 0, 0, 0, 0, 0, 0, 0, 0, 0, 0, 0, 0, 0, 0, 0, 0, 0, 0, 0, 0, 0, 0, 0, 0, 0, 0, 0, 0, 0, 0, 0, 0, 0, 0, 0, 0, 0, 0, 0, 0, 0, 0, 0, 0, 0, 0, 0, 0, 0, 0, 0, 0, 0, 0, 0, 0, 0, 0, 0, 0, 0, 0, 0, 0, 0, 0, 0, 0, 0, 0, 0, 0, 0, 0, 0, 0, 0, 0, 0, 0, 0, 0, 0, 0, 0, 0, 0, 0, 0, 0, 0, 0, 0, 0, 0, 0, 0, 0, 0, 0, 0, 0, 0, 0, 0, 0, 0, 0, 0, 0, 0, 0, 0, 0, 0, 0, 0, 0, 0, 0, 0, 0, 0, 0, 0, 0, 0, 0, 0, 0, 0, 0, 0, 0, 0, 0, 0, 0, 0, 0, 0, 1, 1, 1, 1, 1, 1, 1, 1, 1, 1, 1, 1, 1, 1, 1, 1, 1, 1, 1, 1, 1, 1, 1, 1, 1, 1, 1, 1, 1, 1, 1, 1, 1, 1, 1, 1, 1, 1, 1, 1, 1, 1, 1, 1, 1, 1, 1, 1, 1, 1, 1, 1, 1, 1, 1, 1, 1, 1, 1, 1, 1, 1, 1, 1, 1, 1, 1, 1, 1, 1, 1, 1, 1, 1, 1, 1, 1, 1, 1, 1, 1, 1, 1, 1, 1, 1, 1, 1, 1, 2, 2, 2, 2, 2, 2, 2, 2, 2, 2, 2, 2, 2, 2, 2, 2, 2, 2, 2, 2, 2, 2, 2, 2, 2, 2, 2, 2, 2, 2, 2, 2, 2, 2, 2, 2, 2, 2, 2, 2, 2, 2, 2, 2, 3, 3, 3, 3, 3, 3, 3, 3, 3, 3, 3, 3, 3, 3, 3, 3, 3, 3, 3, 3, 3, 3, 3, 3, 3, 3, 3, 3, 3, 3, 3, 3, 3, 3, 4, 4, 4, 4, 4, 4, 4, 4, 4, 4, 4, 4, 4, 4, 4, 4, 4, 4, 4, 4, 4, 4, 4, 5, 5, 5, 5, 5, 5, 5, 5, 5, 5, 5, 5, 5, 5, 5, 5, 5, 5, 6, 6, 6, 6, 6, 6, 6, 6, 6, 6, 6, 6, 6, 6, 6, 6, 6, 6, 6, 6, 6, 7, 7, 7, 7, 7, 7, 7, 7, 7, 7, 7, 8, 8, 8, 8, 8, 8, 8, 9, 9, 9, 9, 9, 9, 10, 10, 10, 10, 11, 11, 11, 11, 12, 12, 12, 12, 13, 13, 13, 13, 13, 13, 14, 14, 15, 15, 15, 17, 17, 20, 21, 22, 26], \"yaxis\": \"y4\"}, {\"marker\": {\"color\": \"Black\"}, \"type\": \"bar\", \"x\": [116.0, 101.0, 153.0, 40.0, 381.0, 316.0, 364.0, 262.0, 163.0, 470.0, 376.0, 277.0, 230.0, 282.0, 365.0, 222.0, 70.0, 174.0, 10.0, 476.0, 232.0, 242.0, 135.0, 104.0, 20.0, 290.0, 226.0, 235.0, 343.0, 60.0, 386.0, 267.0, 423.0, 493.0, 369.0, 110.0, 251.0, 407.0, 324.0, 373.0, 50.0, 280.0, 428.0, 452.0, 392.0, 393.0, 405.0, 424.0, 432.0, 158.0, 402.0, 285.0, 408.0, 465.0, 467.0, 414.0, 459.0, 349.0, 418.0, 412.0, 146.0, 354.0, 471.0, 155.0, 304.0, 308.0, 319.0, 272.0, 425.0, 468.0, 361.0, 356.0, 472.0, 420.0, 30.0, 415.0, 330.0, 367.0, 287.0, 406.0, 482.0, 156.0], \"xaxis\": \"x5\", \"y\": [182, 147, 62, 45, 44, 39, 36, 33, 30, 28, 27, 26, 25, 25, 24, 20, 19, 18, 17, 16, 16, 16, 15, 14, 14, 11, 11, 11, 11, 10, 10, 9, 9, 9, 9, 8, 7, 7, 6, 6, 6, 6, 6, 6, 5, 4, 4, 4, 4, 4, 4, 4, 3, 3, 3, 3, 3, 2, 2, 2, 2, 2, 2, 2, 2, 2, 2, 1, 1, 1, 1, 1, 1, 1, 1, 1, 1, 1, 1, 1, 1, 1], \"yaxis\": \"y5\"}, {\"marker\": {\"color\": \"Black\"}, \"type\": \"bar\", \"x\": [\"Falta de Aten\\u00e7\\u00e3o \\u00e0 Condu\\u00e7\\u00e3o\", \"Agress\\u00e3o Externa\", \"Falta de Aten\\u00e7\\u00e3o \\u00e0 Condu\\u00e7\\u00e3o\", \"Falta de Aten\\u00e7\\u00e3o \\u00e0 Condu\\u00e7\\u00e3o\", \"Desobedi\\u00eancia \\u00e0s normas de tr\\u00e2nsito pelo condutor\", \"N\\u00e3o guardar dist\\u00e2ncia de seguran\\u00e7a\", \"Falta de Aten\\u00e7\\u00e3o \\u00e0 Condu\\u00e7\\u00e3o\", \"Falta de Aten\\u00e7\\u00e3o \\u00e0 Condu\\u00e7\\u00e3o\", \"Animais na Pista\", \"N\\u00e3o guardar dist\\u00e2ncia de seguran\\u00e7a\", \"Falta de Aten\\u00e7\\u00e3o \\u00e0 Condu\\u00e7\\u00e3o\", \"Desobedi\\u00eancia \\u00e0s normas de tr\\u00e2nsito pelo condutor\", \"Desobedi\\u00eancia \\u00e0s normas de tr\\u00e2nsito pelo condutor\", \"Falta de Aten\\u00e7\\u00e3o \\u00e0 Condu\\u00e7\\u00e3o\", \"N\\u00e3o guardar dist\\u00e2ncia de seguran\\u00e7a\", \"N\\u00e3o guardar dist\\u00e2ncia de seguran\\u00e7a\", \"Falta de Aten\\u00e7\\u00e3o \\u00e0 Condu\\u00e7\\u00e3o\", \"Pista Escorregadia\", \"Carga excessiva e/ou mal acondicionada\", \"Objeto est\\u00e1tico sobre o leito carro\\u00e7\\u00e1vel\", \"N\\u00e3o guardar dist\\u00e2ncia de seguran\\u00e7a\", \"Falta de Aten\\u00e7\\u00e3o \\u00e0 Condu\\u00e7\\u00e3o\", \"Falta de Aten\\u00e7\\u00e3o \\u00e0 Condu\\u00e7\\u00e3o\", \"Falta de Aten\\u00e7\\u00e3o \\u00e0 Condu\\u00e7\\u00e3o\", \"Falta de Aten\\u00e7\\u00e3o \\u00e0 Condu\\u00e7\\u00e3o\", \"Falta de Aten\\u00e7\\u00e3o \\u00e0 Condu\\u00e7\\u00e3o\", \"Desobedi\\u00eancia \\u00e0s normas de tr\\u00e2nsito pelo condutor\", \"Falta de Aten\\u00e7\\u00e3o do Pedestre\", \"Falta de Aten\\u00e7\\u00e3o \\u00e0 Condu\\u00e7\\u00e3o\", \"Defeito Mec\\u00e2nico no Ve\\u00edculo\", \"Falta de Aten\\u00e7\\u00e3o \\u00e0 Condu\\u00e7\\u00e3o\", \"N\\u00e3o guardar dist\\u00e2ncia de seguran\\u00e7a\", \"Falta de Aten\\u00e7\\u00e3o \\u00e0 Condu\\u00e7\\u00e3o\", \"N\\u00e3o guardar dist\\u00e2ncia de seguran\\u00e7a\", \"Falta de Aten\\u00e7\\u00e3o \\u00e0 Condu\\u00e7\\u00e3o\", \"N\\u00e3o guardar dist\\u00e2ncia de seguran\\u00e7a\", \"Ingest\\u00e3o de \\u00c1lcool\", \"Desobedi\\u00eancia \\u00e0s normas de tr\\u00e2nsito pelo condutor\", \"Defeito Mec\\u00e2nico no Ve\\u00edculo\", \"N\\u00e3o guardar dist\\u00e2ncia de seguran\\u00e7a\", \"Defeito na Via\", \"Avarias e/ou desgaste excessivo no pneu\"], \"xaxis\": \"x6\", \"y\": [2, 1, 1, 0, 1, 0, 1, 0, 1, 0, 0, 1, 2, 1, 0, 1, 1, 1, 1, 1, 0, 2, 0, 1, 0, 2, 0, 1, 1, 0, 1, 1, 2, 0, 1, 0, 1, 1, 2, 0, 1, 1], \"yaxis\": \"y6\"}],                        {\"annotations\": [{\"font\": {\"size\": 16}, \"showarrow\": false, \"text\": \"Num\\u00e9ro de mortos por estado\", \"x\": 0.225, \"xanchor\": \"center\", \"xref\": \"paper\", \"y\": 1.0, \"yanchor\": \"bottom\", \"yref\": \"paper\"}, {\"font\": {\"size\": 16}, \"showarrow\": false, \"text\": \"Principais causas dos acidentes\", \"x\": 0.775, \"xanchor\": \"center\", \"xref\": \"paper\", \"y\": 1.0, \"yanchor\": \"bottom\", \"yref\": \"paper\"}, {\"font\": {\"size\": 16}, \"showarrow\": false, \"text\": \"Condi\\u00e7\\u00e3o meteorol\\u00f3gica por n\\u00famero de mortos\", \"x\": 0.225, \"xanchor\": \"center\", \"xref\": \"paper\", \"y\": 0.6111111111111112, \"yanchor\": \"bottom\", \"yref\": \"paper\"}, {\"font\": {\"size\": 16}, \"showarrow\": false, \"text\": \"Hor\\u00e1rio do acidente por n\\u00famero de mortos\", \"x\": 0.775, \"xanchor\": \"center\", \"xref\": \"paper\", \"y\": 0.6111111111111112, \"yanchor\": \"bottom\", \"yref\": \"paper\"}, {\"font\": {\"size\": 16}, \"showarrow\": false, \"text\": \"Rodovias por n\\u00famero de mortos\", \"x\": 0.225, \"xanchor\": \"center\", \"xref\": \"paper\", \"y\": 0.22222222222222224, \"yanchor\": \"bottom\", \"yref\": \"paper\"}, {\"font\": {\"size\": 16}, \"showarrow\": false, \"text\": \"Causas de acidentes por feridos em Salvador\", \"x\": 0.775, \"xanchor\": \"center\", \"xref\": \"paper\", \"y\": 0.22222222222222224, \"yanchor\": \"bottom\", \"yref\": \"paper\"}], \"height\": 1000, \"template\": {\"data\": {\"bar\": [{\"error_x\": {\"color\": \"#2a3f5f\"}, \"error_y\": {\"color\": \"#2a3f5f\"}, \"marker\": {\"line\": {\"color\": \"#E5ECF6\", \"width\": 0.5}}, \"type\": \"bar\"}], \"barpolar\": [{\"marker\": {\"line\": {\"color\": \"#E5ECF6\", \"width\": 0.5}}, \"type\": \"barpolar\"}], \"carpet\": [{\"aaxis\": {\"endlinecolor\": \"#2a3f5f\", \"gridcolor\": \"white\", \"linecolor\": \"white\", \"minorgridcolor\": \"white\", \"startlinecolor\": \"#2a3f5f\"}, \"baxis\": {\"endlinecolor\": \"#2a3f5f\", \"gridcolor\": \"white\", \"linecolor\": \"white\", \"minorgridcolor\": \"white\", \"startlinecolor\": \"#2a3f5f\"}, \"type\": \"carpet\"}], \"choropleth\": [{\"colorbar\": {\"outlinewidth\": 0, \"ticks\": \"\"}, \"type\": \"choropleth\"}], \"contour\": [{\"colorbar\": {\"outlinewidth\": 0, \"ticks\": \"\"}, \"colorscale\": [[0.0, \"#0d0887\"], [0.1111111111111111, \"#46039f\"], [0.2222222222222222, \"#7201a8\"], [0.3333333333333333, \"#9c179e\"], [0.4444444444444444, \"#bd3786\"], [0.5555555555555556, \"#d8576b\"], [0.6666666666666666, \"#ed7953\"], [0.7777777777777778, \"#fb9f3a\"], [0.8888888888888888, \"#fdca26\"], [1.0, \"#f0f921\"]], \"type\": \"contour\"}], \"contourcarpet\": [{\"colorbar\": {\"outlinewidth\": 0, \"ticks\": \"\"}, \"type\": \"contourcarpet\"}], \"heatmap\": [{\"colorbar\": {\"outlinewidth\": 0, \"ticks\": \"\"}, \"colorscale\": [[0.0, \"#0d0887\"], [0.1111111111111111, \"#46039f\"], [0.2222222222222222, \"#7201a8\"], [0.3333333333333333, \"#9c179e\"], [0.4444444444444444, \"#bd3786\"], [0.5555555555555556, \"#d8576b\"], [0.6666666666666666, \"#ed7953\"], [0.7777777777777778, \"#fb9f3a\"], [0.8888888888888888, \"#fdca26\"], [1.0, \"#f0f921\"]], \"type\": \"heatmap\"}], \"heatmapgl\": [{\"colorbar\": {\"outlinewidth\": 0, \"ticks\": \"\"}, \"colorscale\": [[0.0, \"#0d0887\"], [0.1111111111111111, \"#46039f\"], [0.2222222222222222, \"#7201a8\"], [0.3333333333333333, \"#9c179e\"], [0.4444444444444444, \"#bd3786\"], [0.5555555555555556, \"#d8576b\"], [0.6666666666666666, \"#ed7953\"], [0.7777777777777778, \"#fb9f3a\"], [0.8888888888888888, \"#fdca26\"], [1.0, \"#f0f921\"]], \"type\": \"heatmapgl\"}], \"histogram\": [{\"marker\": {\"colorbar\": {\"outlinewidth\": 0, \"ticks\": \"\"}}, \"type\": \"histogram\"}], \"histogram2d\": [{\"colorbar\": {\"outlinewidth\": 0, \"ticks\": \"\"}, \"colorscale\": [[0.0, \"#0d0887\"], [0.1111111111111111, \"#46039f\"], [0.2222222222222222, \"#7201a8\"], [0.3333333333333333, \"#9c179e\"], [0.4444444444444444, \"#bd3786\"], [0.5555555555555556, \"#d8576b\"], [0.6666666666666666, \"#ed7953\"], [0.7777777777777778, \"#fb9f3a\"], [0.8888888888888888, \"#fdca26\"], [1.0, \"#f0f921\"]], \"type\": \"histogram2d\"}], \"histogram2dcontour\": [{\"colorbar\": {\"outlinewidth\": 0, \"ticks\": \"\"}, \"colorscale\": [[0.0, \"#0d0887\"], [0.1111111111111111, \"#46039f\"], [0.2222222222222222, \"#7201a8\"], [0.3333333333333333, \"#9c179e\"], [0.4444444444444444, \"#bd3786\"], [0.5555555555555556, \"#d8576b\"], [0.6666666666666666, \"#ed7953\"], [0.7777777777777778, \"#fb9f3a\"], [0.8888888888888888, \"#fdca26\"], [1.0, \"#f0f921\"]], \"type\": \"histogram2dcontour\"}], \"mesh3d\": [{\"colorbar\": {\"outlinewidth\": 0, \"ticks\": \"\"}, \"type\": \"mesh3d\"}], \"parcoords\": [{\"line\": {\"colorbar\": {\"outlinewidth\": 0, \"ticks\": \"\"}}, \"type\": \"parcoords\"}], \"pie\": [{\"automargin\": true, \"type\": \"pie\"}], \"scatter\": [{\"marker\": {\"colorbar\": {\"outlinewidth\": 0, \"ticks\": \"\"}}, \"type\": \"scatter\"}], \"scatter3d\": [{\"line\": {\"colorbar\": {\"outlinewidth\": 0, \"ticks\": \"\"}}, \"marker\": {\"colorbar\": {\"outlinewidth\": 0, \"ticks\": \"\"}}, \"type\": \"scatter3d\"}], \"scattercarpet\": [{\"marker\": {\"colorbar\": {\"outlinewidth\": 0, \"ticks\": \"\"}}, \"type\": \"scattercarpet\"}], \"scattergeo\": [{\"marker\": {\"colorbar\": {\"outlinewidth\": 0, \"ticks\": \"\"}}, \"type\": \"scattergeo\"}], \"scattergl\": [{\"marker\": {\"colorbar\": {\"outlinewidth\": 0, \"ticks\": \"\"}}, \"type\": \"scattergl\"}], \"scattermapbox\": [{\"marker\": {\"colorbar\": {\"outlinewidth\": 0, \"ticks\": \"\"}}, \"type\": \"scattermapbox\"}], \"scatterpolar\": [{\"marker\": {\"colorbar\": {\"outlinewidth\": 0, \"ticks\": \"\"}}, \"type\": \"scatterpolar\"}], \"scatterpolargl\": [{\"marker\": {\"colorbar\": {\"outlinewidth\": 0, \"ticks\": \"\"}}, \"type\": \"scatterpolargl\"}], \"scatterternary\": [{\"marker\": {\"colorbar\": {\"outlinewidth\": 0, \"ticks\": \"\"}}, \"type\": \"scatterternary\"}], \"surface\": [{\"colorbar\": {\"outlinewidth\": 0, \"ticks\": \"\"}, \"colorscale\": [[0.0, \"#0d0887\"], [0.1111111111111111, \"#46039f\"], [0.2222222222222222, \"#7201a8\"], [0.3333333333333333, \"#9c179e\"], [0.4444444444444444, \"#bd3786\"], [0.5555555555555556, \"#d8576b\"], [0.6666666666666666, \"#ed7953\"], [0.7777777777777778, \"#fb9f3a\"], [0.8888888888888888, \"#fdca26\"], [1.0, \"#f0f921\"]], \"type\": \"surface\"}], \"table\": [{\"cells\": {\"fill\": {\"color\": \"#EBF0F8\"}, \"line\": {\"color\": \"white\"}}, \"header\": {\"fill\": {\"color\": \"#C8D4E3\"}, \"line\": {\"color\": \"white\"}}, \"type\": \"table\"}]}, \"layout\": {\"annotationdefaults\": {\"arrowcolor\": \"#2a3f5f\", \"arrowhead\": 0, \"arrowwidth\": 1}, \"autotypenumbers\": \"strict\", \"coloraxis\": {\"colorbar\": {\"outlinewidth\": 0, \"ticks\": \"\"}}, \"colorscale\": {\"diverging\": [[0, \"#8e0152\"], [0.1, \"#c51b7d\"], [0.2, \"#de77ae\"], [0.3, \"#f1b6da\"], [0.4, \"#fde0ef\"], [0.5, \"#f7f7f7\"], [0.6, \"#e6f5d0\"], [0.7, \"#b8e186\"], [0.8, \"#7fbc41\"], [0.9, \"#4d9221\"], [1, \"#276419\"]], \"sequential\": [[0.0, \"#0d0887\"], [0.1111111111111111, \"#46039f\"], [0.2222222222222222, \"#7201a8\"], [0.3333333333333333, \"#9c179e\"], [0.4444444444444444, \"#bd3786\"], [0.5555555555555556, \"#d8576b\"], [0.6666666666666666, \"#ed7953\"], [0.7777777777777778, \"#fb9f3a\"], [0.8888888888888888, \"#fdca26\"], [1.0, \"#f0f921\"]], \"sequentialminus\": [[0.0, \"#0d0887\"], [0.1111111111111111, \"#46039f\"], [0.2222222222222222, \"#7201a8\"], [0.3333333333333333, \"#9c179e\"], [0.4444444444444444, \"#bd3786\"], [0.5555555555555556, \"#d8576b\"], [0.6666666666666666, \"#ed7953\"], [0.7777777777777778, \"#fb9f3a\"], [0.8888888888888888, \"#fdca26\"], [1.0, \"#f0f921\"]]}, \"colorway\": [\"#636efa\", \"#EF553B\", \"#00cc96\", \"#ab63fa\", \"#FFA15A\", \"#19d3f3\", \"#FF6692\", \"#B6E880\", \"#FF97FF\", \"#FECB52\"], \"font\": {\"color\": \"#2a3f5f\"}, \"geo\": {\"bgcolor\": \"white\", \"lakecolor\": \"white\", \"landcolor\": \"#E5ECF6\", \"showlakes\": true, \"showland\": true, \"subunitcolor\": \"white\"}, \"hoverlabel\": {\"align\": \"left\"}, \"hovermode\": \"closest\", \"mapbox\": {\"style\": \"light\"}, \"paper_bgcolor\": \"white\", \"plot_bgcolor\": \"#E5ECF6\", \"polar\": {\"angularaxis\": {\"gridcolor\": \"white\", \"linecolor\": \"white\", \"ticks\": \"\"}, \"bgcolor\": \"#E5ECF6\", \"radialaxis\": {\"gridcolor\": \"white\", \"linecolor\": \"white\", \"ticks\": \"\"}}, \"scene\": {\"xaxis\": {\"backgroundcolor\": \"#E5ECF6\", \"gridcolor\": \"white\", \"gridwidth\": 2, \"linecolor\": \"white\", \"showbackground\": true, \"ticks\": \"\", \"zerolinecolor\": \"white\"}, \"yaxis\": {\"backgroundcolor\": \"#E5ECF6\", \"gridcolor\": \"white\", \"gridwidth\": 2, \"linecolor\": \"white\", \"showbackground\": true, \"ticks\": \"\", \"zerolinecolor\": \"white\"}, \"zaxis\": {\"backgroundcolor\": \"#E5ECF6\", \"gridcolor\": \"white\", \"gridwidth\": 2, \"linecolor\": \"white\", \"showbackground\": true, \"ticks\": \"\", \"zerolinecolor\": \"white\"}}, \"shapedefaults\": {\"line\": {\"color\": \"#2a3f5f\"}}, \"ternary\": {\"aaxis\": {\"gridcolor\": \"white\", \"linecolor\": \"white\", \"ticks\": \"\"}, \"baxis\": {\"gridcolor\": \"white\", \"linecolor\": \"white\", \"ticks\": \"\"}, \"bgcolor\": \"#E5ECF6\", \"caxis\": {\"gridcolor\": \"white\", \"linecolor\": \"white\", \"ticks\": \"\"}}, \"title\": {\"x\": 0.05}, \"xaxis\": {\"automargin\": true, \"gridcolor\": \"white\", \"linecolor\": \"white\", \"ticks\": \"\", \"title\": {\"standoff\": 15}, \"zerolinecolor\": \"white\", \"zerolinewidth\": 2}, \"yaxis\": {\"automargin\": true, \"gridcolor\": \"white\", \"linecolor\": \"white\", \"ticks\": \"\", \"title\": {\"standoff\": 15}, \"zerolinecolor\": \"white\", \"zerolinewidth\": 2}}}, \"title\": {\"text\": \"Relat\\u00f3rio - Acidentes de tr\\u00e2nsito por rodovias federais do Brasil primeiro trimestre de 2020\"}, \"width\": 800, \"xaxis\": {\"anchor\": \"y\", \"domain\": [0.0, 0.45]}, \"xaxis2\": {\"anchor\": \"y2\", \"domain\": [0.55, 1.0]}, \"xaxis3\": {\"anchor\": \"y3\", \"domain\": [0.0, 0.45]}, \"xaxis4\": {\"anchor\": \"y4\", \"domain\": [0.55, 1.0]}, \"xaxis5\": {\"anchor\": \"y5\", \"domain\": [0.0, 0.45]}, \"xaxis6\": {\"anchor\": \"y6\", \"domain\": [0.55, 1.0]}, \"yaxis\": {\"anchor\": \"x\", \"domain\": [0.7777777777777778, 1.0]}, \"yaxis2\": {\"anchor\": \"x2\", \"domain\": [0.7777777777777778, 1.0], \"matches\": \"y\", \"showticklabels\": false}, \"yaxis3\": {\"anchor\": \"x3\", \"domain\": [0.3888888888888889, 0.6111111111111112]}, \"yaxis4\": {\"anchor\": \"x4\", \"domain\": [0.3888888888888889, 0.6111111111111112], \"matches\": \"y3\", \"showticklabels\": false}, \"yaxis5\": {\"anchor\": \"x5\", \"domain\": [0.0, 0.22222222222222224]}, \"yaxis6\": {\"anchor\": \"x6\", \"domain\": [0.0, 0.22222222222222224], \"matches\": \"y5\", \"showticklabels\": false}},                        {\"responsive\": true}                    ).then(function(){\n",
       "                            \n",
       "var gd = document.getElementById('9c7dda57-cd2a-4bf9-b10e-ebf17e1d1aa8');\n",
       "var x = new MutationObserver(function (mutations, observer) {{\n",
       "        var display = window.getComputedStyle(gd).display;\n",
       "        if (!display || display === 'none') {{\n",
       "            console.log([gd, 'removed!']);\n",
       "            Plotly.purge(gd);\n",
       "            observer.disconnect();\n",
       "        }}\n",
       "}});\n",
       "\n",
       "// Listen for the removal of the full notebook cells\n",
       "var notebookContainer = gd.closest('#notebook-container');\n",
       "if (notebookContainer) {{\n",
       "    x.observe(notebookContainer, {childList: true});\n",
       "}}\n",
       "\n",
       "// Listen for the clearing of the current output cell\n",
       "var outputEl = gd.closest('.output');\n",
       "if (outputEl) {{\n",
       "    x.observe(outputEl, {childList: true});\n",
       "}}\n",
       "\n",
       "                        })                };                });            </script>        </div>"
      ]
     },
     "metadata": {},
     "output_type": "display_data"
    }
   ],
   "source": [
    "#\n",
    "fig = make_subplots(\n",
    "    rows=3,\n",
    "    cols=2,\n",
    "    subplot_titles=('Numéro de mortos por estado',\n",
    "                    'Principais causas dos acidentes',\n",
    "                    'Condição meteorológica por número de mortos',\n",
    "                    'Horário do acidente por número de mortos',\n",
    "                    'Rodovias por número de mortos',\n",
    "                    'Causas de acidentes por feridos em Salvador'),\n",
    "    shared_yaxes=True)\n",
    "\n",
    "fig.add_trace(\n",
    "    go.Bar(x=mortos_uf['uf'],\n",
    "           y=mortos_uf['mortos'],\n",
    "           marker=dict(color='Black')), 1, 1)\n",
    "\n",
    "fig.add_trace(\n",
    "    go.Bar(x=causa_acidente['causa_acidente'],\n",
    "           y=causa_acidente['index'],\n",
    "           marker=dict(color='Black')), 1, 2)\n",
    "\n",
    "fig.add_trace(\n",
    "    go.Bar(x=clima_mortos['condicao_metereologica'],\n",
    "           y=clima_mortos['mortos'],\n",
    "           marker=dict(color='Black')), 2, 1)\n",
    "\n",
    "fig.add_trace(\n",
    "    go.Scatter(x=hor_mort['horario'],\n",
    "               y=hor_mort['mortos'],\n",
    "               mode = 'markers',\n",
    "               marker=dict(color='Black')), 2, 2)\n",
    "\n",
    "fig.add_trace(\n",
    "    go.Bar(x=br_mortos['br'],\n",
    "           y=br_mortos['mortos'],\n",
    "           marker=dict(color='Black')), 3, 1)\n",
    "\n",
    "fig.add_trace(\n",
    "    go.Bar(x=salvador_ba['causa_acidente'],\n",
    "           y=salvador_ba['feridos'],\n",
    "           marker=dict(color='Black')), 3, 2)\n",
    "\n",
    "fig.update_layout(\n",
    "    height=1000,\n",
    "    width=800,\n",
    "    title_text=\n",
    "    \"Relatório - Acidentes de trânsito por rodovias federais do Brasil primeiro trimestre de 2020\"\n",
    ")\n",
    "fig.show()"
   ]
  },
  {
   "cell_type": "markdown",
   "metadata": {},
   "source": [
    "# **CARGA**"
   ]
  },
  {
   "cell_type": "code",
   "execution_count": 27,
   "metadata": {
    "ExecuteTime": {
     "end_time": "2021-03-28T23:35:34.156710Z",
     "start_time": "2021-03-28T23:35:33.983146Z"
    }
   },
   "outputs": [],
   "source": [
    "# Salvando o Dashboard em formato HTML \n",
    "fig.write_html(\"Dashboard.html\")"
   ]
  },
  {
   "cell_type": "markdown",
   "metadata": {},
   "source": [
    "# *Feedbacks :*\n",
    "\n",
    "## *Número de mortos nos três primeiros meses de 2020 nas rodovias federais brasileiras: 1180*\n",
    "\n",
    "## *Minas Gerais, Bahia e Paraná foram os estados com mais mortes, é importante tomar decisões sobre a qualidade das rodovias e a educação ao volante.*\n",
    "\n",
    "## *As principais causas dos acidentes são;  Falta de Atenção à Condução, Desobediência às normas de trânsito pelo condutor, Velocidade Incompatível e Ingestão de Álcool.*\n",
    "\n",
    "## *Em relação as condições meteorológicas, em 605 óbitos dos 1180 ao todo, o clima estava em céu claro.*\n",
    "\n",
    "## *O dia da semana onde os acidentes que resultaram em óbitos foram mais frequentes  foi o domingo.\n",
    "\n",
    "## *Os horários a seguir chegam a apresentar cerca de 50% das mortes: 13:57:00, 13:59:00, 22:35:00, 14:01:00, 14:03:00, percebemos que são horários de volta para casa para o almoço ou troca de turno, e no período noturno também para volta ao domicílio e jantar. \n",
    "\n",
    "## *As rodovias mais perigosas foram as 101 e 116 contendo números elevados de mortos em acidentes.*\n",
    "\n",
    "## *Em Salvador os acidentes foram pouco mais 40, com a principal causa sendo falta de atenção a condução.*\n",
    "\n",
    "# * É imprescindível a responsabilidade, atenção e respeito as normas e condutas de leis quando se está dirigindo. Torna-se indispensável respeitar o próximo e cuidar da sua direção. Deve-se estar de acordo a lei seca (LEI Nº 11.705, DE 19 DE JUNHO DE 2008.), não dirigir sobre efeito de álcool ou substâncias químicas, não ultrapassar velocidades limitadas, sobretudo estar de acordo aos regimes jurídicos em relação a direção."
   ]
  }
 ],
 "metadata": {
  "colab": {
   "collapsed_sections": [],
   "name": "Acidentes_de_Trânsito_2020_por_Rodovias.ipynb",
   "provenance": []
  },
  "kernelspec": {
   "display_name": "Python 3",
   "language": "python",
   "name": "python3"
  },
  "language_info": {
   "codemirror_mode": {
    "name": "ipython",
    "version": 3
   },
   "file_extension": ".py",
   "mimetype": "text/x-python",
   "name": "python",
   "nbconvert_exporter": "python",
   "pygments_lexer": "ipython3",
   "version": "3.8.3"
  },
  "varInspector": {
   "cols": {
    "lenName": 16,
    "lenType": 16,
    "lenVar": 40
   },
   "kernels_config": {
    "python": {
     "delete_cmd_postfix": "",
     "delete_cmd_prefix": "del ",
     "library": "var_list.py",
     "varRefreshCmd": "print(var_dic_list())"
    },
    "r": {
     "delete_cmd_postfix": ") ",
     "delete_cmd_prefix": "rm(",
     "library": "var_list.r",
     "varRefreshCmd": "cat(var_dic_list()) "
    }
   },
   "types_to_exclude": [
    "module",
    "function",
    "builtin_function_or_method",
    "instance",
    "_Feature"
   ],
   "window_display": false
  }
 },
 "nbformat": 4,
 "nbformat_minor": 1
}
