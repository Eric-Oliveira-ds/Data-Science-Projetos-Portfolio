{
  "nbformat": 4,
  "nbformat_minor": 0,
  "metadata": {
    "kernelspec": {
      "display_name": "Python 3",
      "language": "python",
      "name": "python3"
    },
    "language_info": {
      "codemirror_mode": {
        "name": "ipython",
        "version": 3
      },
      "file_extension": ".py",
      "mimetype": "text/x-python",
      "name": "python",
      "nbconvert_exporter": "python",
      "pygments_lexer": "ipython3",
      "version": "3.8.3"
    },
    "colab": {
      "name": "Python_Pandas_e_SQL.ipynb",
      "provenance": [],
      "collapsed_sections": [],
      "include_colab_link": true
    }
  },
  "cells": [
    {
      "cell_type": "markdown",
      "metadata": {
        "id": "view-in-github",
        "colab_type": "text"
      },
      "source": [
        "<a href=\"https://colab.research.google.com/github/EricOliveira17/Data-Science-Projetos-Portfolio/blob/main/Python_Pandas_e_SQL.ipynb\" target=\"_parent\"><img src=\"https://colab.research.google.com/assets/colab-badge.svg\" alt=\"Open In Colab\"/></a>"
      ]
    },
    {
      "cell_type": "markdown",
      "metadata": {
        "id": "RohEZn7LYgE_"
      },
      "source": [
        "By - Eric Oliveira"
      ]
    },
    {
      "cell_type": "markdown",
      "metadata": {
        "id": "I98kyQ-TXS-r"
      },
      "source": [
        "#####QUANDO NÃO TEMOS DADOS EM MÃOS, NÃO HÁ O QUÊ ENTREGAR DE VALOR EM QUALQUER ANÁLISE, RESTA ADQUIRIR ESSES DADOS EM ALGUMA FONTE. E PARA ISSO EXISTE A LINGUAGEN DE CONSULTA ESTRUTURADA (SQL) PODENDO RESOLVER ESTE TIPO DE PROBLEMA."
      ]
    },
    {
      "cell_type": "markdown",
      "metadata": {
        "id": "wnlezb8UyjYF"
      },
      "source": [
        "### FAZENDO CONSULTAS SQL COM : PYTHON + PANDAS + SQLalchemy"
      ]
    },
    {
      "cell_type": "code",
      "metadata": {
        "scrolled": true,
        "id": "2xEGVzpyyjYR"
      },
      "source": [
        "# IMPORTAÇÃO DOS PACOTES NECESSÁRIOS \n",
        "\n",
        "from sqlalchemy import create_engine\n",
        "import pandas as pd"
      ],
      "execution_count": null,
      "outputs": []
    },
    {
      "cell_type": "code",
      "metadata": {
        "id": "025HUseGyjY1",
        "outputId": "175f0155-19e8-4f1d-96d4-85135b9410cb"
      },
      "source": [
        "data = pd.read_excel('/sdcard/PROJETOS PORTIFÓLIOS/Planilha_to_SQL.xlsx')\n",
        " \n",
        "# Criação do motor e conexão com o banco de dados SQlite rodando em memória \n",
        "engine = create_engine('sqlite:///:memory:')\n",
        " \n",
        "# Armazena o dataframe como uma tabela no disco\n",
        "data.to_sql('data_table', engine)\n",
        " \n",
        "# Primeira Query na tabela relacional \n",
        "# Selecionei a tabela inteira , carregada pelo motor == \"engine\".\n",
        "res1 = pd.read_sql_query('SELECT * FROM data_table', engine)\n",
        "print('Resultado 1')\n",
        "print(res1)\n",
        "print('')\n",
        " \n",
        "# Segunda Query\n",
        "# Agupei por departamento e somei os salários distribuidos por departamento da tabela \"data_table\"\n",
        "res2 = pd.read_sql_query('SELECT dept,sum(salary) FROM data_table group by dept', engine)\n",
        "print('Resultado 2')\n",
        "print(res2)"
      ],
      "execution_count": null,
      "outputs": [
        {
          "output_type": "stream",
          "text": [
            "Resultado 1\n",
            "   index  id    name  salary                  start_date        dept\n",
            "0      0   1   Rick      623  2012-01-01 00:00:00.000000          IT\n",
            "1      1   2     Dan     515  2013-09-23 00:00:00.000000  Operations\n",
            "2      2   3   Tusar     611  2014-11-15 00:00:00.000000          IT\n",
            "3      3   4    Ryan     729  2014-05-11 00:00:00.000000          HR\n",
            "4      4   5    Gary     843  2015-03-27 00:00:00.000000     Finance\n",
            "5      5   6   Rasmi     578  2013-05-21 00:00:00.000000          IT\n",
            "6      6   7  Pranab     632  2013-07-30 00:00:00.000000  Operations\n",
            "7      7   8    Guru     722  2014-06-17 00:00:00.000000     Finance\n",
            "\n",
            "Resultado 2\n",
            "         dept  sum(salary)\n",
            "0     Finance         1565\n",
            "1          HR          729\n",
            "2          IT         1812\n",
            "3  Operations         1147\n"
          ],
          "name": "stdout"
        }
      ]
    }
  ]
}