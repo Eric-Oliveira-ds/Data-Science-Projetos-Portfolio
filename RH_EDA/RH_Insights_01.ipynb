{
 "cells": [
  {
   "cell_type": "markdown",
   "metadata": {
    "hide_input": false,
    "id": "fhTtyZTjfpfW"
   },
   "source": [
    "# **HUMAN DATA RH**"
   ]
  },
  {
   "cell_type": "markdown",
   "metadata": {
    "hide_input": false,
    "id": "jiA01XN8XA92"
   },
   "source": [
    "![title](business-job-interview-concept.jpg)"
   ]
  },
  {
   "cell_type": "markdown",
   "metadata": {
    "hide_input": true,
    "id": "FV800bOYgV0L"
   },
   "source": [
    "## Dentre as áreas organizacionais mais importantes está o setor de Recursos Humanos. E sabendo dos desafios que estão presentes no RH que se exemplificam no processo de lidar com pessoas, eu obtive o desejo de elaborar este projeto para gerar insights relevantes que venham a ajudar o time de RH e possivelmente toda a empresa no processo pessoal."
   ]
  },
  {
   "cell_type": "markdown",
   "metadata": {
    "id": "GgNiK8ALAKE8"
   },
   "source": [
    "# **Questão de negócio**:\n",
    "\n",
    "### O CEO de uma grande startup chamada *Human Data RH*, entrou em contato comigo através do LinkedIn, solicitando-me a resolução do problema de sua empresa com a retenção de talentos e redução de custos de demissão e admissão juntamente a identificação das melhores estratégias para tornar as decisões do setor de RH mais assertivas."
   ]
  },
  {
   "cell_type": "raw",
   "metadata": {
    "id": "3AfdZE_zNP8N"
   },
   "source": [
    "Ao final do diálogo o CEO informou-me que com as atuais rescisões de contrato na empresa  foram gastos  $ 200.000,00  com tributos de garantias aos funcionários desligados."
   ]
  },
  {
   "cell_type": "markdown",
   "metadata": {
    "id": "DQFLWXJknPUT"
   },
   "source": [
    "# **Compreensão de negócio** :\n",
    " \n",
    "### Através da minha compreensão de negócio junto ao diálogo com o time do RH  pude identificar alguns dos possíveis  problemas  encontrados no setor como :\n",
    " \n",
    "#### ▪Rescisões de contrato (perda de talentos , e ter custos adicionais  desagradáveis para novas contratações e treinamentos)\n",
    " \n",
    "#### ▪Adaptação às mudanças na forma de contratar (não se adaptar as novas tecnologias no processo de contratação de forma flexível) \n",
    " \n",
    "#### ▪Captação de talentos (RH conseguir captar talentos corretos más não os engajam com treinamentos e bonificações no momento certo)\n",
    " \n",
    "#### ▪Utilização de tecnologias e sistemas (não se adaptar as novas tecnologias para diminuir os processos burocráticos da gestão em tempo ágil) \n",
    " \n",
    "#### ▪Melhorias no processo de comunicação  (não transformar a comunicação organizacional mais facilitadora e globalizada tanto internamente como externamente)\n",
    " \n",
    "#### ▪Engajamento entre empresa e colaboradores  (não colocar os colaboradores e empresa dentro do mesmo objetivo de forma clara) \n",
    " \n",
    "#### ▪Insatisfação dos funcionários  (não identificar quando os funcionários podem estar desmotivados e insatisfeitos com seu atual emprego ou função exercida em determinado momento na empresa e isto pode vir a reduzir sua produtividade ou até mesmo vir a causar um pedido de demissão)"
   ]
  },
  {
   "cell_type": "markdown",
   "metadata": {
    "id": "nlKyUTugFnXh"
   },
   "source": [
    "# **Hipóteses e perguntas do CEO**\n",
    " \n",
    "▪P1 - Quais são as nossas melhores fontes de recrutamento se quisermos garantir uma organização diversificada?\n",
    " \n",
    "▪P2 - Existe relação entre a área que a pessoa trabalha e sua pontuação de desempenho? \n",
    " \n",
    "▪P3 - Qual é o perfil geral de diversidade da organização? \n",
    " \n",
    "▪P4 - Existe área da empresa em que a remuneração não é justa? \n",
    " \n",
    "▪P5 - Qual departamento menos ocorre evasão dos funcionários? \n",
    " \n",
    "•Hipótese_01 - 80% dos funcionários que rescindem o contrato são mulheres!\n",
    " \n",
    "•Hipótese_02 - 90% dos 10 maiores salários pertencem a pessoas do sexo masculino!\n",
    " \n",
    "•Hipótese_03 - 50% dos que rescindem o contrato são solteiros! \n",
    " \n",
    "•Hipótese_04 - 70% dos 20 maiores salários pertencem a negros! \n",
    " \n",
    "•Hipótese_05 - 30% das pessoas que rescindem o contrato são do departamento de produção!\n",
    " \n",
    "•Hipótese_06 - O LinkedIn é a melhor fonte de recrutamento!\n",
    " \n",
    "•Hipótese_07 - A pontuação de desempenho mais frequente é a opção \"atende totalmente\"!\n",
    " \n",
    "•Hipótese_08 - 40% das pessoas que rescindem o contrato são \"técnicos de produção 1\""
   ]
  },
  {
   "cell_type": "markdown",
   "metadata": {
    "id": "zoaCYS0z9551"
   },
   "source": [
    "# **Projeção da solução**\n",
    " \n",
    "**▪O que exatamente eu quero fazer :**\n",
    "Solucionar o problema do RH entregando insights para o setor com o objetivo de tornar as decisões do time orientadas por dados e mais assertivas, além de responder as perguntas e testar as hipóteses do CEO.\n",
    " \n",
    "**▪Como exatamente farei isso :** \n",
    " \n",
    "•**Utilizando análise descritiva para mostrar ( o que aconteceu ?) e análise diagnóstica mostrando ( por que aconteceu ? )**\n",
    " \n",
    " • Utilizarei o ambiente de desenvolvimento Jupyter Notebook.\n",
    " \n",
    "• Utilizarei a linguagem de programação Python para tratar, processar e analisar os dados.\n",
    " \n",
    "• Utilizarei uma base de dados do kaggle que pode ser encontrada no seguinte link - [HRDataset_v14](https://www.kaggle.com/rhuebner/human-resources-data-set)\n",
    " \n",
    "• Utilizarei visualizações de dados para facilitar a identificação das informações.\n",
    " \n",
    "• Comunicarei os resultados em um relatório HTML."
   ]
  },
  {
   "cell_type": "markdown",
   "metadata": {
    "id": "xRA2jES5XA-I"
   },
   "source": [
    "# **Entendimento dos dados**\n",
    " \n",
    "▪ **Os dados disponibilizados pelos engenheiros de dados são compostos por 36 atributos pelos quais :**\n",
    " \n",
    "▪**Employee_Name**   : Nome do empregado \n",
    " \n",
    "▪**EmpID**           : ID do empregado \n",
    " \n",
    "▪**MarriedID**       : ID de casado\n",
    " \n",
    "▪**MaritalStatusID** : ID do estado civil\n",
    " \n",
    "▪**GenderID**        : ID do gênero \n",
    " \n",
    "▪**EmpStatusID**     : ID Status empregado \n",
    " \n",
    "▪**DeptID**          : ID do departamento \n",
    " \n",
    "▪**PerfScoreID**     : ID pontuação de desempenho \n",
    " \n",
    "▪**FromDiversityJobFairID** : ID do trabalho de diversidade justo \n",
    " \n",
    "▪**Salary**          : Salário \n",
    " \n",
    "▪**Termd**           : Termos \n",
    " \n",
    "▪**PositionID**      : ID do cargo  \n",
    " \n",
    "▪**Position**        : Cargo \n",
    " \n",
    "▪**State**           : Estado \n",
    " \n",
    "▪**Zip**             : CEP \n",
    " \n",
    "▪**DOB**             : Data de nascimento \n",
    " \n",
    "▪**Sex**             : Sexo \n",
    " \n",
    "▪**MaritalDesc**     : estado civil \n",
    " \n",
    "▪**CitizenDesc**     : estado de cidadão \n",
    " \n",
    "▪**HispanicLatino**  : Latino hispânico \n",
    " \n",
    "▪**RaceDesc**        : Etnia \n",
    " \n",
    "▪**DateofHire**      : Data da contratação\n",
    " \n",
    "▪**DateofTermination** : Data de Terminação\n",
    " \n",
    "▪**TermReason**      : Termo de rescisão \n",
    " \n",
    "▪**EmploymentStatus** : Situação de emprego\n",
    " \n",
    "▪**Department**     : Departamento \n",
    " \n",
    "▪**ManagerName**    : Nome do gestor \n",
    " \n",
    "▪**ManagerID**      : ID do gestor \n",
    " \n",
    "▪**RecruitmentSource** : Fonte de Recrutamento\n",
    " \n",
    "▪**PerformanceScore** : Pontuação de Desempenho\n",
    " \n",
    "▪**EngagementSurvey** : Pesquisa de Engajamento\n",
    " \n",
    "▪**EmpSatisfaction**  : Satisfação do empregado \n",
    " \n",
    "▪**SpecialProjectsCount** : Contagem de Projetos Especiais referente ao empregado.\n",
    " \n",
    "▪**LastPerformanceReview_Date** : Data da última avaliação de desempenho\n",
    " \n",
    "▪**DaysLateLast30**    : Dias que chegou atrasado nos últimos 30 dias \n",
    " \n",
    "▪**Absences**         : número de ausências\n",
    " \n",
    " \n",
    "**Na minha percepção é de suma importância compreender os dados na etapa de planejamento, pois estes dados podem não ser suficientes ou significativos para solucionar o problema de negócio.**"
   ]
  },
  {
   "cell_type": "markdown",
   "metadata": {
    "id": "Gj1esTdat3Zl"
   },
   "source": [
    "**Vale ressaltar a observação de quê os dados foram disponibilizados respeitando os conformes da Lei Geral de Proteção de Dados (LGPD). Lei nº 13.709/2018, sobre a ressalva de políticas de privacidade, consentimento dos funcionários, responsabilidade do encarregado, transparência, finalidade e necessidade.**"
   ]
  },
  {
   "cell_type": "markdown",
   "metadata": {
    "heading_collapsed": true,
    "hide_input": true,
    "id": "ksrWHzHmXA-N"
   },
   "source": [
    "# **Caixa de ferramentas**"
   ]
  },
  {
   "cell_type": "code",
   "execution_count": 1,
   "metadata": {
    "ExecuteTime": {
     "end_time": "2021-04-06T21:37:19.992168Z",
     "start_time": "2021-04-06T21:37:11.417638Z"
    },
    "hidden": true,
    "id": "Z7n1Ik7TdssC"
   },
   "outputs": [
    {
     "data": {
      "text/html": [
       "<style>.container{ width:100% !important; }</style>"
      ],
      "text/plain": [
       "<IPython.core.display.HTML object>"
      ]
     },
     "metadata": {},
     "output_type": "display_data"
    }
   ],
   "source": [
    "# Manipulação de dados\n",
    "import pandas as pd\n",
    "\n",
    "pd.set_option('display.max_columns', None)\n",
    "\n",
    "# Álgebra linear\n",
    "import numpy as np\n",
    "\n",
    "# Visualização de dados\n",
    "import seaborn as sns\n",
    "from matplotlib import pyplot as plt\n",
    "\n",
    "plt.style.use(\"seaborn-darkgrid\")\n",
    "%matplotlib inline\n",
    "import squarify\n",
    "import matplotlib\n",
    "\n",
    "# Desabilitar notificações\n",
    "import warnings\n",
    "\n",
    "warnings.filterwarnings(\"ignore\")\n",
    "\n",
    "# Largura do notebook\n",
    "from IPython.core.display import display, HTML\n",
    "\n",
    "display(HTML(\"<style>.container{ width:100% !important; }</style>\"))"
   ]
  },
  {
   "cell_type": "markdown",
   "metadata": {
    "heading_collapsed": true,
    "id": "ungAq-qVXA-T"
   },
   "source": [
    "# **EXTRAÇÃO**"
   ]
  },
  {
   "cell_type": "code",
   "execution_count": 2,
   "metadata": {
    "ExecuteTime": {
     "end_time": "2021-04-06T21:37:20.691496Z",
     "start_time": "2021-04-06T21:37:20.009010Z"
    },
    "colab": {
     "base_uri": "https://localhost:8080/"
    },
    "hidden": true,
    "id": "U9RKIQgoXA-V",
    "outputId": "48de5457-f8e8-4c0b-b062-8ac1a7a6feae"
   },
   "outputs": [
    {
     "data": {
      "text/html": [
       "<div>\n",
       "<style scoped>\n",
       "    .dataframe tbody tr th:only-of-type {\n",
       "        vertical-align: middle;\n",
       "    }\n",
       "\n",
       "    .dataframe tbody tr th {\n",
       "        vertical-align: top;\n",
       "    }\n",
       "\n",
       "    .dataframe thead th {\n",
       "        text-align: right;\n",
       "    }\n",
       "</style>\n",
       "<table border=\"1\" class=\"dataframe\">\n",
       "  <thead>\n",
       "    <tr style=\"text-align: right;\">\n",
       "      <th></th>\n",
       "      <th>Employee_Name</th>\n",
       "      <th>EmpID</th>\n",
       "      <th>MarriedID</th>\n",
       "      <th>MaritalStatusID</th>\n",
       "      <th>GenderID</th>\n",
       "      <th>EmpStatusID</th>\n",
       "      <th>DeptID</th>\n",
       "      <th>PerfScoreID</th>\n",
       "      <th>FromDiversityJobFairID</th>\n",
       "      <th>Salary</th>\n",
       "      <th>Termd</th>\n",
       "      <th>PositionID</th>\n",
       "      <th>Position</th>\n",
       "      <th>State</th>\n",
       "      <th>Zip</th>\n",
       "      <th>DOB</th>\n",
       "      <th>Sex</th>\n",
       "      <th>MaritalDesc</th>\n",
       "      <th>CitizenDesc</th>\n",
       "      <th>HispanicLatino</th>\n",
       "      <th>RaceDesc</th>\n",
       "      <th>DateofHire</th>\n",
       "      <th>DateofTermination</th>\n",
       "      <th>TermReason</th>\n",
       "      <th>EmploymentStatus</th>\n",
       "      <th>Department</th>\n",
       "      <th>ManagerName</th>\n",
       "      <th>ManagerID</th>\n",
       "      <th>RecruitmentSource</th>\n",
       "      <th>PerformanceScore</th>\n",
       "      <th>EngagementSurvey</th>\n",
       "      <th>EmpSatisfaction</th>\n",
       "      <th>SpecialProjectsCount</th>\n",
       "      <th>LastPerformanceReview_Date</th>\n",
       "      <th>DaysLateLast30</th>\n",
       "      <th>Absences</th>\n",
       "    </tr>\n",
       "  </thead>\n",
       "  <tbody>\n",
       "    <tr>\n",
       "      <th>0</th>\n",
       "      <td>Adinolfi, Wilson  K</td>\n",
       "      <td>10026</td>\n",
       "      <td>0</td>\n",
       "      <td>0</td>\n",
       "      <td>1</td>\n",
       "      <td>1</td>\n",
       "      <td>5</td>\n",
       "      <td>4</td>\n",
       "      <td>0</td>\n",
       "      <td>62506</td>\n",
       "      <td>0</td>\n",
       "      <td>19</td>\n",
       "      <td>Production Technician I</td>\n",
       "      <td>MA</td>\n",
       "      <td>1960</td>\n",
       "      <td>07/10/83</td>\n",
       "      <td>M</td>\n",
       "      <td>Single</td>\n",
       "      <td>US Citizen</td>\n",
       "      <td>No</td>\n",
       "      <td>White</td>\n",
       "      <td>7/5/2011</td>\n",
       "      <td>NaN</td>\n",
       "      <td>N/A-StillEmployed</td>\n",
       "      <td>Active</td>\n",
       "      <td>Production</td>\n",
       "      <td>Michael Albert</td>\n",
       "      <td>22.0</td>\n",
       "      <td>LinkedIn</td>\n",
       "      <td>Exceeds</td>\n",
       "      <td>4.60</td>\n",
       "      <td>5</td>\n",
       "      <td>0</td>\n",
       "      <td>1/17/2019</td>\n",
       "      <td>0</td>\n",
       "      <td>1</td>\n",
       "    </tr>\n",
       "    <tr>\n",
       "      <th>1</th>\n",
       "      <td>Ait Sidi, Karthikeyan</td>\n",
       "      <td>10084</td>\n",
       "      <td>1</td>\n",
       "      <td>1</td>\n",
       "      <td>1</td>\n",
       "      <td>5</td>\n",
       "      <td>3</td>\n",
       "      <td>3</td>\n",
       "      <td>0</td>\n",
       "      <td>104437</td>\n",
       "      <td>1</td>\n",
       "      <td>27</td>\n",
       "      <td>Sr. DBA</td>\n",
       "      <td>MA</td>\n",
       "      <td>2148</td>\n",
       "      <td>05/05/75</td>\n",
       "      <td>M</td>\n",
       "      <td>Married</td>\n",
       "      <td>US Citizen</td>\n",
       "      <td>No</td>\n",
       "      <td>White</td>\n",
       "      <td>3/30/2015</td>\n",
       "      <td>6/16/2016</td>\n",
       "      <td>career change</td>\n",
       "      <td>Voluntarily Terminated</td>\n",
       "      <td>IT/IS</td>\n",
       "      <td>Simon Roup</td>\n",
       "      <td>4.0</td>\n",
       "      <td>Indeed</td>\n",
       "      <td>Fully Meets</td>\n",
       "      <td>4.96</td>\n",
       "      <td>3</td>\n",
       "      <td>6</td>\n",
       "      <td>2/24/2016</td>\n",
       "      <td>0</td>\n",
       "      <td>17</td>\n",
       "    </tr>\n",
       "    <tr>\n",
       "      <th>2</th>\n",
       "      <td>Akinkuolie, Sarah</td>\n",
       "      <td>10196</td>\n",
       "      <td>1</td>\n",
       "      <td>1</td>\n",
       "      <td>0</td>\n",
       "      <td>5</td>\n",
       "      <td>5</td>\n",
       "      <td>3</td>\n",
       "      <td>0</td>\n",
       "      <td>64955</td>\n",
       "      <td>1</td>\n",
       "      <td>20</td>\n",
       "      <td>Production Technician II</td>\n",
       "      <td>MA</td>\n",
       "      <td>1810</td>\n",
       "      <td>09/19/88</td>\n",
       "      <td>F</td>\n",
       "      <td>Married</td>\n",
       "      <td>US Citizen</td>\n",
       "      <td>No</td>\n",
       "      <td>White</td>\n",
       "      <td>7/5/2011</td>\n",
       "      <td>9/24/2012</td>\n",
       "      <td>hours</td>\n",
       "      <td>Voluntarily Terminated</td>\n",
       "      <td>Production</td>\n",
       "      <td>Kissy Sullivan</td>\n",
       "      <td>20.0</td>\n",
       "      <td>LinkedIn</td>\n",
       "      <td>Fully Meets</td>\n",
       "      <td>3.02</td>\n",
       "      <td>3</td>\n",
       "      <td>0</td>\n",
       "      <td>5/15/2012</td>\n",
       "      <td>0</td>\n",
       "      <td>3</td>\n",
       "    </tr>\n",
       "    <tr>\n",
       "      <th>3</th>\n",
       "      <td>Alagbe,Trina</td>\n",
       "      <td>10088</td>\n",
       "      <td>1</td>\n",
       "      <td>1</td>\n",
       "      <td>0</td>\n",
       "      <td>1</td>\n",
       "      <td>5</td>\n",
       "      <td>3</td>\n",
       "      <td>0</td>\n",
       "      <td>64991</td>\n",
       "      <td>0</td>\n",
       "      <td>19</td>\n",
       "      <td>Production Technician I</td>\n",
       "      <td>MA</td>\n",
       "      <td>1886</td>\n",
       "      <td>09/27/88</td>\n",
       "      <td>F</td>\n",
       "      <td>Married</td>\n",
       "      <td>US Citizen</td>\n",
       "      <td>No</td>\n",
       "      <td>White</td>\n",
       "      <td>1/7/2008</td>\n",
       "      <td>NaN</td>\n",
       "      <td>N/A-StillEmployed</td>\n",
       "      <td>Active</td>\n",
       "      <td>Production</td>\n",
       "      <td>Elijiah Gray</td>\n",
       "      <td>16.0</td>\n",
       "      <td>Indeed</td>\n",
       "      <td>Fully Meets</td>\n",
       "      <td>4.84</td>\n",
       "      <td>5</td>\n",
       "      <td>0</td>\n",
       "      <td>1/3/2019</td>\n",
       "      <td>0</td>\n",
       "      <td>15</td>\n",
       "    </tr>\n",
       "    <tr>\n",
       "      <th>4</th>\n",
       "      <td>Anderson, Carol</td>\n",
       "      <td>10069</td>\n",
       "      <td>0</td>\n",
       "      <td>2</td>\n",
       "      <td>0</td>\n",
       "      <td>5</td>\n",
       "      <td>5</td>\n",
       "      <td>3</td>\n",
       "      <td>0</td>\n",
       "      <td>50825</td>\n",
       "      <td>1</td>\n",
       "      <td>19</td>\n",
       "      <td>Production Technician I</td>\n",
       "      <td>MA</td>\n",
       "      <td>2169</td>\n",
       "      <td>09/08/89</td>\n",
       "      <td>F</td>\n",
       "      <td>Divorced</td>\n",
       "      <td>US Citizen</td>\n",
       "      <td>No</td>\n",
       "      <td>White</td>\n",
       "      <td>7/11/2011</td>\n",
       "      <td>9/6/2016</td>\n",
       "      <td>return to school</td>\n",
       "      <td>Voluntarily Terminated</td>\n",
       "      <td>Production</td>\n",
       "      <td>Webster Butler</td>\n",
       "      <td>39.0</td>\n",
       "      <td>Google Search</td>\n",
       "      <td>Fully Meets</td>\n",
       "      <td>5.00</td>\n",
       "      <td>4</td>\n",
       "      <td>0</td>\n",
       "      <td>2/1/2016</td>\n",
       "      <td>0</td>\n",
       "      <td>2</td>\n",
       "    </tr>\n",
       "  </tbody>\n",
       "</table>\n",
       "</div>"
      ],
      "text/plain": [
       "              Employee_Name  EmpID  MarriedID  MaritalStatusID  GenderID  \\\n",
       "0       Adinolfi, Wilson  K  10026          0                0         1   \n",
       "1  Ait Sidi, Karthikeyan     10084          1                1         1   \n",
       "2         Akinkuolie, Sarah  10196          1                1         0   \n",
       "3              Alagbe,Trina  10088          1                1         0   \n",
       "4          Anderson, Carol   10069          0                2         0   \n",
       "\n",
       "   EmpStatusID  DeptID  PerfScoreID  FromDiversityJobFairID  Salary  Termd  \\\n",
       "0            1       5            4                       0   62506      0   \n",
       "1            5       3            3                       0  104437      1   \n",
       "2            5       5            3                       0   64955      1   \n",
       "3            1       5            3                       0   64991      0   \n",
       "4            5       5            3                       0   50825      1   \n",
       "\n",
       "   PositionID                  Position State   Zip       DOB Sex MaritalDesc  \\\n",
       "0          19   Production Technician I    MA  1960  07/10/83  M       Single   \n",
       "1          27                   Sr. DBA    MA  2148  05/05/75  M      Married   \n",
       "2          20  Production Technician II    MA  1810  09/19/88   F     Married   \n",
       "3          19   Production Technician I    MA  1886  09/27/88   F     Married   \n",
       "4          19   Production Technician I    MA  2169  09/08/89   F    Divorced   \n",
       "\n",
       "  CitizenDesc HispanicLatino RaceDesc DateofHire DateofTermination  \\\n",
       "0  US Citizen             No    White   7/5/2011               NaN   \n",
       "1  US Citizen             No    White  3/30/2015         6/16/2016   \n",
       "2  US Citizen             No    White   7/5/2011         9/24/2012   \n",
       "3  US Citizen             No    White   1/7/2008               NaN   \n",
       "4  US Citizen             No    White  7/11/2011          9/6/2016   \n",
       "\n",
       "          TermReason        EmploymentStatus         Department  \\\n",
       "0  N/A-StillEmployed                  Active  Production          \n",
       "1      career change  Voluntarily Terminated              IT/IS   \n",
       "2              hours  Voluntarily Terminated  Production          \n",
       "3  N/A-StillEmployed                  Active  Production          \n",
       "4   return to school  Voluntarily Terminated  Production          \n",
       "\n",
       "      ManagerName  ManagerID RecruitmentSource PerformanceScore  \\\n",
       "0  Michael Albert       22.0          LinkedIn          Exceeds   \n",
       "1      Simon Roup        4.0            Indeed      Fully Meets   \n",
       "2  Kissy Sullivan       20.0          LinkedIn      Fully Meets   \n",
       "3    Elijiah Gray       16.0            Indeed      Fully Meets   \n",
       "4  Webster Butler       39.0     Google Search      Fully Meets   \n",
       "\n",
       "   EngagementSurvey  EmpSatisfaction  SpecialProjectsCount  \\\n",
       "0              4.60                5                     0   \n",
       "1              4.96                3                     6   \n",
       "2              3.02                3                     0   \n",
       "3              4.84                5                     0   \n",
       "4              5.00                4                     0   \n",
       "\n",
       "  LastPerformanceReview_Date  DaysLateLast30  Absences  \n",
       "0                  1/17/2019               0         1  \n",
       "1                  2/24/2016               0        17  \n",
       "2                  5/15/2012               0         3  \n",
       "3                   1/3/2019               0        15  \n",
       "4                   2/1/2016               0         2  "
      ]
     },
     "execution_count": 2,
     "metadata": {},
     "output_type": "execute_result"
    }
   ],
   "source": [
    "# Extração dos dados e exibição do cabeçalho da tabela \n",
    " \n",
    "df = pd.read_csv(\"HRDataset_v14.csv\")\n",
    "df.head()"
   ]
  },
  {
   "cell_type": "markdown",
   "metadata": {
    "heading_collapsed": true,
    "id": "Kq5gAPofeATB"
   },
   "source": [
    "# **TRANSFORMAÇÃO**"
   ]
  },
  {
   "cell_type": "code",
   "execution_count": 3,
   "metadata": {
    "ExecuteTime": {
     "end_time": "2021-04-06T21:37:20.745341Z",
     "start_time": "2021-04-06T21:37:20.713196Z"
    },
    "hidden": true,
    "id": "kACqqedlNP89",
    "scrolled": true
   },
   "outputs": [
    {
     "data": {
      "text/plain": [
       "(311, 36)"
      ]
     },
     "execution_count": 3,
     "metadata": {},
     "output_type": "execute_result"
    }
   ],
   "source": [
    "# A base de dados contém 311 registros e 36 colunas \n",
    "df.shape"
   ]
  },
  {
   "cell_type": "code",
   "execution_count": 4,
   "metadata": {
    "ExecuteTime": {
     "end_time": "2021-04-06T21:37:20.819994Z",
     "start_time": "2021-04-06T21:37:20.766453Z"
    },
    "hidden": true,
    "id": "P4pvc1-QwiOU"
   },
   "outputs": [
    {
     "data": {
      "text/plain": [
       "Employee_Name                  object\n",
       "EmpID                           int64\n",
       "MarriedID                       int64\n",
       "MaritalStatusID                 int64\n",
       "GenderID                        int64\n",
       "EmpStatusID                     int64\n",
       "DeptID                          int64\n",
       "PerfScoreID                     int64\n",
       "FromDiversityJobFairID          int64\n",
       "Salary                          int64\n",
       "Termd                           int64\n",
       "PositionID                      int64\n",
       "Position                       object\n",
       "State                          object\n",
       "Zip                             int64\n",
       "DOB                            object\n",
       "Sex                            object\n",
       "MaritalDesc                    object\n",
       "CitizenDesc                    object\n",
       "HispanicLatino                 object\n",
       "RaceDesc                       object\n",
       "DateofHire                     object\n",
       "DateofTermination              object\n",
       "TermReason                     object\n",
       "EmploymentStatus               object\n",
       "Department                     object\n",
       "ManagerName                    object\n",
       "ManagerID                     float64\n",
       "RecruitmentSource              object\n",
       "PerformanceScore               object\n",
       "EngagementSurvey              float64\n",
       "EmpSatisfaction                 int64\n",
       "SpecialProjectsCount            int64\n",
       "LastPerformanceReview_Date     object\n",
       "DaysLateLast30                  int64\n",
       "Absences                        int64\n",
       "dtype: object"
      ]
     },
     "execution_count": 4,
     "metadata": {},
     "output_type": "execute_result"
    }
   ],
   "source": [
    "# Tipos de dados em cada coluna, 18 categóricos, 16 numéricos inteiros, numéricos flutuantes 2\n",
    " \n",
    "df.dtypes"
   ]
  },
  {
   "cell_type": "code",
   "execution_count": 5,
   "metadata": {
    "ExecuteTime": {
     "end_time": "2021-04-06T21:37:20.913001Z",
     "start_time": "2021-04-06T21:37:20.846722Z"
    },
    "hidden": true,
    "id": "7KVgn1wcyDwq"
   },
   "outputs": [
    {
     "data": {
      "text/plain": [
       "Employee_Name                   0\n",
       "EmpID                           0\n",
       "MarriedID                       0\n",
       "MaritalStatusID                 0\n",
       "GenderID                        0\n",
       "EmpStatusID                     0\n",
       "DeptID                          0\n",
       "PerfScoreID                     0\n",
       "FromDiversityJobFairID          0\n",
       "Salary                          0\n",
       "Termd                           0\n",
       "PositionID                      0\n",
       "Position                        0\n",
       "State                           0\n",
       "Zip                             0\n",
       "DOB                             0\n",
       "Sex                             0\n",
       "MaritalDesc                     0\n",
       "CitizenDesc                     0\n",
       "HispanicLatino                  0\n",
       "RaceDesc                        0\n",
       "DateofHire                      0\n",
       "DateofTermination             207\n",
       "TermReason                      0\n",
       "EmploymentStatus                0\n",
       "Department                      0\n",
       "ManagerName                     0\n",
       "ManagerID                       8\n",
       "RecruitmentSource               0\n",
       "PerformanceScore                0\n",
       "EngagementSurvey                0\n",
       "EmpSatisfaction                 0\n",
       "SpecialProjectsCount            0\n",
       "LastPerformanceReview_Date      0\n",
       "DaysLateLast30                  0\n",
       "Absences                        0\n",
       "dtype: int64"
      ]
     },
     "execution_count": 5,
     "metadata": {},
     "output_type": "execute_result"
    }
   ],
   "source": [
    "# Verificando se há dados nulos na base para que a análise não possa a vir ser precipitada.\n",
    " \n",
    "df.isnull().sum()"
   ]
  },
  {
   "cell_type": "markdown",
   "metadata": {
    "hidden": true,
    "id": "Y-K2Xjqwz2Q_"
   },
   "source": [
    "**É perceptível que a coluna \"Data de terminação\" tem 207 dados nulos e a coluna \"ID do gestor\" 8.**"
   ]
  },
  {
   "cell_type": "code",
   "execution_count": 6,
   "metadata": {
    "ExecuteTime": {
     "end_time": "2021-04-06T21:37:20.979364Z",
     "start_time": "2021-04-06T21:37:20.927454Z"
    },
    "hidden": true
   },
   "outputs": [],
   "source": [
    "# Substituindo os dados nulos da coluna ID do Gestor e Data de término por 0 para evitar futuras complicações com dados nulos \n",
    "df.fillna(0,inplace = True)"
   ]
  },
  {
   "cell_type": "code",
   "execution_count": 7,
   "metadata": {
    "ExecuteTime": {
     "end_time": "2021-04-06T21:37:21.039710Z",
     "start_time": "2021-04-06T21:37:20.991442Z"
    },
    "hidden": true
   },
   "outputs": [
    {
     "data": {
      "text/plain": [
       "Employee_Name                 0\n",
       "EmpID                         0\n",
       "MarriedID                     0\n",
       "MaritalStatusID               0\n",
       "GenderID                      0\n",
       "EmpStatusID                   0\n",
       "DeptID                        0\n",
       "PerfScoreID                   0\n",
       "FromDiversityJobFairID        0\n",
       "Salary                        0\n",
       "Termd                         0\n",
       "PositionID                    0\n",
       "Position                      0\n",
       "State                         0\n",
       "Zip                           0\n",
       "DOB                           0\n",
       "Sex                           0\n",
       "MaritalDesc                   0\n",
       "CitizenDesc                   0\n",
       "HispanicLatino                0\n",
       "RaceDesc                      0\n",
       "DateofHire                    0\n",
       "DateofTermination             0\n",
       "TermReason                    0\n",
       "EmploymentStatus              0\n",
       "Department                    0\n",
       "ManagerName                   0\n",
       "ManagerID                     0\n",
       "RecruitmentSource             0\n",
       "PerformanceScore              0\n",
       "EngagementSurvey              0\n",
       "EmpSatisfaction               0\n",
       "SpecialProjectsCount          0\n",
       "LastPerformanceReview_Date    0\n",
       "DaysLateLast30                0\n",
       "Absences                      0\n",
       "dtype: int64"
      ]
     },
     "execution_count": 7,
     "metadata": {},
     "output_type": "execute_result"
    }
   ],
   "source": [
    "# Verificando novamente se há dados nulos depois da operação acima \n",
    "df.isnull().sum()"
   ]
  },
  {
   "cell_type": "code",
   "execution_count": 8,
   "metadata": {
    "ExecuteTime": {
     "end_time": "2021-04-06T21:37:21.192959Z",
     "start_time": "2021-04-06T21:37:21.060556Z"
    },
    "hidden": true,
    "id": "XMl7UyeX1D67"
   },
   "outputs": [
    {
     "data": {
      "text/plain": [
       "0"
      ]
     },
     "execution_count": 8,
     "metadata": {},
     "output_type": "execute_result"
    }
   ],
   "source": [
    "# Verificando se há dados duplicados\n",
    "df.duplicated().sum()"
   ]
  },
  {
   "cell_type": "code",
   "execution_count": 9,
   "metadata": {
    "ExecuteTime": {
     "end_time": "2021-04-06T21:37:21.241058Z",
     "start_time": "2021-04-06T21:37:21.209136Z"
    },
    "hidden": true,
    "hide_input": false,
    "id": "Tc1fFT8ogfXv"
   },
   "outputs": [],
   "source": [
    "# Removerei as colunas com ID que por enquanto não fazem sentido para análise  para reduzir o custo desnecessário para memória momentâneamente\n",
    "\n",
    "df1 = df.drop([\n",
    "    \"EmpID\", \"MarriedID\", \"MaritalStatusID\", \"GenderID\", \"EmpStatusID\",\n",
    "    \"DeptID\", \"PerfScoreID\", \"FromDiversityJobFairID\", \"PositionID\",\n",
    "    \"ManagerID\"\n",
    "],\n",
    "              axis=1).copy()"
   ]
  },
  {
   "cell_type": "code",
   "execution_count": 10,
   "metadata": {
    "ExecuteTime": {
     "end_time": "2021-04-06T21:37:21.464350Z",
     "start_time": "2021-04-06T21:37:21.253766Z"
    },
    "hidden": true,
    "id": "5Xx2xgXtoVyV",
    "scrolled": true
   },
   "outputs": [
    {
     "data": {
      "text/html": [
       "<div>\n",
       "<style scoped>\n",
       "    .dataframe tbody tr th:only-of-type {\n",
       "        vertical-align: middle;\n",
       "    }\n",
       "\n",
       "    .dataframe tbody tr th {\n",
       "        vertical-align: top;\n",
       "    }\n",
       "\n",
       "    .dataframe thead th {\n",
       "        text-align: right;\n",
       "    }\n",
       "</style>\n",
       "<table border=\"1\" class=\"dataframe\">\n",
       "  <thead>\n",
       "    <tr style=\"text-align: right;\">\n",
       "      <th></th>\n",
       "      <th>Employee_Name</th>\n",
       "      <th>Salary</th>\n",
       "      <th>Termd</th>\n",
       "      <th>Position</th>\n",
       "      <th>State</th>\n",
       "      <th>Zip</th>\n",
       "      <th>DOB</th>\n",
       "      <th>Sex</th>\n",
       "      <th>MaritalDesc</th>\n",
       "      <th>CitizenDesc</th>\n",
       "      <th>HispanicLatino</th>\n",
       "      <th>RaceDesc</th>\n",
       "      <th>DateofHire</th>\n",
       "      <th>DateofTermination</th>\n",
       "      <th>TermReason</th>\n",
       "      <th>EmploymentStatus</th>\n",
       "      <th>Department</th>\n",
       "      <th>ManagerName</th>\n",
       "      <th>RecruitmentSource</th>\n",
       "      <th>PerformanceScore</th>\n",
       "      <th>EngagementSurvey</th>\n",
       "      <th>EmpSatisfaction</th>\n",
       "      <th>SpecialProjectsCount</th>\n",
       "      <th>LastPerformanceReview_Date</th>\n",
       "      <th>DaysLateLast30</th>\n",
       "      <th>Absences</th>\n",
       "    </tr>\n",
       "  </thead>\n",
       "  <tbody>\n",
       "    <tr>\n",
       "      <th>0</th>\n",
       "      <td>Adinolfi, Wilson  K</td>\n",
       "      <td>62506</td>\n",
       "      <td>0</td>\n",
       "      <td>Production Technician I</td>\n",
       "      <td>MA</td>\n",
       "      <td>1960</td>\n",
       "      <td>07/10/83</td>\n",
       "      <td>M</td>\n",
       "      <td>Single</td>\n",
       "      <td>US Citizen</td>\n",
       "      <td>No</td>\n",
       "      <td>White</td>\n",
       "      <td>7/5/2011</td>\n",
       "      <td>0</td>\n",
       "      <td>N/A-StillEmployed</td>\n",
       "      <td>Active</td>\n",
       "      <td>Production</td>\n",
       "      <td>Michael Albert</td>\n",
       "      <td>LinkedIn</td>\n",
       "      <td>Exceeds</td>\n",
       "      <td>4.60</td>\n",
       "      <td>5</td>\n",
       "      <td>0</td>\n",
       "      <td>1/17/2019</td>\n",
       "      <td>0</td>\n",
       "      <td>1</td>\n",
       "    </tr>\n",
       "    <tr>\n",
       "      <th>1</th>\n",
       "      <td>Ait Sidi, Karthikeyan</td>\n",
       "      <td>104437</td>\n",
       "      <td>1</td>\n",
       "      <td>Sr. DBA</td>\n",
       "      <td>MA</td>\n",
       "      <td>2148</td>\n",
       "      <td>05/05/75</td>\n",
       "      <td>M</td>\n",
       "      <td>Married</td>\n",
       "      <td>US Citizen</td>\n",
       "      <td>No</td>\n",
       "      <td>White</td>\n",
       "      <td>3/30/2015</td>\n",
       "      <td>6/16/2016</td>\n",
       "      <td>career change</td>\n",
       "      <td>Voluntarily Terminated</td>\n",
       "      <td>IT/IS</td>\n",
       "      <td>Simon Roup</td>\n",
       "      <td>Indeed</td>\n",
       "      <td>Fully Meets</td>\n",
       "      <td>4.96</td>\n",
       "      <td>3</td>\n",
       "      <td>6</td>\n",
       "      <td>2/24/2016</td>\n",
       "      <td>0</td>\n",
       "      <td>17</td>\n",
       "    </tr>\n",
       "    <tr>\n",
       "      <th>2</th>\n",
       "      <td>Akinkuolie, Sarah</td>\n",
       "      <td>64955</td>\n",
       "      <td>1</td>\n",
       "      <td>Production Technician II</td>\n",
       "      <td>MA</td>\n",
       "      <td>1810</td>\n",
       "      <td>09/19/88</td>\n",
       "      <td>F</td>\n",
       "      <td>Married</td>\n",
       "      <td>US Citizen</td>\n",
       "      <td>No</td>\n",
       "      <td>White</td>\n",
       "      <td>7/5/2011</td>\n",
       "      <td>9/24/2012</td>\n",
       "      <td>hours</td>\n",
       "      <td>Voluntarily Terminated</td>\n",
       "      <td>Production</td>\n",
       "      <td>Kissy Sullivan</td>\n",
       "      <td>LinkedIn</td>\n",
       "      <td>Fully Meets</td>\n",
       "      <td>3.02</td>\n",
       "      <td>3</td>\n",
       "      <td>0</td>\n",
       "      <td>5/15/2012</td>\n",
       "      <td>0</td>\n",
       "      <td>3</td>\n",
       "    </tr>\n",
       "    <tr>\n",
       "      <th>3</th>\n",
       "      <td>Alagbe,Trina</td>\n",
       "      <td>64991</td>\n",
       "      <td>0</td>\n",
       "      <td>Production Technician I</td>\n",
       "      <td>MA</td>\n",
       "      <td>1886</td>\n",
       "      <td>09/27/88</td>\n",
       "      <td>F</td>\n",
       "      <td>Married</td>\n",
       "      <td>US Citizen</td>\n",
       "      <td>No</td>\n",
       "      <td>White</td>\n",
       "      <td>1/7/2008</td>\n",
       "      <td>0</td>\n",
       "      <td>N/A-StillEmployed</td>\n",
       "      <td>Active</td>\n",
       "      <td>Production</td>\n",
       "      <td>Elijiah Gray</td>\n",
       "      <td>Indeed</td>\n",
       "      <td>Fully Meets</td>\n",
       "      <td>4.84</td>\n",
       "      <td>5</td>\n",
       "      <td>0</td>\n",
       "      <td>1/3/2019</td>\n",
       "      <td>0</td>\n",
       "      <td>15</td>\n",
       "    </tr>\n",
       "    <tr>\n",
       "      <th>4</th>\n",
       "      <td>Anderson, Carol</td>\n",
       "      <td>50825</td>\n",
       "      <td>1</td>\n",
       "      <td>Production Technician I</td>\n",
       "      <td>MA</td>\n",
       "      <td>2169</td>\n",
       "      <td>09/08/89</td>\n",
       "      <td>F</td>\n",
       "      <td>Divorced</td>\n",
       "      <td>US Citizen</td>\n",
       "      <td>No</td>\n",
       "      <td>White</td>\n",
       "      <td>7/11/2011</td>\n",
       "      <td>9/6/2016</td>\n",
       "      <td>return to school</td>\n",
       "      <td>Voluntarily Terminated</td>\n",
       "      <td>Production</td>\n",
       "      <td>Webster Butler</td>\n",
       "      <td>Google Search</td>\n",
       "      <td>Fully Meets</td>\n",
       "      <td>5.00</td>\n",
       "      <td>4</td>\n",
       "      <td>0</td>\n",
       "      <td>2/1/2016</td>\n",
       "      <td>0</td>\n",
       "      <td>2</td>\n",
       "    </tr>\n",
       "  </tbody>\n",
       "</table>\n",
       "</div>"
      ],
      "text/plain": [
       "              Employee_Name  Salary  Termd                  Position State  \\\n",
       "0       Adinolfi, Wilson  K   62506      0   Production Technician I    MA   \n",
       "1  Ait Sidi, Karthikeyan     104437      1                   Sr. DBA    MA   \n",
       "2         Akinkuolie, Sarah   64955      1  Production Technician II    MA   \n",
       "3              Alagbe,Trina   64991      0   Production Technician I    MA   \n",
       "4          Anderson, Carol    50825      1   Production Technician I    MA   \n",
       "\n",
       "    Zip       DOB Sex MaritalDesc CitizenDesc HispanicLatino RaceDesc  \\\n",
       "0  1960  07/10/83  M       Single  US Citizen             No    White   \n",
       "1  2148  05/05/75  M      Married  US Citizen             No    White   \n",
       "2  1810  09/19/88   F     Married  US Citizen             No    White   \n",
       "3  1886  09/27/88   F     Married  US Citizen             No    White   \n",
       "4  2169  09/08/89   F    Divorced  US Citizen             No    White   \n",
       "\n",
       "  DateofHire DateofTermination         TermReason        EmploymentStatus  \\\n",
       "0   7/5/2011                 0  N/A-StillEmployed                  Active   \n",
       "1  3/30/2015         6/16/2016      career change  Voluntarily Terminated   \n",
       "2   7/5/2011         9/24/2012              hours  Voluntarily Terminated   \n",
       "3   1/7/2008                 0  N/A-StillEmployed                  Active   \n",
       "4  7/11/2011          9/6/2016   return to school  Voluntarily Terminated   \n",
       "\n",
       "          Department     ManagerName RecruitmentSource PerformanceScore  \\\n",
       "0  Production         Michael Albert          LinkedIn          Exceeds   \n",
       "1              IT/IS      Simon Roup            Indeed      Fully Meets   \n",
       "2  Production         Kissy Sullivan          LinkedIn      Fully Meets   \n",
       "3  Production           Elijiah Gray            Indeed      Fully Meets   \n",
       "4  Production         Webster Butler     Google Search      Fully Meets   \n",
       "\n",
       "   EngagementSurvey  EmpSatisfaction  SpecialProjectsCount  \\\n",
       "0              4.60                5                     0   \n",
       "1              4.96                3                     6   \n",
       "2              3.02                3                     0   \n",
       "3              4.84                5                     0   \n",
       "4              5.00                4                     0   \n",
       "\n",
       "  LastPerformanceReview_Date  DaysLateLast30  Absences  \n",
       "0                  1/17/2019               0         1  \n",
       "1                  2/24/2016               0        17  \n",
       "2                  5/15/2012               0         3  \n",
       "3                   1/3/2019               0        15  \n",
       "4                   2/1/2016               0         2  "
      ]
     },
     "execution_count": 10,
     "metadata": {},
     "output_type": "execute_result"
    }
   ],
   "source": [
    "# Retornando o dataframe transformado\n",
    "\n",
    "df1.head()"
   ]
  },
  {
   "cell_type": "markdown",
   "metadata": {
    "heading_collapsed": true,
    "id": "FDKzcC9CNP9X"
   },
   "source": [
    "# **Análise exploratória dos dados**"
   ]
  },
  {
   "cell_type": "code",
   "execution_count": 11,
   "metadata": {
    "ExecuteTime": {
     "end_time": "2021-04-06T21:37:22.396925Z",
     "start_time": "2021-04-06T21:37:21.476507Z"
    },
    "hidden": true,
    "hide_input": true,
    "id": "fcwaR4yqXA-b"
   },
   "outputs": [
    {
     "data": {
      "text/html": [
       "<div>\n",
       "<style scoped>\n",
       "    .dataframe tbody tr th:only-of-type {\n",
       "        vertical-align: middle;\n",
       "    }\n",
       "\n",
       "    .dataframe tbody tr th {\n",
       "        vertical-align: top;\n",
       "    }\n",
       "\n",
       "    .dataframe thead th {\n",
       "        text-align: right;\n",
       "    }\n",
       "</style>\n",
       "<table border=\"1\" class=\"dataframe\">\n",
       "  <thead>\n",
       "    <tr style=\"text-align: right;\">\n",
       "      <th></th>\n",
       "      <th>Employee_Name</th>\n",
       "      <th>Salary</th>\n",
       "      <th>Termd</th>\n",
       "      <th>Position</th>\n",
       "      <th>State</th>\n",
       "      <th>Zip</th>\n",
       "      <th>DOB</th>\n",
       "      <th>Sex</th>\n",
       "      <th>MaritalDesc</th>\n",
       "      <th>CitizenDesc</th>\n",
       "      <th>HispanicLatino</th>\n",
       "      <th>RaceDesc</th>\n",
       "      <th>DateofHire</th>\n",
       "      <th>DateofTermination</th>\n",
       "      <th>TermReason</th>\n",
       "      <th>EmploymentStatus</th>\n",
       "      <th>Department</th>\n",
       "      <th>ManagerName</th>\n",
       "      <th>RecruitmentSource</th>\n",
       "      <th>PerformanceScore</th>\n",
       "      <th>EngagementSurvey</th>\n",
       "      <th>EmpSatisfaction</th>\n",
       "      <th>SpecialProjectsCount</th>\n",
       "      <th>LastPerformanceReview_Date</th>\n",
       "      <th>DaysLateLast30</th>\n",
       "      <th>Absences</th>\n",
       "    </tr>\n",
       "  </thead>\n",
       "  <tbody>\n",
       "    <tr>\n",
       "      <th>count</th>\n",
       "      <td>311</td>\n",
       "      <td>311.000000</td>\n",
       "      <td>311.000000</td>\n",
       "      <td>311</td>\n",
       "      <td>311</td>\n",
       "      <td>311.000000</td>\n",
       "      <td>311</td>\n",
       "      <td>311</td>\n",
       "      <td>311</td>\n",
       "      <td>311</td>\n",
       "      <td>311</td>\n",
       "      <td>311</td>\n",
       "      <td>311</td>\n",
       "      <td>311.0</td>\n",
       "      <td>311</td>\n",
       "      <td>311</td>\n",
       "      <td>311</td>\n",
       "      <td>311</td>\n",
       "      <td>311</td>\n",
       "      <td>311</td>\n",
       "      <td>311.000000</td>\n",
       "      <td>311.000000</td>\n",
       "      <td>311.000000</td>\n",
       "      <td>311</td>\n",
       "      <td>311.000000</td>\n",
       "      <td>311.000000</td>\n",
       "    </tr>\n",
       "    <tr>\n",
       "      <th>unique</th>\n",
       "      <td>311</td>\n",
       "      <td>NaN</td>\n",
       "      <td>NaN</td>\n",
       "      <td>32</td>\n",
       "      <td>28</td>\n",
       "      <td>NaN</td>\n",
       "      <td>307</td>\n",
       "      <td>2</td>\n",
       "      <td>5</td>\n",
       "      <td>3</td>\n",
       "      <td>4</td>\n",
       "      <td>6</td>\n",
       "      <td>101</td>\n",
       "      <td>97.0</td>\n",
       "      <td>18</td>\n",
       "      <td>3</td>\n",
       "      <td>6</td>\n",
       "      <td>21</td>\n",
       "      <td>9</td>\n",
       "      <td>4</td>\n",
       "      <td>NaN</td>\n",
       "      <td>NaN</td>\n",
       "      <td>NaN</td>\n",
       "      <td>137</td>\n",
       "      <td>NaN</td>\n",
       "      <td>NaN</td>\n",
       "    </tr>\n",
       "    <tr>\n",
       "      <th>top</th>\n",
       "      <td>Soto, Julia</td>\n",
       "      <td>NaN</td>\n",
       "      <td>NaN</td>\n",
       "      <td>Production Technician I</td>\n",
       "      <td>MA</td>\n",
       "      <td>NaN</td>\n",
       "      <td>06/14/87</td>\n",
       "      <td>F</td>\n",
       "      <td>Single</td>\n",
       "      <td>US Citizen</td>\n",
       "      <td>No</td>\n",
       "      <td>White</td>\n",
       "      <td>1/10/2011</td>\n",
       "      <td>0.0</td>\n",
       "      <td>N/A-StillEmployed</td>\n",
       "      <td>Active</td>\n",
       "      <td>Production</td>\n",
       "      <td>Kissy Sullivan</td>\n",
       "      <td>Indeed</td>\n",
       "      <td>Fully Meets</td>\n",
       "      <td>NaN</td>\n",
       "      <td>NaN</td>\n",
       "      <td>NaN</td>\n",
       "      <td>1/14/2019</td>\n",
       "      <td>NaN</td>\n",
       "      <td>NaN</td>\n",
       "    </tr>\n",
       "    <tr>\n",
       "      <th>freq</th>\n",
       "      <td>1</td>\n",
       "      <td>NaN</td>\n",
       "      <td>NaN</td>\n",
       "      <td>137</td>\n",
       "      <td>276</td>\n",
       "      <td>NaN</td>\n",
       "      <td>2</td>\n",
       "      <td>176</td>\n",
       "      <td>137</td>\n",
       "      <td>295</td>\n",
       "      <td>282</td>\n",
       "      <td>187</td>\n",
       "      <td>14</td>\n",
       "      <td>207.0</td>\n",
       "      <td>207</td>\n",
       "      <td>207</td>\n",
       "      <td>209</td>\n",
       "      <td>22</td>\n",
       "      <td>87</td>\n",
       "      <td>243</td>\n",
       "      <td>NaN</td>\n",
       "      <td>NaN</td>\n",
       "      <td>NaN</td>\n",
       "      <td>18</td>\n",
       "      <td>NaN</td>\n",
       "      <td>NaN</td>\n",
       "    </tr>\n",
       "    <tr>\n",
       "      <th>mean</th>\n",
       "      <td>NaN</td>\n",
       "      <td>69020.684887</td>\n",
       "      <td>0.334405</td>\n",
       "      <td>NaN</td>\n",
       "      <td>NaN</td>\n",
       "      <td>6555.482315</td>\n",
       "      <td>NaN</td>\n",
       "      <td>NaN</td>\n",
       "      <td>NaN</td>\n",
       "      <td>NaN</td>\n",
       "      <td>NaN</td>\n",
       "      <td>NaN</td>\n",
       "      <td>NaN</td>\n",
       "      <td>NaN</td>\n",
       "      <td>NaN</td>\n",
       "      <td>NaN</td>\n",
       "      <td>NaN</td>\n",
       "      <td>NaN</td>\n",
       "      <td>NaN</td>\n",
       "      <td>NaN</td>\n",
       "      <td>4.110000</td>\n",
       "      <td>3.890675</td>\n",
       "      <td>1.218650</td>\n",
       "      <td>NaN</td>\n",
       "      <td>0.414791</td>\n",
       "      <td>10.237942</td>\n",
       "    </tr>\n",
       "    <tr>\n",
       "      <th>std</th>\n",
       "      <td>NaN</td>\n",
       "      <td>25156.636930</td>\n",
       "      <td>0.472542</td>\n",
       "      <td>NaN</td>\n",
       "      <td>NaN</td>\n",
       "      <td>16908.396884</td>\n",
       "      <td>NaN</td>\n",
       "      <td>NaN</td>\n",
       "      <td>NaN</td>\n",
       "      <td>NaN</td>\n",
       "      <td>NaN</td>\n",
       "      <td>NaN</td>\n",
       "      <td>NaN</td>\n",
       "      <td>NaN</td>\n",
       "      <td>NaN</td>\n",
       "      <td>NaN</td>\n",
       "      <td>NaN</td>\n",
       "      <td>NaN</td>\n",
       "      <td>NaN</td>\n",
       "      <td>NaN</td>\n",
       "      <td>0.789938</td>\n",
       "      <td>0.909241</td>\n",
       "      <td>2.349421</td>\n",
       "      <td>NaN</td>\n",
       "      <td>1.294519</td>\n",
       "      <td>5.852596</td>\n",
       "    </tr>\n",
       "    <tr>\n",
       "      <th>min</th>\n",
       "      <td>NaN</td>\n",
       "      <td>45046.000000</td>\n",
       "      <td>0.000000</td>\n",
       "      <td>NaN</td>\n",
       "      <td>NaN</td>\n",
       "      <td>1013.000000</td>\n",
       "      <td>NaN</td>\n",
       "      <td>NaN</td>\n",
       "      <td>NaN</td>\n",
       "      <td>NaN</td>\n",
       "      <td>NaN</td>\n",
       "      <td>NaN</td>\n",
       "      <td>NaN</td>\n",
       "      <td>NaN</td>\n",
       "      <td>NaN</td>\n",
       "      <td>NaN</td>\n",
       "      <td>NaN</td>\n",
       "      <td>NaN</td>\n",
       "      <td>NaN</td>\n",
       "      <td>NaN</td>\n",
       "      <td>1.120000</td>\n",
       "      <td>1.000000</td>\n",
       "      <td>0.000000</td>\n",
       "      <td>NaN</td>\n",
       "      <td>0.000000</td>\n",
       "      <td>1.000000</td>\n",
       "    </tr>\n",
       "    <tr>\n",
       "      <th>25%</th>\n",
       "      <td>NaN</td>\n",
       "      <td>55501.500000</td>\n",
       "      <td>0.000000</td>\n",
       "      <td>NaN</td>\n",
       "      <td>NaN</td>\n",
       "      <td>1901.500000</td>\n",
       "      <td>NaN</td>\n",
       "      <td>NaN</td>\n",
       "      <td>NaN</td>\n",
       "      <td>NaN</td>\n",
       "      <td>NaN</td>\n",
       "      <td>NaN</td>\n",
       "      <td>NaN</td>\n",
       "      <td>NaN</td>\n",
       "      <td>NaN</td>\n",
       "      <td>NaN</td>\n",
       "      <td>NaN</td>\n",
       "      <td>NaN</td>\n",
       "      <td>NaN</td>\n",
       "      <td>NaN</td>\n",
       "      <td>3.690000</td>\n",
       "      <td>3.000000</td>\n",
       "      <td>0.000000</td>\n",
       "      <td>NaN</td>\n",
       "      <td>0.000000</td>\n",
       "      <td>5.000000</td>\n",
       "    </tr>\n",
       "    <tr>\n",
       "      <th>50%</th>\n",
       "      <td>NaN</td>\n",
       "      <td>62810.000000</td>\n",
       "      <td>0.000000</td>\n",
       "      <td>NaN</td>\n",
       "      <td>NaN</td>\n",
       "      <td>2132.000000</td>\n",
       "      <td>NaN</td>\n",
       "      <td>NaN</td>\n",
       "      <td>NaN</td>\n",
       "      <td>NaN</td>\n",
       "      <td>NaN</td>\n",
       "      <td>NaN</td>\n",
       "      <td>NaN</td>\n",
       "      <td>NaN</td>\n",
       "      <td>NaN</td>\n",
       "      <td>NaN</td>\n",
       "      <td>NaN</td>\n",
       "      <td>NaN</td>\n",
       "      <td>NaN</td>\n",
       "      <td>NaN</td>\n",
       "      <td>4.280000</td>\n",
       "      <td>4.000000</td>\n",
       "      <td>0.000000</td>\n",
       "      <td>NaN</td>\n",
       "      <td>0.000000</td>\n",
       "      <td>10.000000</td>\n",
       "    </tr>\n",
       "    <tr>\n",
       "      <th>75%</th>\n",
       "      <td>NaN</td>\n",
       "      <td>72036.000000</td>\n",
       "      <td>1.000000</td>\n",
       "      <td>NaN</td>\n",
       "      <td>NaN</td>\n",
       "      <td>2355.000000</td>\n",
       "      <td>NaN</td>\n",
       "      <td>NaN</td>\n",
       "      <td>NaN</td>\n",
       "      <td>NaN</td>\n",
       "      <td>NaN</td>\n",
       "      <td>NaN</td>\n",
       "      <td>NaN</td>\n",
       "      <td>NaN</td>\n",
       "      <td>NaN</td>\n",
       "      <td>NaN</td>\n",
       "      <td>NaN</td>\n",
       "      <td>NaN</td>\n",
       "      <td>NaN</td>\n",
       "      <td>NaN</td>\n",
       "      <td>4.700000</td>\n",
       "      <td>5.000000</td>\n",
       "      <td>0.000000</td>\n",
       "      <td>NaN</td>\n",
       "      <td>0.000000</td>\n",
       "      <td>15.000000</td>\n",
       "    </tr>\n",
       "    <tr>\n",
       "      <th>max</th>\n",
       "      <td>NaN</td>\n",
       "      <td>250000.000000</td>\n",
       "      <td>1.000000</td>\n",
       "      <td>NaN</td>\n",
       "      <td>NaN</td>\n",
       "      <td>98052.000000</td>\n",
       "      <td>NaN</td>\n",
       "      <td>NaN</td>\n",
       "      <td>NaN</td>\n",
       "      <td>NaN</td>\n",
       "      <td>NaN</td>\n",
       "      <td>NaN</td>\n",
       "      <td>NaN</td>\n",
       "      <td>NaN</td>\n",
       "      <td>NaN</td>\n",
       "      <td>NaN</td>\n",
       "      <td>NaN</td>\n",
       "      <td>NaN</td>\n",
       "      <td>NaN</td>\n",
       "      <td>NaN</td>\n",
       "      <td>5.000000</td>\n",
       "      <td>5.000000</td>\n",
       "      <td>8.000000</td>\n",
       "      <td>NaN</td>\n",
       "      <td>6.000000</td>\n",
       "      <td>20.000000</td>\n",
       "    </tr>\n",
       "  </tbody>\n",
       "</table>\n",
       "</div>"
      ],
      "text/plain": [
       "       Employee_Name         Salary       Termd                 Position  \\\n",
       "count            311     311.000000  311.000000                      311   \n",
       "unique           311            NaN         NaN                       32   \n",
       "top     Soto, Julia             NaN         NaN  Production Technician I   \n",
       "freq               1            NaN         NaN                      137   \n",
       "mean             NaN   69020.684887    0.334405                      NaN   \n",
       "std              NaN   25156.636930    0.472542                      NaN   \n",
       "min              NaN   45046.000000    0.000000                      NaN   \n",
       "25%              NaN   55501.500000    0.000000                      NaN   \n",
       "50%              NaN   62810.000000    0.000000                      NaN   \n",
       "75%              NaN   72036.000000    1.000000                      NaN   \n",
       "max              NaN  250000.000000    1.000000                      NaN   \n",
       "\n",
       "       State           Zip       DOB  Sex MaritalDesc CitizenDesc  \\\n",
       "count    311    311.000000       311  311         311         311   \n",
       "unique    28           NaN       307    2           5           3   \n",
       "top       MA           NaN  06/14/87    F      Single  US Citizen   \n",
       "freq     276           NaN         2  176         137         295   \n",
       "mean     NaN   6555.482315       NaN  NaN         NaN         NaN   \n",
       "std      NaN  16908.396884       NaN  NaN         NaN         NaN   \n",
       "min      NaN   1013.000000       NaN  NaN         NaN         NaN   \n",
       "25%      NaN   1901.500000       NaN  NaN         NaN         NaN   \n",
       "50%      NaN   2132.000000       NaN  NaN         NaN         NaN   \n",
       "75%      NaN   2355.000000       NaN  NaN         NaN         NaN   \n",
       "max      NaN  98052.000000       NaN  NaN         NaN         NaN   \n",
       "\n",
       "       HispanicLatino RaceDesc DateofHire  DateofTermination  \\\n",
       "count             311      311        311              311.0   \n",
       "unique              4        6        101               97.0   \n",
       "top                No    White  1/10/2011                0.0   \n",
       "freq              282      187         14              207.0   \n",
       "mean              NaN      NaN        NaN                NaN   \n",
       "std               NaN      NaN        NaN                NaN   \n",
       "min               NaN      NaN        NaN                NaN   \n",
       "25%               NaN      NaN        NaN                NaN   \n",
       "50%               NaN      NaN        NaN                NaN   \n",
       "75%               NaN      NaN        NaN                NaN   \n",
       "max               NaN      NaN        NaN                NaN   \n",
       "\n",
       "               TermReason EmploymentStatus         Department     ManagerName  \\\n",
       "count                 311              311                311             311   \n",
       "unique                 18                3                  6              21   \n",
       "top     N/A-StillEmployed           Active  Production         Kissy Sullivan   \n",
       "freq                  207              207                209              22   \n",
       "mean                  NaN              NaN                NaN             NaN   \n",
       "std                   NaN              NaN                NaN             NaN   \n",
       "min                   NaN              NaN                NaN             NaN   \n",
       "25%                   NaN              NaN                NaN             NaN   \n",
       "50%                   NaN              NaN                NaN             NaN   \n",
       "75%                   NaN              NaN                NaN             NaN   \n",
       "max                   NaN              NaN                NaN             NaN   \n",
       "\n",
       "       RecruitmentSource PerformanceScore  EngagementSurvey  EmpSatisfaction  \\\n",
       "count                311              311        311.000000       311.000000   \n",
       "unique                 9                4               NaN              NaN   \n",
       "top               Indeed      Fully Meets               NaN              NaN   \n",
       "freq                  87              243               NaN              NaN   \n",
       "mean                 NaN              NaN          4.110000         3.890675   \n",
       "std                  NaN              NaN          0.789938         0.909241   \n",
       "min                  NaN              NaN          1.120000         1.000000   \n",
       "25%                  NaN              NaN          3.690000         3.000000   \n",
       "50%                  NaN              NaN          4.280000         4.000000   \n",
       "75%                  NaN              NaN          4.700000         5.000000   \n",
       "max                  NaN              NaN          5.000000         5.000000   \n",
       "\n",
       "        SpecialProjectsCount LastPerformanceReview_Date  DaysLateLast30  \\\n",
       "count             311.000000                        311      311.000000   \n",
       "unique                   NaN                        137             NaN   \n",
       "top                      NaN                  1/14/2019             NaN   \n",
       "freq                     NaN                         18             NaN   \n",
       "mean                1.218650                        NaN        0.414791   \n",
       "std                 2.349421                        NaN        1.294519   \n",
       "min                 0.000000                        NaN        0.000000   \n",
       "25%                 0.000000                        NaN        0.000000   \n",
       "50%                 0.000000                        NaN        0.000000   \n",
       "75%                 0.000000                        NaN        0.000000   \n",
       "max                 8.000000                        NaN        6.000000   \n",
       "\n",
       "          Absences  \n",
       "count   311.000000  \n",
       "unique         NaN  \n",
       "top            NaN  \n",
       "freq           NaN  \n",
       "mean     10.237942  \n",
       "std       5.852596  \n",
       "min       1.000000  \n",
       "25%       5.000000  \n",
       "50%      10.000000  \n",
       "75%      15.000000  \n",
       "max      20.000000  "
      ]
     },
     "execution_count": 11,
     "metadata": {},
     "output_type": "execute_result"
    }
   ],
   "source": [
    "# Estatísticas descritivas dos dados filtrados \n",
    "df1.describe(include = 'all')"
   ]
  },
  {
   "cell_type": "markdown",
   "metadata": {
    "hidden": true,
    "id": "j7kjvt3uNP9e"
   },
   "source": [
    "### A tabela acima demonstra de forma ampla as estatísticas descritivas dos dados quê filtrei da tabela original, porém o time do RH não teria conhecimento técnico prévio para identificar as informações contidas nela. Então decidi fazer algumas análises manuais com alguns atributos que considero importantes para chegar ao objetivo, até mesmo fora das hipóteses do CEO e suas perguntas inicialmente. Pois talvez possa encontrar informações valiosas para conseguir modelar o negócio de forma proficiente."
   ]
  },
  {
   "cell_type": "markdown",
   "metadata": {
    "id": "NdCwA-GbWQ2N"
   },
   "source": [
    "# Salários"
   ]
  },
  {
   "cell_type": "code",
   "execution_count": 12,
   "metadata": {
    "ExecuteTime": {
     "end_time": "2021-04-06T21:37:22.467739Z",
     "start_time": "2021-04-06T21:37:22.411006Z"
    },
    "hide_input": true,
    "id": "ctslANntNP9h"
   },
   "outputs": [
    {
     "data": {
      "text/plain": [
       "count       311.000000\n",
       "mean      69020.684887\n",
       "std       25156.636930\n",
       "min       45046.000000\n",
       "25%       55501.500000\n",
       "50%       62810.000000\n",
       "75%       72036.000000\n",
       "max      250000.000000\n",
       "Name: Salary, dtype: float64"
      ]
     },
     "execution_count": 12,
     "metadata": {},
     "output_type": "execute_result"
    }
   ],
   "source": [
    "# Análise descritiva do salário dos empregados é importante por que pode ser um indicador de desmotivação fos funcionários \n",
    "df1['Salary'].describe()"
   ]
  },
  {
   "cell_type": "code",
   "execution_count": 13,
   "metadata": {
    "ExecuteTime": {
     "end_time": "2021-04-06T21:37:24.840273Z",
     "start_time": "2021-04-06T21:37:22.481739Z"
    },
    "hide_input": true,
    "id": "SH-KdeLjNP9l"
   },
   "outputs": [
    {
     "data": {
      "image/png": "[encoded data removed]",
      "text/plain": [
       "<Figure size 432x288 with 1 Axes>"
      ]
     },
     "metadata": {
      "needs_background": "light"
     },
     "output_type": "display_data"
    }
   ],
   "source": [
    "# Distribuição do salário visualmente \n",
    "ax = sns.distplot(df1['Salary'])\n",
    "ax.set_title('Distribuição de salários');"
   ]
  },
  {
   "cell_type": "raw",
   "metadata": {
    "id": "DgdPNKFnNP9q"
   },
   "source": [
    "▪É interessante dizer que os salários da empresa são fortementes variados, com bastante valores distantes da média, causando um alto desvio padrão de $ 25.156.63\n",
    "\n",
    "▪O valor máximo de salário é $ 250.000.00\n",
    " \n",
    "▪O valor mínimo de salário é $ 45.046.00\n",
    " \n",
    "▪O valor da média salarial é $ 69.020.68"
   ]
  },
  {
   "cell_type": "code",
   "execution_count": 96,
   "metadata": {
    "ExecuteTime": {
     "end_time": "2021-04-06T23:03:44.506896Z",
     "start_time": "2021-04-06T23:03:43.360225Z"
    },
    "hide_input": true,
    "id": "o9gpeNPdNQkR"
   },
   "outputs": [
    {
     "data": {
      "image/png": "[encoded data removed]",
      "text/plain": [
       "<Figure size 432x288 with 1 Axes>"
      ]
     },
     "metadata": {
      "needs_background": "light"
     },
     "output_type": "display_data"
    }
   ],
   "source": [
    "# Verificando visualmente a distribuição de salários por sexo\n",
    "ax = sns.boxplot(x='Sex',y='Salary', data=df1)\n",
    "ax.set_title('Distribuição de salário por sexo');"
   ]
  },
  {
   "cell_type": "raw",
   "metadata": {
    "id": "q71f51zxNQkT"
   },
   "source": [
    "É interessante que os maiores salários desta empresa são de mulheres, conforme a análise do boxplot acima. Porém para dizer com precisão que as mulheres ganham mais será necessário analisar a média de salários por sexo."
   ]
  },
  {
   "cell_type": "code",
   "execution_count": 15,
   "metadata": {
    "ExecuteTime": {
     "end_time": "2021-04-06T21:37:26.047351Z",
     "start_time": "2021-04-06T21:37:25.995332Z"
    },
    "hide_input": true,
    "id": "rfl_B55wNQkU"
   },
   "outputs": [
    {
     "data": {
      "text/plain": [
       "Sex\n",
       "F     67786.727273\n",
       "M     70629.400000\n",
       "Name: Salary, dtype: float64"
      ]
     },
     "execution_count": 15,
     "metadata": {},
     "output_type": "execute_result"
    }
   ],
   "source": [
    "# Vou tirar a média dos salários por sexo para identificar qual será a maior \n",
    "# Assumindo a premissa quê mesmo algumas mulheres tendo os salários fora do padrão, elas podem não ganhar mais do quê os homens em média nesta empresa. \n",
    "df1.groupby(['Sex'])['Salary'].mean()"
   ]
  },
  {
   "cell_type": "raw",
   "metadata": {
    "id": "MDR_ft2rNQkW"
   },
   "source": [
    "Apesar de algumas mulheres na empresa receberem salários altos e fora do padrão, alem delas serem o sexo mais comum também em cerca de 56.6% dos funcionários, elas não ganham mais do quê os homens em média nesta empresa. "
   ]
  },
  {
   "cell_type": "code",
   "execution_count": 16,
   "metadata": {
    "ExecuteTime": {
     "end_time": "2021-04-06T21:37:26.102505Z",
     "start_time": "2021-04-06T21:37:26.059527Z"
    },
    "hide_input": true,
    "id": "7QzPhxkKNQkX"
   },
   "outputs": [
    {
     "data": {
      "text/plain": [
       "Sex\n",
       "F     11930464\n",
       "M      9534969\n",
       "Name: Salary, dtype: int64"
      ]
     },
     "execution_count": 16,
     "metadata": {},
     "output_type": "execute_result"
    }
   ],
   "source": [
    "# Verificando a soma total dos salários por sexo\n",
    "df1.groupby(['Sex'])['Salary'].sum()"
   ]
  },
  {
   "cell_type": "raw",
   "metadata": {
    "id": "k2SJGGXwNQkZ"
   },
   "source": [
    "A soma dos salários de funcionários do sexo feminino são maiores na base, porém em média elas recebem $ 2.843 a menos do quê os homens em relação a população completa  da base."
   ]
  },
  {
   "cell_type": "code",
   "execution_count": 97,
   "metadata": {
    "ExecuteTime": {
     "end_time": "2021-04-06T23:04:49.352778Z",
     "start_time": "2021-04-06T23:04:44.981490Z"
    },
    "hide_input": true,
    "id": "b77A43VJNQka"
   },
   "outputs": [
    {
     "data": {
      "image/png": "[encoded data removed]",
      "text/plain": [
       "<Figure size 720x576 with 1 Axes>"
      ]
     },
     "metadata": {
      "needs_background": "light"
     },
     "output_type": "display_data"
    }
   ],
   "source": [
    "# Distribuições entre salários por cargos\n",
    "plt.figure(figsize=(10, 8))\n",
    "sns.boxplot(y=df1['Position'], x=df1['Salary'], data=df1);"
   ]
  },
  {
   "cell_type": "raw",
   "metadata": {
    "id": "KNKWJ4lCNQkc"
   },
   "source": [
    "Os maiores salários como esperado pertencem a cargos de Chefia  (CEO, CIO, Diretoria), e os menores salários aos cargos produção e assistência. "
   ]
  },
  {
   "cell_type": "markdown",
   "metadata": {
    "id": "leZiu5f0WVBZ"
   },
   "source": [
    "# Cargos"
   ]
  },
  {
   "cell_type": "code",
   "execution_count": 18,
   "metadata": {
    "ExecuteTime": {
     "end_time": "2021-04-06T21:37:32.242046Z",
     "start_time": "2021-04-06T21:37:32.137672Z"
    },
    "hide_input": true,
    "id": "X92idpXONP9s"
   },
   "outputs": [
    {
     "data": {
      "text/html": [
       "<div>\n",
       "<style scoped>\n",
       "    .dataframe tbody tr th:only-of-type {\n",
       "        vertical-align: middle;\n",
       "    }\n",
       "\n",
       "    .dataframe tbody tr th {\n",
       "        vertical-align: top;\n",
       "    }\n",
       "\n",
       "    .dataframe thead th {\n",
       "        text-align: right;\n",
       "    }\n",
       "</style>\n",
       "<table border=\"1\" class=\"dataframe\">\n",
       "  <thead>\n",
       "    <tr style=\"text-align: right;\">\n",
       "      <th></th>\n",
       "      <th>Position</th>\n",
       "    </tr>\n",
       "  </thead>\n",
       "  <tbody>\n",
       "    <tr>\n",
       "      <th>Production Technician I</th>\n",
       "      <td>137</td>\n",
       "    </tr>\n",
       "    <tr>\n",
       "      <th>Production Technician II</th>\n",
       "      <td>57</td>\n",
       "    </tr>\n",
       "    <tr>\n",
       "      <th>Area Sales Manager</th>\n",
       "      <td>27</td>\n",
       "    </tr>\n",
       "    <tr>\n",
       "      <th>Production Manager</th>\n",
       "      <td>14</td>\n",
       "    </tr>\n",
       "    <tr>\n",
       "      <th>Software Engineer</th>\n",
       "      <td>10</td>\n",
       "    </tr>\n",
       "    <tr>\n",
       "      <th>IT Support</th>\n",
       "      <td>8</td>\n",
       "    </tr>\n",
       "    <tr>\n",
       "      <th>Data Analyst</th>\n",
       "      <td>7</td>\n",
       "    </tr>\n",
       "    <tr>\n",
       "      <th>Network Engineer</th>\n",
       "      <td>5</td>\n",
       "    </tr>\n",
       "    <tr>\n",
       "      <th>Database Administrator</th>\n",
       "      <td>5</td>\n",
       "    </tr>\n",
       "    <tr>\n",
       "      <th>Sr. Network Engineer</th>\n",
       "      <td>5</td>\n",
       "    </tr>\n",
       "    <tr>\n",
       "      <th>BI Developer</th>\n",
       "      <td>4</td>\n",
       "    </tr>\n",
       "    <tr>\n",
       "      <th>Sales Manager</th>\n",
       "      <td>3</td>\n",
       "    </tr>\n",
       "    <tr>\n",
       "      <th>Accountant I</th>\n",
       "      <td>3</td>\n",
       "    </tr>\n",
       "    <tr>\n",
       "      <th>Administrative Assistant</th>\n",
       "      <td>3</td>\n",
       "    </tr>\n",
       "    <tr>\n",
       "      <th>Senior BI Developer</th>\n",
       "      <td>3</td>\n",
       "    </tr>\n",
       "    <tr>\n",
       "      <th>Sr. Accountant</th>\n",
       "      <td>2</td>\n",
       "    </tr>\n",
       "    <tr>\n",
       "      <th>IT Manager - DB</th>\n",
       "      <td>2</td>\n",
       "    </tr>\n",
       "    <tr>\n",
       "      <th>Sr. DBA</th>\n",
       "      <td>2</td>\n",
       "    </tr>\n",
       "    <tr>\n",
       "      <th>BI Director</th>\n",
       "      <td>1</td>\n",
       "    </tr>\n",
       "    <tr>\n",
       "      <th>Director of Operations</th>\n",
       "      <td>1</td>\n",
       "    </tr>\n",
       "    <tr>\n",
       "      <th>IT Director</th>\n",
       "      <td>1</td>\n",
       "    </tr>\n",
       "    <tr>\n",
       "      <th>Software Engineering Manager</th>\n",
       "      <td>1</td>\n",
       "    </tr>\n",
       "    <tr>\n",
       "      <th>IT Manager - Support</th>\n",
       "      <td>1</td>\n",
       "    </tr>\n",
       "    <tr>\n",
       "      <th>Data Architect</th>\n",
       "      <td>1</td>\n",
       "    </tr>\n",
       "    <tr>\n",
       "      <th>Enterprise Architect</th>\n",
       "      <td>1</td>\n",
       "    </tr>\n",
       "    <tr>\n",
       "      <th>CIO</th>\n",
       "      <td>1</td>\n",
       "    </tr>\n",
       "    <tr>\n",
       "      <th>Data Analyst</th>\n",
       "      <td>1</td>\n",
       "    </tr>\n",
       "    <tr>\n",
       "      <th>Shared Services Manager</th>\n",
       "      <td>1</td>\n",
       "    </tr>\n",
       "    <tr>\n",
       "      <th>Director of Sales</th>\n",
       "      <td>1</td>\n",
       "    </tr>\n",
       "    <tr>\n",
       "      <th>President &amp; CEO</th>\n",
       "      <td>1</td>\n",
       "    </tr>\n",
       "    <tr>\n",
       "      <th>Principal Data Architect</th>\n",
       "      <td>1</td>\n",
       "    </tr>\n",
       "    <tr>\n",
       "      <th>IT Manager - Infra</th>\n",
       "      <td>1</td>\n",
       "    </tr>\n",
       "  </tbody>\n",
       "</table>\n",
       "</div>"
      ],
      "text/plain": [
       "                              Position\n",
       "Production Technician I            137\n",
       "Production Technician II            57\n",
       "Area Sales Manager                  27\n",
       "Production Manager                  14\n",
       "Software Engineer                   10\n",
       "IT Support                           8\n",
       "Data Analyst                         7\n",
       "Network Engineer                     5\n",
       "Database Administrator               5\n",
       "Sr. Network Engineer                 5\n",
       "BI Developer                         4\n",
       "Sales Manager                        3\n",
       "Accountant I                         3\n",
       "Administrative Assistant             3\n",
       "Senior BI Developer                  3\n",
       "Sr. Accountant                       2\n",
       "IT Manager - DB                      2\n",
       "Sr. DBA                              2\n",
       "BI Director                          1\n",
       "Director of Operations               1\n",
       "IT Director                          1\n",
       "Software Engineering Manager         1\n",
       "IT Manager - Support                 1\n",
       "Data Architect                       1\n",
       "Enterprise Architect                 1\n",
       "CIO                                  1\n",
       "Data Analyst                         1\n",
       "Shared Services Manager              1\n",
       "Director of Sales                    1\n",
       "President & CEO                      1\n",
       "Principal Data Architect             1\n",
       "IT Manager - Infra                   1"
      ]
     },
     "execution_count": 18,
     "metadata": {},
     "output_type": "execute_result"
    }
   ],
   "source": [
    "# Distribuição de cargos na empresa \n",
    "df1['Position'].value_counts().to_frame()"
   ]
  },
  {
   "cell_type": "code",
   "execution_count": 19,
   "metadata": {
    "ExecuteTime": {
     "end_time": "2021-04-06T21:37:35.373190Z",
     "start_time": "2021-04-06T21:37:32.256056Z"
    },
    "hide_input": true,
    "id": "EYrPqzOXNP9v"
   },
   "outputs": [
    {
     "data": {
      "image/png": "[encoded data removed]",
      "text/plain": [
       "<Figure size 720x720 with 1 Axes>"
      ]
     },
     "metadata": {
      "needs_background": "light"
     },
     "output_type": "display_data"
    }
   ],
   "source": [
    "# Distribuição dos cargos visualmente\n",
    "plt.figure(figsize=(10, 10))\n",
    "ax = sns.countplot(y=df1['Position'], data=df)\n",
    "ax.set_title('Distribuição de cargos');"
   ]
  },
  {
   "cell_type": "raw",
   "metadata": {
    "id": "h_oOkEDMNP9y"
   },
   "source": [
    "Utilizarei um segundo gráfico para passar a mesma mensagem de forma diferente, este será um gráfico de árvore que demonstra quanto maior a frequência do cargo maior será o retângulo do gráfico."
   ]
  },
  {
   "cell_type": "code",
   "execution_count": 20,
   "metadata": {
    "ExecuteTime": {
     "end_time": "2021-04-06T21:37:35.433142Z",
     "start_time": "2021-04-06T21:37:35.389430Z"
    },
    "hide_input": true,
    "id": "8kQQgdU-NP90"
   },
   "outputs": [],
   "source": [
    "# Irei preparar as informações para um formato que se atenda para criar o gráfico\n",
    "cargos = df1[\"Position\"].value_counts()\\\n",
    "                          .to_frame()\\\n",
    "                          .reset_index()"
   ]
  },
  {
   "cell_type": "code",
   "execution_count": 21,
   "metadata": {
    "ExecuteTime": {
     "end_time": "2021-04-06T21:37:38.667563Z",
     "start_time": "2021-04-06T21:37:35.453433Z"
    },
    "hide_input": true,
    "id": "hxFRJt-8NP91",
    "scrolled": false
   },
   "outputs": [
    {
     "data": {
      "image/png": "[encoded data removed]",
      "text/plain": [
       "<Figure size 3600x1440 with 1 Axes>"
      ]
     },
     "metadata": {
      "needs_background": "light"
     },
     "output_type": "display_data"
    },
    {
     "data": {
      "text/plain": [
       "<Figure size 432x288 with 0 Axes>"
      ]
     },
     "metadata": {},
     "output_type": "display_data"
    }
   ],
   "source": [
    "# Definindo a paleta de cores para o treemap\n",
    "norm = matplotlib.colors.Normalize(vmin=min(cargos.Position.value_counts()),\n",
    "                                   vmax=max(cargos.Position.value_counts()))\n",
    "colors = [\n",
    "    matplotlib.cm.Blues(norm(value))\n",
    "    for value in cargos.Position.value_counts()\n",
    "]\n",
    "\n",
    "# Gráfico do tipo árvore para uma visualização adequada a quantidade de cargos\n",
    "plt.figure(figsize=(50, 20))\n",
    "squarify.plot(sizes=cargos['Position'],\n",
    "              label=cargos['index'],\n",
    "              color=colors,\n",
    "              pad=True,\n",
    "              alpha=.7,\n",
    "              text_kwargs={'fontsize': 12})\n",
    "plt.axis('off')\n",
    "plt.show()\n",
    "plt.tight_layout();"
   ]
  },
  {
   "cell_type": "markdown",
   "metadata": {
    "id": "5gbaBSG_WZ2h"
   },
   "source": [
    "# Gêneros"
   ]
  },
  {
   "cell_type": "code",
   "execution_count": 22,
   "metadata": {
    "ExecuteTime": {
     "end_time": "2021-04-06T21:37:38.812793Z",
     "start_time": "2021-04-06T21:37:38.748589Z"
    },
    "hide_input": true,
    "id": "x528fyjCNP94"
   },
   "outputs": [
    {
     "data": {
      "text/html": [
       "<div>\n",
       "<style scoped>\n",
       "    .dataframe tbody tr th:only-of-type {\n",
       "        vertical-align: middle;\n",
       "    }\n",
       "\n",
       "    .dataframe tbody tr th {\n",
       "        vertical-align: top;\n",
       "    }\n",
       "\n",
       "    .dataframe thead th {\n",
       "        text-align: right;\n",
       "    }\n",
       "</style>\n",
       "<table border=\"1\" class=\"dataframe\">\n",
       "  <thead>\n",
       "    <tr style=\"text-align: right;\">\n",
       "      <th></th>\n",
       "      <th>Sex</th>\n",
       "    </tr>\n",
       "  </thead>\n",
       "  <tbody>\n",
       "    <tr>\n",
       "      <th>F</th>\n",
       "      <td>176</td>\n",
       "    </tr>\n",
       "    <tr>\n",
       "      <th>M</th>\n",
       "      <td>135</td>\n",
       "    </tr>\n",
       "  </tbody>\n",
       "</table>\n",
       "</div>"
      ],
      "text/plain": [
       "    Sex\n",
       "F   176\n",
       "M   135"
      ]
     },
     "execution_count": 22,
     "metadata": {},
     "output_type": "execute_result"
    }
   ],
   "source": [
    "# Distribuição de gênero na empresa\n",
    "Sex = df1['Sex'].value_counts().to_frame()\n",
    "Sex"
   ]
  },
  {
   "cell_type": "code",
   "execution_count": 23,
   "metadata": {
    "ExecuteTime": {
     "end_time": "2021-04-06T21:37:39.229133Z",
     "start_time": "2021-04-06T21:37:38.827253Z"
    },
    "hide_input": true,
    "id": "NpNMvopdNP97"
   },
   "outputs": [
    {
     "data": {
      "image/png": "[encoded data removed]",
      "text/plain": [
       "<Figure size 432x288 with 1 Axes>"
      ]
     },
     "metadata": {},
     "output_type": "display_data"
    }
   ],
   "source": [
    "# Representação gráfica da distribuição de gênero\n",
    "plt.pie(Sex, colors=['pink', '#66b3ff'], labels=Sex.index, autopct='%1.1f%%');"
   ]
  },
  {
   "cell_type": "raw",
   "metadata": {},
   "source": [
    "Na empresa funcionários do sexo feminino são mais frequentes."
   ]
  },
  {
   "cell_type": "markdown",
   "metadata": {
    "id": "zcL7NuVTYs4p"
   },
   "source": [
    "# Situação de emprego"
   ]
  },
  {
   "cell_type": "code",
   "execution_count": 24,
   "metadata": {
    "ExecuteTime": {
     "end_time": "2021-04-06T21:37:39.288748Z",
     "start_time": "2021-04-06T21:37:39.244299Z"
    },
    "hide_input": true,
    "id": "hfQPotgKZxGv"
   },
   "outputs": [
    {
     "data": {
      "text/plain": [
       "Active                    207\n",
       "Voluntarily Terminated     88\n",
       "Terminated for Cause       16\n",
       "Name: EmploymentStatus, dtype: int64"
      ]
     },
     "execution_count": 24,
     "metadata": {},
     "output_type": "execute_result"
    }
   ],
   "source": [
    " # Verificando a situação dos funcionários quanto se estão ativos ou desligados \n",
    "df1['EmploymentStatus'].value_counts()"
   ]
  },
  {
   "cell_type": "code",
   "execution_count": 25,
   "metadata": {
    "ExecuteTime": {
     "end_time": "2021-04-06T21:37:40.796015Z",
     "start_time": "2021-04-06T21:37:39.302651Z"
    },
    "hide_input": true,
    "id": "OWs8LhoZYywz",
    "scrolled": true,
    "tags": []
   },
   "outputs": [
    {
     "data": {
      "image/png": "[encoded data removed]",
      "text/plain": [
       "<Figure size 432x288 with 1 Axes>"
      ]
     },
     "metadata": {
      "needs_background": "light"
     },
     "output_type": "display_data"
    }
   ],
   "source": [
    "# Análise visual\n",
    "ax = sns.countplot(df1['EmploymentStatus'])\n",
    "ax.set_title('Situação de emprego');"
   ]
  },
  {
   "cell_type": "raw",
   "metadata": {
    "id": "e9MgARaEaPqT"
   },
   "source": [
    "É perceptível que a empresa havia terminado o contrato de 88 funcionários voluntários na base de dados, e 16 funcionários titulares foram desligados."
   ]
  },
  {
   "cell_type": "markdown",
   "metadata": {
    "id": "wmZUhcPTbYFW"
   },
   "source": [
    "# **Seção perguntas do CEO**"
   ]
  },
  {
   "cell_type": "markdown",
   "metadata": {
    "id": "Ri-FL2k8bjGX"
   },
   "source": [
    "# **P1 - Quais são nossas melhores fontes de recrutamento se quisermos garantir uma organização diversificada?**"
   ]
  },
  {
   "cell_type": "code",
   "execution_count": 26,
   "metadata": {
    "ExecuteTime": {
     "end_time": "2021-04-06T21:37:40.937620Z",
     "start_time": "2021-04-06T21:37:40.812230Z"
    },
    "hide_input": true,
    "id": "7yrP8adJcCBW"
   },
   "outputs": [
    {
     "data": {
      "text/html": [
       "<div>\n",
       "<style scoped>\n",
       "    .dataframe tbody tr th:only-of-type {\n",
       "        vertical-align: middle;\n",
       "    }\n",
       "\n",
       "    .dataframe tbody tr th {\n",
       "        vertical-align: top;\n",
       "    }\n",
       "\n",
       "    .dataframe thead th {\n",
       "        text-align: right;\n",
       "    }\n",
       "</style>\n",
       "<table border=\"1\" class=\"dataframe\">\n",
       "  <thead>\n",
       "    <tr style=\"text-align: right;\">\n",
       "      <th></th>\n",
       "      <th></th>\n",
       "      <th>RecruitmentSource</th>\n",
       "    </tr>\n",
       "    <tr>\n",
       "      <th>RaceDesc</th>\n",
       "      <th>RecruitmentSource</th>\n",
       "      <th></th>\n",
       "    </tr>\n",
       "  </thead>\n",
       "  <tbody>\n",
       "    <tr>\n",
       "      <th rowspan=\"3\" valign=\"top\">American Indian or Alaska Native</th>\n",
       "      <th>Google Search</th>\n",
       "      <td>1</td>\n",
       "    </tr>\n",
       "    <tr>\n",
       "      <th>Indeed</th>\n",
       "      <td>1</td>\n",
       "    </tr>\n",
       "    <tr>\n",
       "      <th>LinkedIn</th>\n",
       "      <td>1</td>\n",
       "    </tr>\n",
       "    <tr>\n",
       "      <th rowspan=\"6\" valign=\"top\">Asian</th>\n",
       "      <th>CareerBuilder</th>\n",
       "      <td>2</td>\n",
       "    </tr>\n",
       "    <tr>\n",
       "      <th>Employee Referral</th>\n",
       "      <td>1</td>\n",
       "    </tr>\n",
       "    <tr>\n",
       "      <th>Google Search</th>\n",
       "      <td>7</td>\n",
       "    </tr>\n",
       "    <tr>\n",
       "      <th>Indeed</th>\n",
       "      <td>10</td>\n",
       "    </tr>\n",
       "    <tr>\n",
       "      <th>LinkedIn</th>\n",
       "      <td>8</td>\n",
       "    </tr>\n",
       "    <tr>\n",
       "      <th>Website</th>\n",
       "      <td>1</td>\n",
       "    </tr>\n",
       "    <tr>\n",
       "      <th rowspan=\"7\" valign=\"top\">Black or African American</th>\n",
       "      <th>CareerBuilder</th>\n",
       "      <td>5</td>\n",
       "    </tr>\n",
       "    <tr>\n",
       "      <th>Diversity Job Fair</th>\n",
       "      <td>29</td>\n",
       "    </tr>\n",
       "    <tr>\n",
       "      <th>Employee Referral</th>\n",
       "      <td>5</td>\n",
       "    </tr>\n",
       "    <tr>\n",
       "      <th>Google Search</th>\n",
       "      <td>4</td>\n",
       "    </tr>\n",
       "    <tr>\n",
       "      <th>Indeed</th>\n",
       "      <td>17</td>\n",
       "    </tr>\n",
       "    <tr>\n",
       "      <th>LinkedIn</th>\n",
       "      <td>16</td>\n",
       "    </tr>\n",
       "    <tr>\n",
       "      <th>Website</th>\n",
       "      <td>4</td>\n",
       "    </tr>\n",
       "    <tr>\n",
       "      <th>Hispanic</th>\n",
       "      <th>Indeed</th>\n",
       "      <td>1</td>\n",
       "    </tr>\n",
       "    <tr>\n",
       "      <th rowspan=\"4\" valign=\"top\">Two or more races</th>\n",
       "      <th>Google Search</th>\n",
       "      <td>2</td>\n",
       "    </tr>\n",
       "    <tr>\n",
       "      <th>Indeed</th>\n",
       "      <td>4</td>\n",
       "    </tr>\n",
       "    <tr>\n",
       "      <th>LinkedIn</th>\n",
       "      <td>4</td>\n",
       "    </tr>\n",
       "    <tr>\n",
       "      <th>Website</th>\n",
       "      <td>1</td>\n",
       "    </tr>\n",
       "    <tr>\n",
       "      <th rowspan=\"8\" valign=\"top\">White</th>\n",
       "      <th>CareerBuilder</th>\n",
       "      <td>16</td>\n",
       "    </tr>\n",
       "    <tr>\n",
       "      <th>Employee Referral</th>\n",
       "      <td>25</td>\n",
       "    </tr>\n",
       "    <tr>\n",
       "      <th>Google Search</th>\n",
       "      <td>35</td>\n",
       "    </tr>\n",
       "    <tr>\n",
       "      <th>Indeed</th>\n",
       "      <td>54</td>\n",
       "    </tr>\n",
       "    <tr>\n",
       "      <th>LinkedIn</th>\n",
       "      <td>47</td>\n",
       "    </tr>\n",
       "    <tr>\n",
       "      <th>On-line Web application</th>\n",
       "      <td>1</td>\n",
       "    </tr>\n",
       "    <tr>\n",
       "      <th>Other</th>\n",
       "      <td>2</td>\n",
       "    </tr>\n",
       "    <tr>\n",
       "      <th>Website</th>\n",
       "      <td>7</td>\n",
       "    </tr>\n",
       "  </tbody>\n",
       "</table>\n",
       "</div>"
      ],
      "text/plain": [
       "                                                          RecruitmentSource\n",
       "RaceDesc                         RecruitmentSource                         \n",
       "American Indian or Alaska Native Google Search                            1\n",
       "                                 Indeed                                   1\n",
       "                                 LinkedIn                                 1\n",
       "Asian                            CareerBuilder                            2\n",
       "                                 Employee Referral                        1\n",
       "                                 Google Search                            7\n",
       "                                 Indeed                                  10\n",
       "                                 LinkedIn                                 8\n",
       "                                 Website                                  1\n",
       "Black or African American        CareerBuilder                            5\n",
       "                                 Diversity Job Fair                      29\n",
       "                                 Employee Referral                        5\n",
       "                                 Google Search                            4\n",
       "                                 Indeed                                  17\n",
       "                                 LinkedIn                                16\n",
       "                                 Website                                  4\n",
       "Hispanic                         Indeed                                   1\n",
       "Two or more races                Google Search                            2\n",
       "                                 Indeed                                   4\n",
       "                                 LinkedIn                                 4\n",
       "                                 Website                                  1\n",
       "White                            CareerBuilder                           16\n",
       "                                 Employee Referral                       25\n",
       "                                 Google Search                           35\n",
       "                                 Indeed                                  54\n",
       "                                 LinkedIn                                47\n",
       "                                 On-line Web application                  1\n",
       "                                 Other                                    2\n",
       "                                 Website                                  7"
      ]
     },
     "execution_count": 26,
     "metadata": {},
     "output_type": "execute_result"
    }
   ],
   "source": [
    "# Verificando qual será a fonte de recrutamento mais diversificada\n",
    "\n",
    "fonte_rec = df1.groupby(by=['RaceDesc', 'RecruitmentSource'\n",
    "                            ])['RecruitmentSource'].count().to_frame()\n",
    "fonte_rec"
   ]
  },
  {
   "cell_type": "code",
   "execution_count": 60,
   "metadata": {
    "ExecuteTime": {
     "end_time": "2021-04-06T21:47:35.281191Z",
     "start_time": "2021-04-06T21:47:30.961503Z"
    },
    "hide_input": true,
    "id": "vUdfCdZBNQk1"
   },
   "outputs": [
    {
     "data": {
      "image/png": "[encoded data removed]",
      "text/plain": [
       "<Figure size 1440x576 with 1 Axes>"
      ]
     },
     "metadata": {
      "needs_background": "light"
     },
     "output_type": "display_data"
    }
   ],
   "source": [
    "# Verificando as fontes de recrutamento e suas relações com contratações diversificadas visualmente\n",
    "plt.figure(figsize=(20, 8))\n",
    "ax = sns.countplot(df1['RecruitmentSource'], hue='RaceDesc', data=df1)\n",
    "ax.legend(loc=1)\n",
    "ax.set_title('Fontes de recrutamento por raça e descendência', size=20);"
   ]
  },
  {
   "cell_type": "markdown",
   "metadata": {
    "id": "FUyPaoXWNQk3"
   },
   "source": [
    "# **Resposta P1**\n",
    "▪**1° - INDEED**\n",
    " \n",
    "▪**2° - LINKEDIN**\n",
    " \n",
    "▪**3° - GOOGLE SEARCH**"
   ]
  },
  {
   "cell_type": "markdown",
   "metadata": {
    "id": "Rp1viSAdNQk4"
   },
   "source": [
    "# **P2 - Existe relação entre a área que a pessoa trabalha e sua pontuação de desempenho?**"
   ]
  },
  {
   "cell_type": "code",
   "execution_count": 28,
   "metadata": {
    "ExecuteTime": {
     "end_time": "2021-04-06T21:37:44.488162Z",
     "start_time": "2021-04-06T21:37:44.303122Z"
    },
    "hide_input": true,
    "id": "LuTMj8J1NQk5",
    "scrolled": false
   },
   "outputs": [
    {
     "data": {
      "text/html": [
       "<div>\n",
       "<style scoped>\n",
       "    .dataframe tbody tr th:only-of-type {\n",
       "        vertical-align: middle;\n",
       "    }\n",
       "\n",
       "    .dataframe tbody tr th {\n",
       "        vertical-align: top;\n",
       "    }\n",
       "\n",
       "    .dataframe thead th {\n",
       "        text-align: right;\n",
       "    }\n",
       "</style>\n",
       "<table border=\"1\" class=\"dataframe\">\n",
       "  <thead>\n",
       "    <tr style=\"text-align: right;\">\n",
       "      <th></th>\n",
       "      <th>PerformanceScore</th>\n",
       "    </tr>\n",
       "    <tr>\n",
       "      <th>Position</th>\n",
       "      <th></th>\n",
       "    </tr>\n",
       "  </thead>\n",
       "  <tbody>\n",
       "    <tr>\n",
       "      <th>Accountant I</th>\n",
       "      <td>Fully Meets</td>\n",
       "    </tr>\n",
       "    <tr>\n",
       "      <th>Administrative Assistant</th>\n",
       "      <td>Fully Meets</td>\n",
       "    </tr>\n",
       "    <tr>\n",
       "      <th>Area Sales Manager</th>\n",
       "      <td>PIP</td>\n",
       "    </tr>\n",
       "    <tr>\n",
       "      <th>BI Developer</th>\n",
       "      <td>Fully Meets</td>\n",
       "    </tr>\n",
       "    <tr>\n",
       "      <th>BI Director</th>\n",
       "      <td>Fully Meets</td>\n",
       "    </tr>\n",
       "    <tr>\n",
       "      <th>CIO</th>\n",
       "      <td>Exceeds</td>\n",
       "    </tr>\n",
       "    <tr>\n",
       "      <th>Data Analyst</th>\n",
       "      <td>Fully Meets</td>\n",
       "    </tr>\n",
       "    <tr>\n",
       "      <th>Data Analyst</th>\n",
       "      <td>Fully Meets</td>\n",
       "    </tr>\n",
       "    <tr>\n",
       "      <th>Data Architect</th>\n",
       "      <td>Fully Meets</td>\n",
       "    </tr>\n",
       "    <tr>\n",
       "      <th>Database Administrator</th>\n",
       "      <td>Fully Meets</td>\n",
       "    </tr>\n",
       "    <tr>\n",
       "      <th>Director of Operations</th>\n",
       "      <td>Exceeds</td>\n",
       "    </tr>\n",
       "    <tr>\n",
       "      <th>Director of Sales</th>\n",
       "      <td>Fully Meets</td>\n",
       "    </tr>\n",
       "    <tr>\n",
       "      <th>Enterprise Architect</th>\n",
       "      <td>Fully Meets</td>\n",
       "    </tr>\n",
       "    <tr>\n",
       "      <th>IT Director</th>\n",
       "      <td>Exceeds</td>\n",
       "    </tr>\n",
       "    <tr>\n",
       "      <th>IT Manager - DB</th>\n",
       "      <td>Fully Meets</td>\n",
       "    </tr>\n",
       "    <tr>\n",
       "      <th>IT Manager - Infra</th>\n",
       "      <td>Needs Improvement</td>\n",
       "    </tr>\n",
       "    <tr>\n",
       "      <th>IT Manager - Support</th>\n",
       "      <td>Exceeds</td>\n",
       "    </tr>\n",
       "    <tr>\n",
       "      <th>IT Support</th>\n",
       "      <td>Fully Meets</td>\n",
       "    </tr>\n",
       "    <tr>\n",
       "      <th>Network Engineer</th>\n",
       "      <td>PIP</td>\n",
       "    </tr>\n",
       "    <tr>\n",
       "      <th>President &amp; CEO</th>\n",
       "      <td>Fully Meets</td>\n",
       "    </tr>\n",
       "    <tr>\n",
       "      <th>Principal Data Architect</th>\n",
       "      <td>Fully Meets</td>\n",
       "    </tr>\n",
       "    <tr>\n",
       "      <th>Production Manager</th>\n",
       "      <td>Needs Improvement</td>\n",
       "    </tr>\n",
       "    <tr>\n",
       "      <th>Production Technician I</th>\n",
       "      <td>PIP</td>\n",
       "    </tr>\n",
       "    <tr>\n",
       "      <th>Production Technician II</th>\n",
       "      <td>PIP</td>\n",
       "    </tr>\n",
       "    <tr>\n",
       "      <th>Sales Manager</th>\n",
       "      <td>Needs Improvement</td>\n",
       "    </tr>\n",
       "    <tr>\n",
       "      <th>Senior BI Developer</th>\n",
       "      <td>Fully Meets</td>\n",
       "    </tr>\n",
       "    <tr>\n",
       "      <th>Shared Services Manager</th>\n",
       "      <td>Fully Meets</td>\n",
       "    </tr>\n",
       "    <tr>\n",
       "      <th>Software Engineer</th>\n",
       "      <td>Needs Improvement</td>\n",
       "    </tr>\n",
       "    <tr>\n",
       "      <th>Software Engineering Manager</th>\n",
       "      <td>Fully Meets</td>\n",
       "    </tr>\n",
       "    <tr>\n",
       "      <th>Sr. Accountant</th>\n",
       "      <td>Fully Meets</td>\n",
       "    </tr>\n",
       "    <tr>\n",
       "      <th>Sr. DBA</th>\n",
       "      <td>Fully Meets</td>\n",
       "    </tr>\n",
       "    <tr>\n",
       "      <th>Sr. Network Engineer</th>\n",
       "      <td>Fully Meets</td>\n",
       "    </tr>\n",
       "  </tbody>\n",
       "</table>\n",
       "</div>"
      ],
      "text/plain": [
       "                               PerformanceScore\n",
       "Position                                       \n",
       "Accountant I                        Fully Meets\n",
       "Administrative Assistant            Fully Meets\n",
       "Area Sales Manager                          PIP\n",
       "BI Developer                        Fully Meets\n",
       "BI Director                         Fully Meets\n",
       "CIO                                     Exceeds\n",
       "Data Analyst                        Fully Meets\n",
       "Data Analyst                        Fully Meets\n",
       "Data Architect                      Fully Meets\n",
       "Database Administrator              Fully Meets\n",
       "Director of Operations                  Exceeds\n",
       "Director of Sales                   Fully Meets\n",
       "Enterprise Architect                Fully Meets\n",
       "IT Director                             Exceeds\n",
       "IT Manager - DB                     Fully Meets\n",
       "IT Manager - Infra            Needs Improvement\n",
       "IT Manager - Support                    Exceeds\n",
       "IT Support                          Fully Meets\n",
       "Network Engineer                            PIP\n",
       "President & CEO                     Fully Meets\n",
       "Principal Data Architect            Fully Meets\n",
       "Production Manager            Needs Improvement\n",
       "Production Technician I                     PIP\n",
       "Production Technician II                    PIP\n",
       "Sales Manager                 Needs Improvement\n",
       "Senior BI Developer                 Fully Meets\n",
       "Shared Services Manager             Fully Meets\n",
       "Software Engineer             Needs Improvement\n",
       "Software Engineering Manager        Fully Meets\n",
       "Sr. Accountant                      Fully Meets\n",
       "Sr. DBA                             Fully Meets\n",
       "Sr. Network Engineer                Fully Meets"
      ]
     },
     "execution_count": 28,
     "metadata": {},
     "output_type": "execute_result"
    }
   ],
   "source": [
    "relacao_peform = df1.groupby(\n",
    "    by=['Position'])['PerformanceScore'].max().to_frame()\n",
    "relacao_peform"
   ]
  },
  {
   "cell_type": "code",
   "execution_count": 29,
   "metadata": {
    "ExecuteTime": {
     "end_time": "2021-04-06T21:37:51.731240Z",
     "start_time": "2021-04-06T21:37:44.515015Z"
    },
    "deletable": false,
    "editable": false,
    "hide_input": true,
    "id": "tOpFOFlyNQk6",
    "run_control": {
     "frozen": true
    },
    "scrolled": false
   },
   "outputs": [
    {
     "data": {
      "text/plain": [
       "Text(0.5, 1.0, 'Pontuações de desempenho por cargo exercido')"
      ]
     },
     "execution_count": 29,
     "metadata": {},
     "output_type": "execute_result"
    },
    {
     "data": {
      "image/png": "[encoded data removed]",
      "text/plain": [
       "<Figure size 3600x1440 with 1 Axes>"
      ]
     },
     "metadata": {
      "needs_background": "light"
     },
     "output_type": "display_data"
    }
   ],
   "source": [
    "# Verificando visualmente as pontuações de desempenho por cargo\n",
    "plt.figure(figsize=(50, 20))\n",
    "ax = sns.countplot(x=df1['Position'], hue='PerformanceScore', data=df1)\n",
    "ax.legend(loc=1, fontsize=30)\n",
    "plt.xticks(rotation=60)\n",
    "ax.set_title('Pontuações de desempenho por cargo exercido', size=30)"
   ]
  },
  {
   "cell_type": "markdown",
   "metadata": {
    "id": "8qtqEJh3NQk8"
   },
   "source": [
    "# **Reposta P2** \n",
    "▪**Sim existe relações entre o cargo que a pessoa trabalha e sua pontuação de desempenho.** \n",
    " \n",
    "▪**Os cargos de técnico de produção I contêm em sua grande maioria a pontuação de \"atende totalmente\".**\n",
    " \n",
    "▪**O gestor de TI e infraestrutura está com pontuação \"precisando melhorar\".**\n",
    " \n",
    "▪**O CIO tem a pontuação \"Exepicional\" superando a pontuação \"atende totalmente\" do Presidente e CEO da empresa, isto é uma informação interessante.**"
   ]
  },
  {
   "cell_type": "markdown",
   "metadata": {
    "id": "pVJ-UMYtNQk-"
   },
   "source": [
    "# **P3 - Qual é o perfil geral de diversidade da organização?**"
   ]
  },
  {
   "cell_type": "code",
   "execution_count": 30,
   "metadata": {
    "ExecuteTime": {
     "end_time": "2021-04-06T21:37:51.786638Z",
     "start_time": "2021-04-06T21:37:51.746463Z"
    },
    "hide_input": true,
    "id": "BjRI7p4nNQk_",
    "scrolled": true
   },
   "outputs": [
    {
     "data": {
      "text/plain": [
       "White                               187\n",
       "Black or African American            80\n",
       "Asian                                29\n",
       "Two or more races                    11\n",
       "American Indian or Alaska Native      3\n",
       "Hispanic                              1\n",
       "Name: RaceDesc, dtype: int64"
      ]
     },
     "execution_count": 30,
     "metadata": {},
     "output_type": "execute_result"
    }
   ],
   "source": [
    "# Irei calcular todos os perfis de diversidade por funcionários da empresa \n",
    "df1['RaceDesc'].value_counts()"
   ]
  },
  {
   "cell_type": "code",
   "execution_count": 61,
   "metadata": {
    "ExecuteTime": {
     "end_time": "2021-04-06T21:56:17.835658Z",
     "start_time": "2021-04-06T21:56:16.038258Z"
    },
    "hide_input": true,
    "id": "vP4yljyENQlB"
   },
   "outputs": [
    {
     "data": {
      "image/png": "[encoded data removed]",
      "text/plain": [
       "<Figure size 432x288 with 1 Axes>"
      ]
     },
     "metadata": {
      "needs_background": "light"
     },
     "output_type": "display_data"
    }
   ],
   "source": [
    "# Utilizarei o Gráfico de barras para visualizar a diferença no número de diversidade\n",
    "df1['RaceDesc'].value_counts()\\\n",
    "               .plot(kind='barh',color = 'c',\n",
    "                title = 'Raças e descendências por funcionários');"
   ]
  },
  {
   "cell_type": "markdown",
   "metadata": {
    "id": "Uz2vcinONQlD"
   },
   "source": [
    "# **Resposta P3**\n",
    "\n",
    "**É perceptível que funcionários de cor branca predominam na empresa sendo o perfil de diversidade mais frequente.**"
   ]
  },
  {
   "cell_type": "markdown",
   "metadata": {
    "id": "eIYBz31ANQlH"
   },
   "source": [
    "# **P4 - Existe área da empresa em que a remuneração não é justa?**"
   ]
  },
  {
   "cell_type": "code",
   "execution_count": 32,
   "metadata": {
    "ExecuteTime": {
     "end_time": "2021-04-06T21:37:53.606136Z",
     "start_time": "2021-04-06T21:37:53.414549Z"
    },
    "hide_input": true,
    "id": "dkh66ywsNQlJ"
   },
   "outputs": [
    {
     "data": {
      "text/html": [
       "<div>\n",
       "<style scoped>\n",
       "    .dataframe tbody tr th:only-of-type {\n",
       "        vertical-align: middle;\n",
       "    }\n",
       "\n",
       "    .dataframe tbody tr th {\n",
       "        vertical-align: top;\n",
       "    }\n",
       "\n",
       "    .dataframe thead th {\n",
       "        text-align: right;\n",
       "    }\n",
       "</style>\n",
       "<table border=\"1\" class=\"dataframe\">\n",
       "  <thead>\n",
       "    <tr style=\"text-align: right;\">\n",
       "      <th></th>\n",
       "      <th>Position</th>\n",
       "      <th>Sex</th>\n",
       "      <th>Salary</th>\n",
       "    </tr>\n",
       "  </thead>\n",
       "  <tbody>\n",
       "    <tr>\n",
       "      <th>0</th>\n",
       "      <td>Accountant I</td>\n",
       "      <td>F</td>\n",
       "      <td>63000</td>\n",
       "    </tr>\n",
       "    <tr>\n",
       "      <th>1</th>\n",
       "      <td>Accountant I</td>\n",
       "      <td>M</td>\n",
       "      <td>64520</td>\n",
       "    </tr>\n",
       "    <tr>\n",
       "      <th>2</th>\n",
       "      <td>Administrative Assistant</td>\n",
       "      <td>F</td>\n",
       "      <td>55000</td>\n",
       "    </tr>\n",
       "    <tr>\n",
       "      <th>3</th>\n",
       "      <td>Area Sales Manager</td>\n",
       "      <td>F</td>\n",
       "      <td>74326</td>\n",
       "    </tr>\n",
       "    <tr>\n",
       "      <th>4</th>\n",
       "      <td>Area Sales Manager</td>\n",
       "      <td>M</td>\n",
       "      <td>71707</td>\n",
       "    </tr>\n",
       "    <tr>\n",
       "      <th>5</th>\n",
       "      <td>BI Developer</td>\n",
       "      <td>F</td>\n",
       "      <td>95920</td>\n",
       "    </tr>\n",
       "    <tr>\n",
       "      <th>6</th>\n",
       "      <td>BI Developer</td>\n",
       "      <td>M</td>\n",
       "      <td>99020</td>\n",
       "    </tr>\n",
       "    <tr>\n",
       "      <th>7</th>\n",
       "      <td>BI Director</td>\n",
       "      <td>M</td>\n",
       "      <td>110929</td>\n",
       "    </tr>\n",
       "    <tr>\n",
       "      <th>8</th>\n",
       "      <td>CIO</td>\n",
       "      <td>F</td>\n",
       "      <td>220450</td>\n",
       "    </tr>\n",
       "    <tr>\n",
       "      <th>9</th>\n",
       "      <td>Data Analyst</td>\n",
       "      <td>F</td>\n",
       "      <td>93554</td>\n",
       "    </tr>\n",
       "    <tr>\n",
       "      <th>10</th>\n",
       "      <td>Data Analyst</td>\n",
       "      <td>M</td>\n",
       "      <td>93093</td>\n",
       "    </tr>\n",
       "    <tr>\n",
       "      <th>11</th>\n",
       "      <td>Data Analyst</td>\n",
       "      <td>M</td>\n",
       "      <td>88527</td>\n",
       "    </tr>\n",
       "    <tr>\n",
       "      <th>12</th>\n",
       "      <td>Data Architect</td>\n",
       "      <td>F</td>\n",
       "      <td>150290</td>\n",
       "    </tr>\n",
       "    <tr>\n",
       "      <th>13</th>\n",
       "      <td>Database Administrator</td>\n",
       "      <td>F</td>\n",
       "      <td>114800</td>\n",
       "    </tr>\n",
       "    <tr>\n",
       "      <th>14</th>\n",
       "      <td>Database Administrator</td>\n",
       "      <td>M</td>\n",
       "      <td>113999</td>\n",
       "    </tr>\n",
       "    <tr>\n",
       "      <th>15</th>\n",
       "      <td>Director of Operations</td>\n",
       "      <td>M</td>\n",
       "      <td>170500</td>\n",
       "    </tr>\n",
       "    <tr>\n",
       "      <th>16</th>\n",
       "      <td>Director of Sales</td>\n",
       "      <td>F</td>\n",
       "      <td>180000</td>\n",
       "    </tr>\n",
       "    <tr>\n",
       "      <th>17</th>\n",
       "      <td>Enterprise Architect</td>\n",
       "      <td>M</td>\n",
       "      <td>103613</td>\n",
       "    </tr>\n",
       "    <tr>\n",
       "      <th>18</th>\n",
       "      <td>IT Director</td>\n",
       "      <td>M</td>\n",
       "      <td>178000</td>\n",
       "    </tr>\n",
       "    <tr>\n",
       "      <th>19</th>\n",
       "      <td>IT Manager - DB</td>\n",
       "      <td>M</td>\n",
       "      <td>148999</td>\n",
       "    </tr>\n",
       "    <tr>\n",
       "      <th>20</th>\n",
       "      <td>IT Manager - Infra</td>\n",
       "      <td>M</td>\n",
       "      <td>157000</td>\n",
       "    </tr>\n",
       "    <tr>\n",
       "      <th>21</th>\n",
       "      <td>IT Manager - Support</td>\n",
       "      <td>M</td>\n",
       "      <td>138888</td>\n",
       "    </tr>\n",
       "    <tr>\n",
       "      <th>22</th>\n",
       "      <td>IT Support</td>\n",
       "      <td>F</td>\n",
       "      <td>70621</td>\n",
       "    </tr>\n",
       "    <tr>\n",
       "      <th>23</th>\n",
       "      <td>IT Support</td>\n",
       "      <td>M</td>\n",
       "      <td>74679</td>\n",
       "    </tr>\n",
       "    <tr>\n",
       "      <th>24</th>\n",
       "      <td>Network Engineer</td>\n",
       "      <td>F</td>\n",
       "      <td>52599</td>\n",
       "    </tr>\n",
       "    <tr>\n",
       "      <th>25</th>\n",
       "      <td>Network Engineer</td>\n",
       "      <td>M</td>\n",
       "      <td>76029</td>\n",
       "    </tr>\n",
       "    <tr>\n",
       "      <th>26</th>\n",
       "      <td>President &amp; CEO</td>\n",
       "      <td>F</td>\n",
       "      <td>250000</td>\n",
       "    </tr>\n",
       "    <tr>\n",
       "      <th>27</th>\n",
       "      <td>Principal Data Architect</td>\n",
       "      <td>F</td>\n",
       "      <td>120000</td>\n",
       "    </tr>\n",
       "    <tr>\n",
       "      <th>28</th>\n",
       "      <td>Production Manager</td>\n",
       "      <td>F</td>\n",
       "      <td>80512</td>\n",
       "    </tr>\n",
       "    <tr>\n",
       "      <th>29</th>\n",
       "      <td>Production Manager</td>\n",
       "      <td>M</td>\n",
       "      <td>88976</td>\n",
       "    </tr>\n",
       "    <tr>\n",
       "      <th>30</th>\n",
       "      <td>Production Technician I</td>\n",
       "      <td>F</td>\n",
       "      <td>64991</td>\n",
       "    </tr>\n",
       "    <tr>\n",
       "      <th>31</th>\n",
       "      <td>Production Technician I</td>\n",
       "      <td>M</td>\n",
       "      <td>64738</td>\n",
       "    </tr>\n",
       "    <tr>\n",
       "      <th>32</th>\n",
       "      <td>Production Technician II</td>\n",
       "      <td>F</td>\n",
       "      <td>74813</td>\n",
       "    </tr>\n",
       "    <tr>\n",
       "      <th>33</th>\n",
       "      <td>Production Technician II</td>\n",
       "      <td>M</td>\n",
       "      <td>74417</td>\n",
       "    </tr>\n",
       "    <tr>\n",
       "      <th>34</th>\n",
       "      <td>Sales Manager</td>\n",
       "      <td>F</td>\n",
       "      <td>68999</td>\n",
       "    </tr>\n",
       "    <tr>\n",
       "      <th>35</th>\n",
       "      <td>Sales Manager</td>\n",
       "      <td>M</td>\n",
       "      <td>72992</td>\n",
       "    </tr>\n",
       "    <tr>\n",
       "      <th>36</th>\n",
       "      <td>Senior BI Developer</td>\n",
       "      <td>F</td>\n",
       "      <td>81584</td>\n",
       "    </tr>\n",
       "    <tr>\n",
       "      <th>37</th>\n",
       "      <td>Senior BI Developer</td>\n",
       "      <td>M</td>\n",
       "      <td>87921</td>\n",
       "    </tr>\n",
       "    <tr>\n",
       "      <th>38</th>\n",
       "      <td>Shared Services Manager</td>\n",
       "      <td>M</td>\n",
       "      <td>93046</td>\n",
       "    </tr>\n",
       "    <tr>\n",
       "      <th>39</th>\n",
       "      <td>Software Engineer</td>\n",
       "      <td>F</td>\n",
       "      <td>105688</td>\n",
       "    </tr>\n",
       "    <tr>\n",
       "      <th>40</th>\n",
       "      <td>Software Engineer</td>\n",
       "      <td>M</td>\n",
       "      <td>108987</td>\n",
       "    </tr>\n",
       "    <tr>\n",
       "      <th>41</th>\n",
       "      <td>Software Engineering Manager</td>\n",
       "      <td>M</td>\n",
       "      <td>77692</td>\n",
       "    </tr>\n",
       "    <tr>\n",
       "      <th>42</th>\n",
       "      <td>Sr. Accountant</td>\n",
       "      <td>F</td>\n",
       "      <td>106367</td>\n",
       "    </tr>\n",
       "    <tr>\n",
       "      <th>43</th>\n",
       "      <td>Sr. DBA</td>\n",
       "      <td>F</td>\n",
       "      <td>100031</td>\n",
       "    </tr>\n",
       "    <tr>\n",
       "      <th>44</th>\n",
       "      <td>Sr. DBA</td>\n",
       "      <td>M</td>\n",
       "      <td>104437</td>\n",
       "    </tr>\n",
       "    <tr>\n",
       "      <th>45</th>\n",
       "      <td>Sr. Network Engineer</td>\n",
       "      <td>F</td>\n",
       "      <td>107226</td>\n",
       "    </tr>\n",
       "    <tr>\n",
       "      <th>46</th>\n",
       "      <td>Sr. Network Engineer</td>\n",
       "      <td>M</td>\n",
       "      <td>93206</td>\n",
       "    </tr>\n",
       "  </tbody>\n",
       "</table>\n",
       "</div>"
      ],
      "text/plain": [
       "                        Position Sex  Salary\n",
       "0                   Accountant I   F   63000\n",
       "1                   Accountant I  M    64520\n",
       "2       Administrative Assistant   F   55000\n",
       "3             Area Sales Manager   F   74326\n",
       "4             Area Sales Manager  M    71707\n",
       "5                   BI Developer   F   95920\n",
       "6                   BI Developer  M    99020\n",
       "7                    BI Director  M   110929\n",
       "8                            CIO   F  220450\n",
       "9                   Data Analyst   F   93554\n",
       "10                  Data Analyst  M    93093\n",
       "11                 Data Analyst   M    88527\n",
       "12                Data Architect   F  150290\n",
       "13        Database Administrator   F  114800\n",
       "14        Database Administrator  M   113999\n",
       "15        Director of Operations  M   170500\n",
       "16             Director of Sales   F  180000\n",
       "17          Enterprise Architect  M   103613\n",
       "18                   IT Director  M   178000\n",
       "19               IT Manager - DB  M   148999\n",
       "20            IT Manager - Infra  M   157000\n",
       "21          IT Manager - Support  M   138888\n",
       "22                    IT Support   F   70621\n",
       "23                    IT Support  M    74679\n",
       "24              Network Engineer   F   52599\n",
       "25              Network Engineer  M    76029\n",
       "26               President & CEO   F  250000\n",
       "27      Principal Data Architect   F  120000\n",
       "28            Production Manager   F   80512\n",
       "29            Production Manager  M    88976\n",
       "30       Production Technician I   F   64991\n",
       "31       Production Technician I  M    64738\n",
       "32      Production Technician II   F   74813\n",
       "33      Production Technician II  M    74417\n",
       "34                 Sales Manager   F   68999\n",
       "35                 Sales Manager  M    72992\n",
       "36           Senior BI Developer   F   81584\n",
       "37           Senior BI Developer  M    87921\n",
       "38       Shared Services Manager  M    93046\n",
       "39             Software Engineer   F  105688\n",
       "40             Software Engineer  M   108987\n",
       "41  Software Engineering Manager  M    77692\n",
       "42                Sr. Accountant   F  106367\n",
       "43                       Sr. DBA   F  100031\n",
       "44                       Sr. DBA  M   104437\n",
       "45          Sr. Network Engineer   F  107226\n",
       "46          Sr. Network Engineer  M    93206"
      ]
     },
     "execution_count": 32,
     "metadata": {},
     "output_type": "execute_result"
    }
   ],
   "source": [
    "# Irei agrupar o cargo e o sexo pelo salário para identificar se em determinados empregos iguais homens e mulheres recebem o mesmo salário ou diferentes\n",
    "# Irei utilizar como base o valor máximo obtido pela classe, pois se somar sairá uma informação enviesada pois possa haver mais sexos predominantes em determinado cargo e isso alteraria minha conclusão\n",
    "remunera = df1.groupby(['Position',\n",
    "                        'Sex'])['Salary'].max().to_frame().reset_index()\n",
    "remunera"
   ]
  },
  {
   "cell_type": "code",
   "execution_count": 33,
   "metadata": {
    "ExecuteTime": {
     "end_time": "2021-04-06T21:38:49.508060Z",
     "start_time": "2021-04-06T21:37:53.619775Z"
    },
    "hide_input": true,
    "id": "UhX0n_ron0nu",
    "scrolled": true
   },
   "outputs": [
    {
     "data": {
      "image/png": "[encoded data removed]",
      "text/plain": [
       "<Figure size 5760x2160 with 32 Axes>"
      ]
     },
     "metadata": {
      "needs_background": "light"
     },
     "output_type": "display_data"
    }
   ],
   "source": [
    "# Criando um gráfico agrupado para comparar o salário máximo obtido por cada sexo em determinado cargo\n",
    "\n",
    "f = sns.factorplot(x='Sex',\n",
    "                   y='Salary',\n",
    "                   hue='Sex',\n",
    "                   col='Position',\n",
    "                   data=remunera,\n",
    "                   kind='bar',\n",
    "                   palette=\"RdBu\",\n",
    "                   height=5,\n",
    "                   size=4,\n",
    "                   aspect=1)\n",
    "\n",
    "f.fig.set_size_inches(80, 30)"
   ]
  },
  {
   "cell_type": "code",
   "execution_count": 34,
   "metadata": {
    "ExecuteTime": {
     "end_time": "2021-04-06T21:38:59.268706Z",
     "start_time": "2021-04-06T21:38:49.526827Z"
    },
    "hide_input": true,
    "id": "beftzLa75qG6"
   },
   "outputs": [
    {
     "data": {
      "image/png": "[encoded data removed]",
      "text/plain": [
       "<Figure size 720x576 with 1 Axes>"
      ]
     },
     "metadata": {
      "needs_background": "light"
     },
     "output_type": "display_data"
    }
   ],
   "source": [
    "# Distribuições entre salários e cargos agrupados por sexo em gráfico de caixa\n",
    "plt.figure(figsize=(10, 8))\n",
    "sns.boxplot(y=df1['Position'], x=df1['Salary'], hue=df1['Sex'], data=df1);"
   ]
  },
  {
   "cell_type": "markdown",
   "metadata": {
    "id": "kjfIChNE9w3U"
   },
   "source": [
    "# **Resposta P4**\n",
    "▪**Engenheiro de rede**\n",
    " \n",
    "▪**Gestor de produto**\n",
    " \n",
    "▪**Desenvolvedor de BI sênior**\n",
    " \n",
    "▪**Engenheiro de rede sênior**\n",
    " \n",
    "▪**Administrador de banco de dados**\n",
    " \n",
    "▪**Gestor de vendas**\n",
    " \n",
    "▪**Gestor de TI banco de dados**\n",
    " \n",
    "**Ambos cargos apresentados os salários são variados de acordo ao sexo, e não trazem igualdade e justiça segundo os dados.**"
   ]
  },
  {
   "cell_type": "markdown",
   "metadata": {
    "id": "O8slloZn9kY9"
   },
   "source": [
    "# **P5 - Qual departamento menos ocorre evasão dos funcionários?**"
   ]
  },
  {
   "cell_type": "code",
   "execution_count": 35,
   "metadata": {
    "ExecuteTime": {
     "end_time": "2021-04-06T21:38:59.319896Z",
     "start_time": "2021-04-06T21:38:59.283882Z"
    },
    "hide_input": true,
    "id": "v_NSDtCX9ovr"
   },
   "outputs": [],
   "source": [
    "# Vou criar um filtro para selecionar apenas os dados contendo funcionários que rescindiram o contrato\n",
    "turnover = df1.loc[df1['EmploymentStatus'] == 'Terminated for Cause']"
   ]
  },
  {
   "cell_type": "code",
   "execution_count": 36,
   "metadata": {
    "ExecuteTime": {
     "end_time": "2021-04-06T21:38:59.376641Z",
     "start_time": "2021-04-06T21:38:59.337867Z"
    },
    "hide_input": true,
    "id": "Vfd440KHSivX",
    "scrolled": true
   },
   "outputs": [
    {
     "data": {
      "text/plain": [
       "Production              8\n",
       "IT/IS                   4\n",
       "Sales                   2\n",
       "Software Engineering    1\n",
       "Admin Offices           1\n",
       "Name: Department, dtype: int64"
      ]
     },
     "execution_count": 36,
     "metadata": {},
     "output_type": "execute_result"
    }
   ],
   "source": [
    "# Agora calculo os números de funcionários que foram desligados por departamentos\n",
    "turnover['Department'].value_counts ()"
   ]
  },
  {
   "cell_type": "markdown",
   "metadata": {
    "id": "V30cBuySTdRi"
   },
   "source": [
    "# **Resposta P5** \n",
    "\n",
    "▪**O departamento que menos ocorre evasão de funcionários são o de Engenharia de software e o de Administração de escritório**"
   ]
  },
  {
   "cell_type": "markdown",
   "metadata": {
    "id": "JhBIarpkU87D"
   },
   "source": [
    "# **Hipótese_01 - 80% dos funcionários que rescindem o contrato são mulheres!**"
   ]
  },
  {
   "cell_type": "code",
   "execution_count": 37,
   "metadata": {
    "ExecuteTime": {
     "end_time": "2021-04-06T21:38:59.476710Z",
     "start_time": "2021-04-06T21:38:59.389614Z"
    },
    "hide_input": true,
    "id": "2v_ooresVBqv",
    "scrolled": true
   },
   "outputs": [
    {
     "data": {
      "text/plain": [
       "F     0.5625\n",
       "M     0.4375\n",
       "Name: Sex, dtype: float64"
      ]
     },
     "execution_count": 37,
     "metadata": {},
     "output_type": "execute_result"
    }
   ],
   "source": [
    "# Aqui eu faço um filtro apenas dos funcionários que rescindiram o contrato\n",
    "H01 = df1.loc[df1['EmploymentStatus'] == 'Terminated for Cause']\n",
    "\n",
    "# Aqui aplico uma contagem agrupada dos sexos pelos funcionários rescindidos que me retorna o valor em porcentagem\n",
    "H01['Sex'].value_counts(normalize=True)"
   ]
  },
  {
   "cell_type": "markdown",
   "metadata": {},
   "source": [
    "# **Resposta H01**\n",
    "▪**Não, 56.25%, dos funcionários que rescindem o contrato são mulheres.**"
   ]
  },
  {
   "cell_type": "markdown",
   "metadata": {},
   "source": [
    "# **Hipótese_02 - 90% dos 10 maiores salários pertencem a pessoas do sexo masculino!**"
   ]
  },
  {
   "cell_type": "code",
   "execution_count": 38,
   "metadata": {
    "ExecuteTime": {
     "end_time": "2021-04-06T21:38:59.538183Z",
     "start_time": "2021-04-06T21:38:59.492315Z"
    },
    "hide_input": true
   },
   "outputs": [
    {
     "data": {
      "text/plain": [
       "150    250000\n",
       "308    220450\n",
       "131    180000\n",
       "96     178000\n",
       "55     170500\n",
       "190    157000\n",
       "240    150290\n",
       "244    148999\n",
       "243    140920\n",
       "76     138888\n",
       "Name: Salary, dtype: int64"
      ]
     },
     "execution_count": 38,
     "metadata": {},
     "output_type": "execute_result"
    }
   ],
   "source": [
    "# Selecionei os 10 maiores salários da base para usar seus índices e manipular as linhas\n",
    "maiores = df1['Salary'].nlargest(10)\n",
    "maiores"
   ]
  },
  {
   "cell_type": "code",
   "execution_count": 39,
   "metadata": {
    "ExecuteTime": {
     "end_time": "2021-04-06T21:38:59.615938Z",
     "start_time": "2021-04-06T21:38:59.554106Z"
    },
    "hide_input": true
   },
   "outputs": [
    {
     "data": {
      "text/plain": [
       "M     0.6\n",
       "F     0.4\n",
       "Name: Sex, dtype: float64"
      ]
     },
     "execution_count": 39,
     "metadata": {},
     "output_type": "execute_result"
    }
   ],
   "source": [
    "# Aqui selecionei apenas as linhas referentes aos top 10 funcionários com os maiores salários\n",
    "top_10 = df1.iloc[[150, 308, 131, 96, 55, 190, 240, 244, 243, 76]]\n",
    "\n",
    "# Aqui aplico uma contagem agrupada para pegar a porcentagem de cada sexo\n",
    "top_10['Sex'].value_counts(normalize=True)"
   ]
  },
  {
   "cell_type": "markdown",
   "metadata": {},
   "source": [
    "# **Resposta H02**\n",
    "▪**Não, apenas 60% dos 10 maiores salários pertencem a funcionários do sexo masculino.**"
   ]
  },
  {
   "cell_type": "markdown",
   "metadata": {},
   "source": [
    "# **Hipótese_03 - 50% dos que rescindem o contrato são solteiros!**"
   ]
  },
  {
   "cell_type": "code",
   "execution_count": 40,
   "metadata": {
    "ExecuteTime": {
     "end_time": "2021-04-06T21:38:59.685624Z",
     "start_time": "2021-04-06T21:38:59.629085Z"
    },
    "hide_input": true
   },
   "outputs": [
    {
     "data": {
      "text/plain": [
       "Single     0.5000\n",
       "Married    0.4375\n",
       "Widowed    0.0625\n",
       "Name: MaritalDesc, dtype: float64"
      ]
     },
     "execution_count": 40,
     "metadata": {},
     "output_type": "execute_result"
    }
   ],
   "source": [
    "# Filtrei apenas as linhas referentes aos funcionários que rescindiram o contrato\n",
    "solt_termd = df1.loc[df1['EmploymentStatus'] == 'Terminated for Cause']\n",
    "\n",
    "# Agora irei agrupar e rebecer a porcentagem pertencente ao total de rescisões de acordo ao estado civil\n",
    "solt_termd['MaritalDesc'].value_counts(normalize=True)"
   ]
  },
  {
   "cell_type": "markdown",
   "metadata": {},
   "source": [
    "# **Resposta H03**\n",
    "\n",
    "▪**Sim ! 50%, dos funcionários que rescindem o contrato são solteiros.**"
   ]
  },
  {
   "cell_type": "markdown",
   "metadata": {},
   "source": [
    "# **Hipótese_04 - 70% dos 20 maiores salários pertencem a negros!**"
   ]
  },
  {
   "cell_type": "code",
   "execution_count": 41,
   "metadata": {
    "ExecuteTime": {
     "end_time": "2021-04-06T21:38:59.779434Z",
     "start_time": "2021-04-06T21:38:59.700096Z"
    },
    "hide_input": true
   },
   "outputs": [
    {
     "data": {
      "text/plain": [
       "Black or African American    0.45\n",
       "White                        0.40\n",
       "Asian                        0.15\n",
       "Name: RaceDesc, dtype: float64"
      ]
     },
     "execution_count": 41,
     "metadata": {},
     "output_type": "execute_result"
    }
   ],
   "source": [
    "# Filtrei os 20 maiores salários da base agrupando por Raças\n",
    "top_20_raca = df1[['RaceDesc','Salary']].nlargest(20,columns='Salary')\n",
    "\n",
    "# Aplico o cálculo de porcentagem referente a frequência dos salários por Raças \n",
    "top_20_raca['RaceDesc'].value_counts(normalize=True)"
   ]
  },
  {
   "cell_type": "markdown",
   "metadata": {},
   "source": [
    "# **Resposta H04**\n",
    "\n",
    "▪**Não! apenas 45% dos 20 maiores salários pertencem a negros.**"
   ]
  },
  {
   "cell_type": "markdown",
   "metadata": {},
   "source": [
    "# **Hipótese_05 - 30% das pessoas que rescindem o contrato são do departamento de produção!**"
   ]
  },
  {
   "cell_type": "code",
   "execution_count": 42,
   "metadata": {
    "ExecuteTime": {
     "end_time": "2021-04-06T21:38:59.859802Z",
     "start_time": "2021-04-06T21:38:59.793685Z"
    },
    "hide_input": true,
    "scrolled": true
   },
   "outputs": [
    {
     "data": {
      "text/plain": [
       "Production              0.5000\n",
       "IT/IS                   0.2500\n",
       "Sales                   0.1250\n",
       "Software Engineering    0.0625\n",
       "Admin Offices           0.0625\n",
       "Name: Department, dtype: float64"
      ]
     },
     "execution_count": 42,
     "metadata": {},
     "output_type": "execute_result"
    }
   ],
   "source": [
    "# Selecionei apenas as linhas referentes aos funcionários que rescindem o contrato\n",
    "contrato_dept = df1.loc[df1['EmploymentStatus'] == 'Terminated for Cause']\n",
    "\n",
    "# Agora irei aplicar o cálculo de porcentagem referente a frequência de rescisões de contratos por departamentos\n",
    "contrato_dept['Department'].value_counts(normalize=True)"
   ]
  },
  {
   "cell_type": "markdown",
   "metadata": {},
   "source": [
    "# **Resposta H05**\n",
    "\n",
    "▪**Não!, 50% das pessoas que rescindem o contrato são do departamento de produção!**"
   ]
  },
  {
   "cell_type": "markdown",
   "metadata": {},
   "source": [
    "# **Hipótese_06 - O LinkedIn é a melhor fonte de recrutamento!** "
   ]
  },
  {
   "cell_type": "code",
   "execution_count": 43,
   "metadata": {
    "ExecuteTime": {
     "end_time": "2021-04-06T21:38:59.930997Z",
     "start_time": "2021-04-06T21:38:59.874967Z"
    },
    "hide_input": true
   },
   "outputs": [
    {
     "data": {
      "text/plain": [
       "Indeed                12\n",
       "LinkedIn               9\n",
       "Diversity Job Fair     6\n",
       "Employee Referral      5\n",
       "Google Search          2\n",
       "CareerBuilder          2\n",
       "Website                1\n",
       "Name: RecruitmentSource, dtype: int64"
      ]
     },
     "execution_count": 43,
     "metadata": {},
     "output_type": "execute_result"
    }
   ],
   "source": [
    "# Irei filtrar as linhas onde há somente performance de funcionários \"Excelentes\" pois os melhores funcionários recebem este posto\n",
    "fonte_perform = df1.loc[df1['PerformanceScore'] == 'Exceeds']\n",
    "\n",
    "# Aqui aplico uma contagem agrupada das fontes de recrutamento em relação ao número de funcionários exercendo um ótimo trabalho\n",
    "fonte_perform['RecruitmentSource'].value_counts()"
   ]
  },
  {
   "cell_type": "markdown",
   "metadata": {},
   "source": [
    "# **Resposta H06**\n",
    "\n",
    "▪**Não! a melhor fonte de recrutamento é o Indeed, pois é a que contém mais funcionários com performance excelente, no qual são 12.**"
   ]
  },
  {
   "cell_type": "markdown",
   "metadata": {},
   "source": [
    "# **Hipótese_07 - A pontuação de desempenho mais frequente é a opção \"atende totalmente\"!**"
   ]
  },
  {
   "cell_type": "code",
   "execution_count": 44,
   "metadata": {
    "ExecuteTime": {
     "end_time": "2021-04-06T21:38:59.990860Z",
     "start_time": "2021-04-06T21:38:59.946131Z"
    },
    "hide_input": true
   },
   "outputs": [
    {
     "data": {
      "text/plain": [
       "Fully Meets          243\n",
       "Exceeds               37\n",
       "Needs Improvement     18\n",
       "PIP                   13\n",
       "Name: PerformanceScore, dtype: int64"
      ]
     },
     "execution_count": 44,
     "metadata": {},
     "output_type": "execute_result"
    }
   ],
   "source": [
    "# Calcularei a frequência das pontuações de desempenho.\n",
    "df1['PerformanceScore'].value_counts()"
   ]
  },
  {
   "cell_type": "markdown",
   "metadata": {},
   "source": [
    "# **Resposta H07**\n",
    "\n",
    "▪**Sim! a pontuação de desempenho mais frequente é \"atende totalmente\" em exatos 243 registros.**"
   ]
  },
  {
   "cell_type": "markdown",
   "metadata": {},
   "source": [
    "# **Hipótese_08 - 40% das pessoas que rescindem o contrato são \"técnicos de produção 1\"**"
   ]
  },
  {
   "cell_type": "code",
   "execution_count": 45,
   "metadata": {
    "ExecuteTime": {
     "end_time": "2021-04-06T21:39:00.069645Z",
     "start_time": "2021-04-06T21:39:00.006498Z"
    },
    "hide_input": true
   },
   "outputs": [
    {
     "data": {
      "text/plain": [
       "Production Technician I     0.4375\n",
       "Database Administrator      0.1875\n",
       "Area Sales Manager          0.1250\n",
       "Production Manager          0.0625\n",
       "Software Engineer           0.0625\n",
       "Administrative Assistant    0.0625\n",
       "Enterprise Architect        0.0625\n",
       "Name: Position, dtype: float64"
      ]
     },
     "execution_count": 45,
     "metadata": {},
     "output_type": "execute_result"
    }
   ],
   "source": [
    "# Filtrei as linhas referentes aos funcionários que rescindiram o contrato \n",
    "terminado = df1.loc[df1['EmploymentStatus'] == 'Terminated for Cause']\n",
    "\n",
    "# Calculo a frequência dos cargos que pertencem as funcionários desligados e retorna porcentagem \n",
    "terminado['Position'].value_counts(normalize = True)"
   ]
  },
  {
   "cell_type": "markdown",
   "metadata": {},
   "source": [
    "# **Resposta H08**\n",
    "\n",
    "▪**Não! 43.75% dos funcionários que rescindem são do cargo \"técnico de produção 1.**"
   ]
  },
  {
   "cell_type": "markdown",
   "metadata": {},
   "source": [
    "# **Seção curiosidade**"
   ]
  },
  {
   "cell_type": "markdown",
   "metadata": {},
   "source": [
    "## **Alguns indicadores de desempenho são muito importantes para o RH como :**\n",
    "\n",
    "▪**1 - Absenteísmo**: é responsável por medir as ausências dos funcionários a partir de suas faltas justificadas ou não, atrasos e licenças médicas. Seus valores são extraídos de forma semanal, quinzenal ou mensal, de acordo com as necessidades da empresa.\n",
    "\n",
    "▪**2 - Avaliação de aprendizagem**: é responsável por informar quanto o profissional absorveu do conteúdo do que foi aplicado.\n",
    "\n",
    "▪**3 - Clima organizacional**: como está a percepção dos funcionários sobre o bem estar deles e como são tratados, além da satisfação e engajamento.\n",
    "\n",
    "▪**4 - Índice de reclamações trabalhistas**: é responsável por apontar falhas na gestão, conflitos organizacionais e a falta do cumprimento dos direitos do profissional, dados importantes para analisar a idoneidade da organização perante seus funcionários e os órgãos públicos.\n",
    "\n",
    "▪**5 - Índice de retenção de talentos**: é utilizado para diagnosticar a eficiência das estratégias da empresa que estão direcionadas aos funcionários, de acordo com suas competências e resultados.\n",
    "\n",
    "▪**6 - Índice de rotatividade**: é responsável por mostrar a quantidade de profissionais que saem e entram na empresa em um determinado período.\n",
    "\n",
    "▪**7 - Investimento em treinamento**: detectar se os investimentos estão produzindo resultados, medindo a eficácia e desempenho dos colaboradores.\n",
    "\n",
    "▪**8 - Produtividade**: Com esse indicador, você pode entender como otimizar e melhorar a produção da empresa, entender processos internos e influenciar no tempo e qualidade de entregas.\n",
    "\n",
    "▪**9 - Promoções internas x externas**: é um comparativo entre os profissionais que foram promovidos e as contratações feitas para compor funções de liderança.\n",
    "\n",
    "▪**10 - Relação HR para FTE**: O FTE (Full Time Equivalent) é utilizado para comparar os níveis de envolvimento de todos os colaboradores — Human Resources (HR) — independentemente de sua carga horária, de forma que indique a produtividade individual de acordo com as horas úteis trabalhadas.\n",
    "\n",
    "▪**11 - ROI de treinamentos**: O Retorno sobre Investimentos em Treinamentos é utilizado para medir se a aplicação em capacitação está elevando a qualidade dos resultados e reduzindo falhas, acidentes e prejuízos na companhia.\n",
    "\n",
    "▪**12 - Taxa de promoção**: Essa taxa é calculada a partir do plano de desenvolvimento individual (PDI) — medida estratégica de retenção de talentos — que é responsável pelas metas que cada colaborador tem e como ele deve fazer para alcançá-la.\n",
    "\n",
    "[FONTE](https://www.gupy.io/blog/indicadores-de-desempenho-rh)"
   ]
  },
  {
   "cell_type": "markdown",
   "metadata": {},
   "source": [
    "# **Busca por indicadores nos dados**"
   ]
  },
  {
   "cell_type": "markdown",
   "metadata": {},
   "source": [
    "# **1 - Absenteísmo**\n",
    "\n",
    "▪**Esse indicador é calculado a partir do número de dias em que o profissional esteve ausente dividido pelo total de dias úteis no período.**\n",
    "\n",
    "▪**fórmula (total de colaboradores x total de faltas e atrasos) ÷ (total de colaboradores x total de dias trabalhados)**"
   ]
  },
  {
   "cell_type": "code",
   "execution_count": 46,
   "metadata": {
    "ExecuteTime": {
     "end_time": "2021-04-06T21:39:00.169803Z",
     "start_time": "2021-04-06T21:39:00.087478Z"
    },
    "hide_input": true
   },
   "outputs": [
    {
     "data": {
      "text/plain": [
       "DaysLateLast30     129\n",
       "Absences          3184\n",
       "dtype: int64"
      ]
     },
     "execution_count": 46,
     "metadata": {},
     "output_type": "execute_result"
    }
   ],
   "source": [
    "# total de atrasos e faltas \n",
    "atr_fal = df1[['DaysLateLast30','Absences']].apply(np.sum)\n",
    "atr_fal"
   ]
  },
  {
   "cell_type": "code",
   "execution_count": 62,
   "metadata": {
    "ExecuteTime": {
     "end_time": "2021-04-06T22:00:13.712422Z",
     "start_time": "2021-04-06T22:00:13.653186Z"
    },
    "hide_input": true,
    "scrolled": true
   },
   "outputs": [
    {
     "name": "stdout",
     "output_type": "stream",
     "text": [
      "Número de colaboradores: 311\n",
      "Total de faltas e atrasos em média por cada colaborador: 10.652733118971062\n",
      "Total de dias trabalhados: 20\n"
     ]
    }
   ],
   "source": [
    "# CÁLCULO ABSENTEÍSMO\n",
    "\n",
    "# total de colaboradores 311\n",
    "colab = len(df1['Employee_Name'])\n",
    "print(f'Número de colaboradores: {colab}')\n",
    "\n",
    "# total de atrasos e faltas 3313 ÷ 311 colaboradores para sair na média de atrasos\n",
    "atr_fal = (129 + 3184) / 311\n",
    "print(f'Total de faltas e atrasos em média por cada colaborador: {atr_fal}')\n",
    "\n",
    "# total de 20 dias trabalhados por mês\n",
    "dia_trab = 20\n",
    "print(f'Total de dias trabalhados: {dia_trab}')"
   ]
  },
  {
   "cell_type": "code",
   "execution_count": 48,
   "metadata": {
    "ExecuteTime": {
     "end_time": "2021-04-06T21:39:00.284096Z",
     "start_time": "2021-04-06T21:39:00.258516Z"
    },
    "hide_input": true
   },
   "outputs": [
    {
     "name": "stdout",
     "output_type": "stream",
     "text": [
      "A taxa de absenteísmo na empresa é: 0.53%\n"
     ]
    }
   ],
   "source": [
    "# Criando uma função com a fórmula para acelerar o processo quando necessário o uso de outros cálculos da taxa de absenteísmo\n",
    "# Argumentos da função -  C = colaborador, A = atrasos, D = dias trabalhados\n",
    "absenteismo = lambda c, a, d: (c * a) / (c * d)\n",
    "\n",
    "# Utilizando a função para verificar sua capacidade, tem que dar o mesmo resultado anterior\n",
    "print(f'A taxa de absenteísmo na empresa é: {absenteismo(311,10.65,20):.2f}%')"
   ]
  },
  {
   "cell_type": "markdown",
   "metadata": {
    "hide_input": true
   },
   "source": [
    "# **2 - Clima organizacional**\n",
    "\n",
    "▪**Com ele, você consegue entender como está a percepção dos funcionários sobre o bem estar deles e como são tratados, além da satisfação e engajamento.**\n",
    "\n",
    "▪**É possível medir esse indicador por meio de pesquisas com os próprios colaboradores, que respondem questões baseadas no relacionamento com a liderança e com os pares, oportunidades de crescimento oferecidas pela empresa, realização das atividades do dia a dia, política salarial e de benefícios da instituição, entre outras.**"
   ]
  },
  {
   "cell_type": "code",
   "execution_count": 63,
   "metadata": {
    "ExecuteTime": {
     "end_time": "2021-04-06T22:06:10.161538Z",
     "start_time": "2021-04-06T22:06:10.066971Z"
    },
    "hide_input": true,
    "scrolled": true
   },
   "outputs": [
    {
     "name": "stdout",
     "output_type": "stream",
     "text": [
      "colaboradores: 311, engajamento: 1278.21\n"
     ]
    }
   ],
   "source": [
    "# Obtendo a soma de engajamento\n",
    "soma_engajamento = df1['EngagementSurvey'].sum()\n",
    "# Número de colaboradores\n",
    "numero_colab = len(df1['Employee_Name'])\n",
    "\n",
    "print(f'colaboradores: {numero_colab}, engajamento: {soma_engajamento}')"
   ]
  },
  {
   "cell_type": "code",
   "execution_count": 50,
   "metadata": {
    "ExecuteTime": {
     "end_time": "2021-04-06T21:39:00.368981Z",
     "start_time": "2021-04-06T21:39:00.342106Z"
    },
    "hide_input": true,
    "scrolled": true
   },
   "outputs": [
    {
     "name": "stdout",
     "output_type": "stream",
     "text": [
      "De 0 a 5 o clima organizacional na empresa é de: 4.11\n"
     ]
    }
   ],
   "source": [
    "# Criando função ARGUMENTOS -> E = somatório do engajamento, C = número de colaboradores\n",
    "clima_organizacional = lambda e, c: (e / c)\n",
    "\n",
    "# Utilizando\n",
    "print(f'De 0 a 5 o clima organizacional na empresa é de: {clima_organizacional(1278.21, 311)}')"
   ]
  },
  {
   "cell_type": "markdown",
   "metadata": {},
   "source": [
    "# **3 - Índice de retenção de talentos**\n",
    "\n",
    "▪**Esses dados são obtidos aplicando um questionário de avaliação de desempenho, preferencialmente calculando os resultados por setor e, com isso, detectar os problemas existentes e atuar de forma preventiva para que os melhores talentos não se desliguem da companhia.**"
   ]
  },
  {
   "cell_type": "code",
   "execution_count": 51,
   "metadata": {
    "ExecuteTime": {
     "end_time": "2021-04-06T21:39:02.372209Z",
     "start_time": "2021-04-06T21:39:00.385486Z"
    },
    "hide_input": true,
    "scrolled": true
   },
   "outputs": [
    {
     "data": {
      "image/png": "[encoded data removed]",
      "text/plain": [
       "<Figure size 432x288 with 1 Axes>"
      ]
     },
     "metadata": {
      "needs_background": "light"
     },
     "output_type": "display_data"
    }
   ],
   "source": [
    "# Filtrando os profissionais mais talentosos com a performance excelente e os agrupando e contando por cargos ocupados.\n",
    "colab_perform = df1[df1['PerformanceScore'] == 'Exceeds']\n",
    "# Filtrando apenas os profissionais ativos na empresa para não gerar um erro e aumentar a pontuação de forma inviável no momento \n",
    "colab_perform = colab_perform[colab_perform['EmploymentStatus'] == 'Active']\n",
    "# Agrupando os talentos ativos, pela contagem de performance excelente por cargo.\n",
    "Position_Talent = colab_perform.groupby(\n",
    "    'Position')['PerformanceScore'].value_counts()\n",
    "Position_Talent.plot(\n",
    "    kind='barh',\n",
    "    color='green',\n",
    "    title=\n",
    "    'Número de Principais Talentos Retidos com Performance Excelente por Profissão'\n",
    ");"
   ]
  },
  {
   "cell_type": "code",
   "execution_count": 64,
   "metadata": {
    "ExecuteTime": {
     "end_time": "2021-04-06T22:09:36.031532Z",
     "start_time": "2021-04-06T22:09:35.994737Z"
    },
    "hide_input": true,
    "scrolled": true
   },
   "outputs": [
    {
     "name": "stdout",
     "output_type": "stream",
     "text": [
      "Número de colaboradores excelentes: 29\n"
     ]
    }
   ],
   "source": [
    "# Número de registros de colaboradores com pontuação de performance excelente e ativos na empresa \n",
    "print(f'Número de colaboradores excelentes: {len(colab_perform)}')"
   ]
  },
  {
   "cell_type": "code",
   "execution_count": 66,
   "metadata": {
    "ExecuteTime": {
     "end_time": "2021-04-06T22:14:37.418189Z",
     "start_time": "2021-04-06T22:14:37.346352Z"
    },
    "hide_input": true,
    "scrolled": true
   },
   "outputs": [
    {
     "name": "stdout",
     "output_type": "stream",
     "text": [
      "Colaboradores com performance diferente de excelente: 178\n"
     ]
    }
   ],
   "source": [
    "# 29 registros de profissionais com performance excelente ativos na empresa\n",
    "# 311 registros de profissionais ao todo na empresa\n",
    "#\n",
    "# Vou dividir o número de profissionais em excelente performance pelos funcionários totais ativos e multiplicar por 100 para ter o índice de retenção de talentos\n",
    "# levando em conta apenas os profissionais ativos e não desligados\n",
    "\n",
    "# Selecionei os colaboradores ativos\n",
    "ativos = df1[df1['EmploymentStatus'] == 'Active']\n",
    "# Selecionei todos colaboradores com pontuação de performance diferente de excelente\n",
    "profi_nao_excelente = ativos[ativos['PerformanceScore'] != 'Exceeds']\n",
    "# Veja a contagem, 178 funcionários\n",
    "print(f'Colaboradores com performance diferente de excelente: {len(profi_nao_excelente.PerformanceScore)}')"
   ]
  },
  {
   "cell_type": "code",
   "execution_count": 54,
   "metadata": {
    "ExecuteTime": {
     "end_time": "2021-04-06T21:39:02.540803Z",
     "start_time": "2021-04-06T21:39:02.510050Z"
    },
    "hide_input": true
   },
   "outputs": [
    {
     "name": "stdout",
     "output_type": "stream",
     "text": [
      "O índice de retenção de talentos atual da empresa é: 16.29%\n"
     ]
    }
   ],
   "source": [
    "# Fórmula - Retenção de talentos % = profissionais exelentes ativos ÷ profissionais não excelentes ativos × 100\n",
    "# profissionais exelentes ativos = 29\n",
    "# profissionais não excelentes ativos = 178\n",
    "\n",
    "# Criando função para calcular índice de retenção de talentos\n",
    "retencao_talentos = lambda p_e_a, p_n_e_a: (p_e_a / p_n_e_a) * 100\n",
    "\n",
    "# Utilizando a função\n",
    "print(\n",
    "    f'O índice de retenção de talentos atual da empresa é: {retencao_talentos(29, 178):.2f}%'\n",
    ")"
   ]
  },
  {
   "cell_type": "markdown",
   "metadata": {},
   "source": [
    "# **4 - Índice de rotatividade**\n",
    "\n",
    "▪**O cálculo é feito da seguinte forma: somar o número de admissões e demissões em um determinado período, dividir esse resultado por 2 e dividir esse valor pelo número total de colaboradores da empresa.**"
   ]
  },
  {
   "cell_type": "code",
   "execution_count": 80,
   "metadata": {
    "ExecuteTime": {
     "end_time": "2021-04-06T22:26:54.306211Z",
     "start_time": "2021-04-06T22:26:54.243381Z"
    },
    "hide_input": true,
    "scrolled": true
   },
   "outputs": [
    {
     "name": "stdout",
     "output_type": "stream",
     "text": [
      "Quantidade de admitidos: 207\n",
      "Quantidade de demitidos: 16\n",
      "Total de colaboradores: 311\n",
      "O índice de rotatividade atual da empresa é: 0.69%\n"
     ]
    }
   ],
   "source": [
    "# Filtrando os profissionais admitidos por todo período\n",
    "admitidos = df1[df1['EmploymentStatus'] == 'Active'].values \n",
    "\n",
    "# Filtrando os profissionais demitidos por todo período\n",
    "demitidos = df1[df1['EmploymentStatus'] == 'Terminated for Cause'].values\n",
    "\n",
    "# Admitidos = 207\n",
    "print(f'Quantidade de admitidos: {len(admitidos)}')\n",
    "# Demitidos = 16\n",
    "print(f'Quantidade de demitidos: {len(demitidos)}')\n",
    "# Número total de colaboradores = 311\n",
    "print(f'Total de colaboradores: {311}')\n",
    "\n",
    "# Fórmula ->   ( Admitidos + Demitidos ÷ 2 ) ÷ Total de colaboradores na empresa.\n",
    "# Criando função\n",
    "rotatividade = lambda a, d, t: (a + d / 2) / t\n",
    "\n",
    "# Utilizando a função\n",
    "print(f'O índice de rotatividade atual da empresa é: {rotatividade(207,16,311):.2f}%')"
   ]
  },
  {
   "cell_type": "markdown",
   "metadata": {},
   "source": [
    "# **Observação** \n",
    "\n",
    "▪**Os 12 indicadores não foram calculados completamente por falta de dados que contribuíssem para tal.**"
   ]
  },
  {
   "cell_type": "markdown",
   "metadata": {},
   "source": [
    "# **CARGA**"
   ]
  },
  {
   "cell_type": "markdown",
   "metadata": {},
   "source": [
    "# Relatório HTML"
   ]
  },
  {
   "cell_type": "code",
   "execution_count": null,
   "metadata": {},
   "outputs": [],
   "source": []
  }
 ],
 "metadata": {
  "colab": {
   "collapsed_sections": [],
   "name": "RH_Insights_01.ipynb",
   "provenance": []
  },
  "hide_input": false,
  "kernelspec": {
   "display_name": "Python 3",
   "language": "python",
   "name": "python3"
  },
  "language_info": {
   "codemirror_mode": {
    "name": "ipython",
    "version": 3
   },
   "file_extension": ".py",
   "mimetype": "text/x-python",
   "name": "python",
   "nbconvert_exporter": "python",
   "pygments_lexer": "ipython3",
   "version": "3.8.3"
  },
  "varInspector": {
   "cols": {
    "lenName": 16,
    "lenType": 16,
    "lenVar": 40
   },
   "kernels_config": {
    "python": {
     "delete_cmd_postfix": "",
     "delete_cmd_prefix": "del ",
     "library": "var_list.py",
     "varRefreshCmd": "print(var_dic_list())"
    },
    "r": {
     "delete_cmd_postfix": ") ",
     "delete_cmd_prefix": "rm(",
     "library": "var_list.r",
     "varRefreshCmd": "cat(var_dic_list()) "
    }
   },
   "types_to_exclude": [
    "module",
    "function",
    "builtin_function_or_method",
    "instance",
    "_Feature"
   ],
   "window_display": false
  }
 },
 "nbformat": 4,
 "nbformat_minor": 4
}
